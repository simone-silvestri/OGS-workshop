{
 "cells": [
  {
   "cell_type": "markdown",
   "metadata": {},
   "source": [
    "# Baroclinic adjustment\n",
    "\n",
    "In this example, we simulate the evolution and equilibration of a baroclinically\n",
    "unstable front.\n",
    "\n",
    "## Install dependencies\n",
    "\n",
    "First let's make sure we have all required packages installed."
   ]
  },
  {
   "cell_type": "code",
   "execution_count": null,
   "metadata": {},
   "outputs": [],
   "source": [
    "using Pkg\n",
    "Pkg.activate(\"./\")\n",
    "pkg\"add Oceananigans#ss/for-drakkar\"\n",
    "pkg\"add GLMakie\"\n",
    "using Oceananigans\n",
    "using Oceananigans.Units"
   ]
  },
  {
   "cell_type": "markdown",
   "metadata": {},
   "source": [
    "## Grid"
   ]
  },
  {
   "cell_type": "markdown",
   "metadata": {},
   "source": [
    "We use a three-dimensional channel that is periodic in the `x` direction:"
   ]
  },
  {
   "cell_type": "code",
   "execution_count": null,
   "metadata": {},
   "outputs": [],
   "source": [
    "Lx = 1000kilometers # east-west extent [m]\n",
    "Ly = 1000kilometers # north-south extent [m]\n",
    "Lz = 1kilometers    # depth [m]\n",
    "\n",
    "grid = RectilinearGrid(size = (48, 48, 8),\n",
    "                       x = (0, Lx),\n",
    "                       y = (-Ly/2, Ly/2),\n",
    "                       z = (-Lz, 0),\n",
    "                       topology = (Periodic, Bounded, Bounded))"
   ]
  },
  {
   "cell_type": "markdown",
   "metadata": {},
   "source": [
    "## Model"
   ]
  },
  {
   "cell_type": "markdown",
   "metadata": {},
   "source": [
    "We built a `HydrostaticFreeSurfaceModel` with an `ImplicitFreeSurface` solver.\n",
    "Regarding Coriolis, we use a beta-plane centered at 45° South."
   ]
  },
  {
   "cell_type": "code",
   "execution_count": null,
   "metadata": {},
   "outputs": [],
   "source": [
    "model = HydrostaticFreeSurfaceModel(; grid,\n",
    "                                    coriolis = BetaPlane(latitude = -45),\n",
    "                                    buoyancy = BuoyancyTracer(),\n",
    "                                    timestepper = :QuasiAdamsBashforth2,\n",
    "                                    tracers = :b,\n",
    "                                    free_surface = ImplicitFreeSurface(),\n",
    "                                    momentum_advection = WENO(),\n",
    "                                    tracer_advection = WENO())"
   ]
  },
  {
   "cell_type": "markdown",
   "metadata": {},
   "source": [
    "We start our simulation from rest with a baroclinically unstable buoyancy distribution.\n",
    "We use `ramp(y, Δy)`, defined below, to specify a front with width `Δy`\n",
    "and horizontal buoyancy gradient `M²`. We impose the front on top of a\n",
    "vertical buoyancy gradient `N²` and a bit of noise."
   ]
  },
  {
   "cell_type": "code",
   "execution_count": null,
   "metadata": {},
   "outputs": [],
   "source": [
    "\"\"\"\n",
    "    ramp(y, Δy)\n",
    "\n",
    "Linear ramp from 0 to 1 between -Δy/2 and +Δy/2.\n",
    "\n",
    "For example:\n",
    "```\n",
    "            y < -Δy/2 => ramp = 0\n",
    "    -Δy/2 < y < -Δy/2 => ramp = y / Δy\n",
    "            y >  Δy/2 => ramp = 1\n",
    "```\n",
    "\"\"\"\n",
    "ramp(y, Δy) = min(max(0, y/Δy + 1/2), 1)\n",
    "\n",
    "N² = 1e-5 # [s⁻²] buoyancy frequency / stratification\n",
    "M² = 1e-7 # [s⁻²] horizontal buoyancy gradient\n",
    "\n",
    "Δy = 100kilometers # width of the region of the front\n",
    "Δb = Δy * M²       # buoyancy jump associated with the front\n",
    "ϵb = 1e-2 * Δb     # noise amplitude\n",
    "\n",
    "bᵢ(x, y, z) = N² * z + Δb * ramp(y, Δy) + ϵb * randn()\n",
    "\n",
    "set!(model, b=bᵢ)"
   ]
  },
  {
   "cell_type": "markdown",
   "metadata": {},
   "source": [
    "Let's visualize the initial buoyancy distribution."
   ]
  },
  {
   "cell_type": "code",
   "execution_count": null,
   "metadata": {},
   "outputs": [],
   "source": [
    "using GLMakie\n",
    "\n",
    "# Build coordinates with units of kilometers\n",
    "x, y, z = 1e-3 .* nodes(grid, (Center(), Center(), Center()))\n",
    "\n",
    "b = model.tracers.b\n",
    "\n",
    "fig, ax, hm = heatmap(view(b, 1, :, :),\n",
    "                      colormap = :deep,\n",
    "                      axis = (xlabel = \"y [km]\",\n",
    "                              ylabel = \"z [km]\",\n",
    "                              title = \"b(x=0, y, z, t=0)\",\n",
    "                              titlesize = 24))\n",
    "\n",
    "Colorbar(fig[1, 2], hm, label = \"[m s⁻²]\")\n",
    "\n",
    "current_figure() #hide\n",
    "fig"
   ]
  },
  {
   "cell_type": "markdown",
   "metadata": {},
   "source": [
    "## Simulation\n",
    "\n",
    "Now let's build a `Simulation`."
   ]
  },
  {
   "cell_type": "code",
   "execution_count": null,
   "metadata": {},
   "outputs": [],
   "source": [
    "simulation = Simulation(model, Δt=40minutes, stop_time=40days)"
   ]
  },
  {
   "cell_type": "markdown",
   "metadata": {},
   "source": [
    "and add a callback to print a message about how the simulation is going,"
   ]
  },
  {
   "cell_type": "code",
   "execution_count": null,
   "metadata": {},
   "outputs": [],
   "source": [
    "using Printf\n",
    "\n",
    "wall_clock = Ref(time_ns())\n",
    "\n",
    "function print_progress(sim)\n",
    "    u, v, w = model.velocities\n",
    "    progress = 100 * (time(sim) / sim.stop_time)\n",
    "    elapsed = (time_ns() - wall_clock[]) / 1e9\n",
    "\n",
    "    @printf(\"[%05.2f%%] i: %d, t: %s, wall time: %s, max(u): (%6.3e, %6.3e, %6.3e) m/s, next Δt: %s\\n\",\n",
    "            progress, iteration(sim), prettytime(sim), prettytime(elapsed),\n",
    "            maximum(abs, u), maximum(abs, v), maximum(abs, w), prettytime(sim.Δt))\n",
    "\n",
    "    wall_clock[] = time_ns()\n",
    "\n",
    "    return nothing\n",
    "end\n",
    "\n",
    "add_callback!(simulation, print_progress, IterationInterval(100))"
   ]
  },
  {
   "cell_type": "markdown",
   "metadata": {},
   "source": [
    "## Diagnostics/Output\n",
    "\n",
    "Here, we save the buoyancy, $b$, at the edges of our domain as well as\n",
    "the zonal ($x$) average of buoyancy."
   ]
  },
  {
   "cell_type": "code",
   "execution_count": null,
   "metadata": {},
   "outputs": [],
   "source": [
    "u, v, w = model.velocities\n",
    "ζ = ∂x(v) - ∂y(u)\n",
    "B = Average(b, dims=1)\n",
    "U = Average(u, dims=1)\n",
    "V = Average(v, dims=1)"
   ]
  },
  {
   "cell_type": "markdown",
   "metadata": {},
   "source": [
    "We then set up output writers for the east, north, bottom, and top surfaces, as well as zonal averages."
   ]
  },
  {
   "cell_type": "code",
   "execution_count": null,
   "metadata": {},
   "outputs": [],
   "source": [
    "filename = \"baroclinic_adjustment\"\n",
    "save_fields_interval = 0.5day\n",
    "\n",
    "slicers = (east = (grid.Nx, :, :),\n",
    "           north = (:, grid.Ny, :),\n",
    "           bottom = (:, :, 1),\n",
    "           top = (:, :, grid.Nz))\n",
    "\n",
    "for side in keys(slicers)\n",
    "    indices = slicers[side]\n",
    "\n",
    "    simulation.output_writers[side] = JLD2OutputWriter(model, (; b, ζ);\n",
    "                                                       filename = filename * \"_$(side)_slice\",\n",
    "                                                       schedule = TimeInterval(save_fields_interval),\n",
    "                                                       overwrite_existing = true,\n",
    "                                                       indices)\n",
    "end\n",
    "\n",
    "simulation.output_writers[:zonal] = JLD2OutputWriter(model, (; b=B, u=U, v=V);\n",
    "                                                     filename = filename * \"_zonal_average\",\n",
    "                                                     schedule = TimeInterval(save_fields_interval),\n",
    "                                                     overwrite_existing = true)"
   ]
  },
  {
   "cell_type": "markdown",
   "metadata": {},
   "source": [
    "Now we're ready to _run_."
   ]
  },
  {
   "cell_type": "code",
   "execution_count": null,
   "metadata": {},
   "outputs": [],
   "source": [
    "@info \"Running the simulation...\"\n",
    "\n",
    "run!(simulation)\n",
    "\n",
    "@info \"Simulation completed in \" * prettytime(simulation.run_wall_time)"
   ]
  },
  {
   "cell_type": "markdown",
   "metadata": {},
   "source": [
    "## Visualization\n",
    "\n",
    "All that's left is to make a pretty movie.\n",
    "Actually, we make two visualizations here. First, we illustrate how to make a\n",
    "3D visualization with `Makie`'s `Axis3` and `Makie.surface`. Then we make a movie in 2D.\n",
    "We use `GLMakie` in this example, but note that if we do not have a system with OpenGL we need\n",
    "to use the headless version `using CairoMakie`."
   ]
  },
  {
   "cell_type": "code",
   "execution_count": null,
   "metadata": {},
   "outputs": [],
   "source": [
    "using GLMakie"
   ]
  },
  {
   "cell_type": "markdown",
   "metadata": {},
   "source": [
    "### Three-dimensional visualization\n",
    "\n",
    "We load the saved buoyancy output on the top, north, and east surface as `FieldTimeSeries`es."
   ]
  },
  {
   "cell_type": "code",
   "execution_count": null,
   "metadata": {},
   "outputs": [],
   "source": [
    "filename = \"baroclinic_adjustment\"\n",
    "\n",
    "sides = keys(slicers)\n",
    "\n",
    "slice_filenames = NamedTuple(side => filename * \"_$(side)_slice.jld2\" for side in sides)\n",
    "\n",
    "b_timeserieses = (east   = FieldTimeSeries(slice_filenames.east, \"b\"),\n",
    "                  north  = FieldTimeSeries(slice_filenames.north, \"b\"),\n",
    "                  top    = FieldTimeSeries(slice_filenames.top, \"b\"))\n",
    "\n",
    "B_timeseries = FieldTimeSeries(filename * \"_zonal_average.jld2\", \"b\")\n",
    "\n",
    "times = B_timeseries.times\n",
    "grid = B_timeseries.grid"
   ]
  },
  {
   "cell_type": "markdown",
   "metadata": {},
   "source": [
    "We build the coordinates. We rescale horizontal coordinates to kilometers."
   ]
  },
  {
   "cell_type": "code",
   "execution_count": null,
   "metadata": {},
   "outputs": [],
   "source": [
    "xb, yb, zb = nodes(b_timeserieses.east)\n",
    "\n",
    "xb = xb ./ 1e3 # convert m -> km\n",
    "yb = yb ./ 1e3 # convert m -> km\n",
    "\n",
    "Nx, Ny, Nz = size(grid)\n",
    "\n",
    "x_xz = repeat(x, 1, Nz)\n",
    "y_xz_north = y[end] * ones(Nx, Nz)\n",
    "z_xz = repeat(reshape(z, 1, Nz), Nx, 1)\n",
    "\n",
    "x_yz_east = x[end] * ones(Ny, Nz)\n",
    "y_yz = repeat(y, 1, Nz)\n",
    "z_yz = repeat(reshape(z, 1, Nz), grid.Ny, 1)\n",
    "\n",
    "x_xy = x\n",
    "y_xy = y\n",
    "z_xy_top = z[end] * ones(grid.Nx, grid.Ny)\n",
    "nothing #hide"
   ]
  },
  {
   "cell_type": "markdown",
   "metadata": {},
   "source": [
    "Then we create a 3D axis. We use `zonal_slice_displacement` to control where the plot of the instantaneous\n",
    "zonal average flow is located."
   ]
  },
  {
   "cell_type": "code",
   "execution_count": null,
   "metadata": {},
   "outputs": [],
   "source": [
    "fig = Figure(size = (1600, 800))\n",
    "\n",
    "zonal_slice_displacement = 1.2\n",
    "\n",
    "ax = Axis3(fig[2, 1],\n",
    "           aspect=(1, 1, 1/5),\n",
    "           xlabel = \"x (km)\",\n",
    "           ylabel = \"y (km)\",\n",
    "           zlabel = \"z (m)\",\n",
    "           xlabeloffset = 100,\n",
    "           ylabeloffset = 100,\n",
    "           zlabeloffset = 100,\n",
    "           limits = ((x[1], zonal_slice_displacement * x[end]), (y[1], y[end]), (z[1], z[end])),\n",
    "           elevation = 0.45,\n",
    "           azimuth = 6.8,\n",
    "           xspinesvisible = false,\n",
    "           zgridvisible = false,\n",
    "           protrusions = 40,\n",
    "           perspectiveness = 0.7)"
   ]
  },
  {
   "cell_type": "markdown",
   "metadata": {},
   "source": [
    "We use data from the final savepoint for the 3D plot.\n",
    "Note that this plot can easily be animated by using Makie's `Observable`.\n",
    "To dive into `Observable`s, check out\n",
    "[Makie.jl's Documentation](https://makie.juliaplots.org/stable/documentation/nodes/index.html)."
   ]
  },
  {
   "cell_type": "code",
   "execution_count": null,
   "metadata": {},
   "outputs": [],
   "source": [
    "n = length(times)"
   ]
  },
  {
   "cell_type": "markdown",
   "metadata": {},
   "source": [
    "Now let's make a 3D plot of the buoyancy and in front of it we'll use the zonally-averaged output\n",
    "to plot the instantaneous zonal-average of the buoyancy."
   ]
  },
  {
   "cell_type": "code",
   "execution_count": null,
   "metadata": {},
   "outputs": [],
   "source": [
    "b_slices = (east   = interior(b_timeserieses.east[n], 1, :, :),\n",
    "            north  = interior(b_timeserieses.north[n], :, 1, :),\n",
    "            top    = interior(b_timeserieses.top[n], :, :, 1))\n",
    "\n",
    "# Zonally-averaged buoyancy\n",
    "B = interior(B_timeseries[n], 1, :, :)\n",
    "\n",
    "clims = 1.1 .* extrema(b_timeserieses.top[n][:])\n",
    "\n",
    "kwargs = (colorrange=clims, colormap=:deep, shading=NoShading)\n",
    "\n",
    "surface!(ax, x_yz_east, y_yz, z_yz;  color = b_slices.east, kwargs...)\n",
    "surface!(ax, x_xz, y_xz_north, z_xz; color = b_slices.north, kwargs...)\n",
    "surface!(ax, x_xy, y_xy, z_xy_top;   color = b_slices.top, kwargs...)\n",
    "\n",
    "sf = surface!(ax, zonal_slice_displacement .* x_yz_east, y_yz, z_yz; color = B, kwargs...)\n",
    "\n",
    "contour!(ax, y, z, B; transformation = (:yz, zonal_slice_displacement * x[end]),\n",
    "         levels = 15, linewidth = 2, color = :black)\n",
    "\n",
    "Colorbar(fig[2, 2], sf, label = \"m s⁻²\", height = Relative(0.4), tellheight=false)\n",
    "\n",
    "title = \"Buoyancy at t = \" * string(round(times[n] / day, digits=1)) * \" days\"\n",
    "fig[1, 1:2] = Label(fig, title; fontsize = 24, tellwidth = false, padding = (0, 0, -120, 0))\n",
    "\n",
    "rowgap!(fig.layout, 1, Relative(-0.2))\n",
    "colgap!(fig.layout, 1, Relative(-0.1))\n",
    "\n",
    "save(\"baroclinic_adjustment_3d.png\", fig)\n",
    "nothing #hide"
   ]
  },
  {
   "cell_type": "markdown",
   "metadata": {},
   "source": [
    "![](baroclinic_adjustment_3d.png)"
   ]
  },
  {
   "cell_type": "markdown",
   "metadata": {},
   "source": [
    "### Two-dimensional movie\n",
    "\n",
    "We make a 2D movie that shows buoyancy $b$ and vertical vorticity $ζ$ at the surface,\n",
    "as well as the zonally-averaged zonal and meridional velocities $U$ and $V$ in the\n",
    "$(y, z)$ plane. First we load the `FieldTimeSeries` and extract the additional coordinates\n",
    "we'll need for plotting"
   ]
  },
  {
   "cell_type": "code",
   "execution_count": null,
   "metadata": {},
   "outputs": [],
   "source": [
    "ζ_timeseries = FieldTimeSeries(slice_filenames.top, \"ζ\")\n",
    "U_timeseries = FieldTimeSeries(filename * \"_zonal_average.jld2\", \"u\")\n",
    "B_timeseries = FieldTimeSeries(filename * \"_zonal_average.jld2\", \"b\")\n",
    "V_timeseries = FieldTimeSeries(filename * \"_zonal_average.jld2\", \"v\")\n",
    "\n",
    "xζ, yζ, zζ = nodes(ζ_timeseries)\n",
    "yv = ynodes(V_timeseries)\n",
    "\n",
    "xζ = xζ ./ 1e3 # convert m -> km\n",
    "yζ = yζ ./ 1e3 # convert m -> km\n",
    "yv = yv ./ 1e3 # convert m -> km"
   ]
  },
  {
   "cell_type": "markdown",
   "metadata": {},
   "source": [
    "Next, we set up a plot with 4 panels. The top panels are large and square, while\n",
    "the bottom panels get a reduced aspect ratio through `rowsize!`."
   ]
  },
  {
   "cell_type": "code",
   "execution_count": null,
   "metadata": {},
   "outputs": [],
   "source": [
    "set_theme!(Theme(fontsize=24))\n",
    "\n",
    "fig = Figure(size=(1800, 1000))\n",
    "\n",
    "axb = Axis(fig[1, 2], xlabel=\"x (km)\", ylabel=\"y (km)\", aspect=1)\n",
    "axζ = Axis(fig[1, 3], xlabel=\"x (km)\", ylabel=\"y (km)\", aspect=1, yaxisposition=:right)\n",
    "\n",
    "axu = Axis(fig[2, 2], xlabel=\"y (km)\", ylabel=\"z (m)\")\n",
    "axv = Axis(fig[2, 3], xlabel=\"y (km)\", ylabel=\"z (m)\", yaxisposition=:right)\n",
    "\n",
    "rowsize!(fig.layout, 2, Relative(0.3))"
   ]
  },
  {
   "cell_type": "markdown",
   "metadata": {},
   "source": [
    "To prepare a plot for animation, we index the timeseries with an `Observable`,"
   ]
  },
  {
   "cell_type": "code",
   "execution_count": null,
   "metadata": {},
   "outputs": [],
   "source": [
    "n = Observable(1)\n",
    "\n",
    "b_top = @lift interior(b_timeserieses.top[$n], :, :, 1)\n",
    "ζ_top = @lift interior(ζ_timeseries[$n], :, :, 1)\n",
    "U = @lift interior(U_timeseries[$n], 1, :, :)\n",
    "V = @lift interior(V_timeseries[$n], 1, :, :)\n",
    "B = @lift interior(B_timeseries[$n], 1, :, :)"
   ]
  },
  {
   "cell_type": "markdown",
   "metadata": {},
   "source": [
    "and then build our plot:"
   ]
  },
  {
   "cell_type": "code",
   "execution_count": null,
   "metadata": {},
   "outputs": [],
   "source": [
    "hm = heatmap!(axb, xb, yb, b_top, colorrange=(0, Δb), colormap=:thermal)\n",
    "Colorbar(fig[1, 1], hm, flipaxis=false, label=\"Surface b(x, y) (m s⁻²)\")\n",
    "\n",
    "hm = heatmap!(axζ, xζ, yζ, ζ_top, colorrange=(-5e-5, 5e-5), colormap=:balance)\n",
    "Colorbar(fig[1, 4], hm, label=\"Surface ζ(x, y) (s⁻¹)\")\n",
    "\n",
    "hm = heatmap!(axu, yb, zb, U; colorrange=(-5e-1, 5e-1), colormap=:balance)\n",
    "Colorbar(fig[2, 1], hm, flipaxis=false, label=\"Zonally-averaged U(y, z) (m s⁻¹)\")\n",
    "contour!(axu, yb, zb, B; levels=15, color=:black)\n",
    "\n",
    "hm = heatmap!(axv, yv, zb, V; colorrange=(-1e-1, 1e-1), colormap=:balance)\n",
    "Colorbar(fig[2, 4], hm, label=\"Zonally-averaged V(y, z) (m s⁻¹)\")\n",
    "contour!(axv, yb, zb, B; levels=15, color=:black)\n",
    "nothing #hide"
   ]
  },
  {
   "cell_type": "markdown",
   "metadata": {},
   "source": [
    "Finally, we're ready to record the movie."
   ]
  },
  {
   "cell_type": "code",
   "execution_count": null,
   "metadata": {},
   "outputs": [],
   "source": [
    "frames = 1:length(times)\n",
    "\n",
    "record(fig, filename * \".mp4\", frames, framerate=8) do nn\n",
    "    mod(nn, 10) == 0 && @info \"Drawing frame $nn of $(length(frames))...\"\n",
    "    n[] = nn\n",
    "end"
   ]
  },
  {
   "cell_type": "markdown",
   "metadata": {},
   "source": [
    "![](baroclinic_adjustment.mp4)"
   ]
  },
  {
   "cell_type": "markdown",
   "metadata": {},
   "source": [
    "---\n",
    "\n",
    "*This notebook was generated using [Literate.jl](https://github.com/fredrikekre/Literate.jl).*"
   ]
  }
 ],
 "metadata": {
  "kernelspec": {
   "display_name": "Julia 1.10.8",
   "language": "julia",
   "name": "julia-1.10"
  },
  "language_info": {
   "file_extension": ".jl",
   "mimetype": "application/julia",
   "name": "julia",
   "version": "1.10.8"
  }
 },
 "nbformat": 4,
 "nbformat_minor": 4
}

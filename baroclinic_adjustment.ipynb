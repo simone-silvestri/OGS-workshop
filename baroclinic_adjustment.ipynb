{
 "cells": [
  {
   "cell_type": "markdown",
   "metadata": {},
   "source": [
    "# Baroclinic adjustment\n",
    "\n",
    "In this example, we simulate the evolution and equilibration of a baroclinically\n",
    "unstable front.\n",
    "\n",
    "## Install dependencies\n",
    "\n",
    "First let's make sure we have all required packages installed."
   ]
  },
  {
   "cell_type": "code",
   "execution_count": 1,
   "metadata": {},
   "outputs": [
    {
     "name": "stderr",
     "output_type": "stream",
     "text": [
      "\u001b[32m\u001b[1m  Activating\u001b[22m\u001b[39m project at `~/development/OGS-workshop`\n",
      "\u001b[32m\u001b[1m    Updating\u001b[22m\u001b[39m git-repo `https://github.com/CliMA/Oceananigans.jl.git`\n",
      "\u001b[32m\u001b[1m   Resolving\u001b[22m\u001b[39m package versions...\n",
      "\u001b[32m\u001b[1m    Updating\u001b[22m\u001b[39m `~/development/OGS-workshop/Project.toml`\n",
      "  \u001b[90m[9e8cae18] \u001b[39m\u001b[93m~ Oceananigans v0.95.26 `https://github.com/CliMA/Oceananigans.jl.git#ss/for-drakkar` ⇒ v0.95.26 `https://github.com/CliMA/Oceananigans.jl.git#ss/for-drakkar`\u001b[39m\n",
      "\u001b[32m\u001b[1m    Updating\u001b[22m\u001b[39m `~/development/OGS-workshop/Manifest.toml`\n",
      "  \u001b[90m[9e8cae18] \u001b[39m\u001b[93m~ Oceananigans v0.95.26 `https://github.com/CliMA/Oceananigans.jl.git#ss/for-drakkar` ⇒ v0.95.26 `https://github.com/CliMA/Oceananigans.jl.git#ss/for-drakkar`\u001b[39m\n",
      "\u001b[32m\u001b[1mPrecompiling\u001b[22m\u001b[39m packages...\n",
      "    360.9 ms\u001b[32m  ✓ \u001b[39m\u001b[90mAdapt\u001b[39m\n",
      "    433.4 ms\u001b[32m  ✓ \u001b[39m\u001b[90mBlosc_jll\u001b[39m\n",
      "    609.7 ms\u001b[32m  ✓ \u001b[39m\u001b[90mAccessors → IntervalSetsExt\u001b[39m\n",
      "    645.2 ms\u001b[32m  ✓ \u001b[39m\u001b[90mStatic\u001b[39m\n",
      "    656.1 ms\u001b[32m  ✓ \u001b[39m\u001b[90mRoots → RootsChainRulesCoreExt\u001b[39m\n",
      "    847.6 ms\u001b[32m  ✓ \u001b[39m\u001b[90mOffsetArrays\u001b[39m\n",
      "    919.4 ms\u001b[32m  ✓ \u001b[39m\u001b[90mAccessors → UnitfulExt\u001b[39m\n",
      "    383.6 ms\u001b[32m  ✓ \u001b[39m\u001b[90mGPUArraysCore\u001b[39m\n",
      "    452.3 ms\u001b[32m  ✓ \u001b[39m\u001b[90mStructArrays → StructArraysAdaptExt\u001b[39m\n",
      "    550.1 ms\u001b[32m  ✓ \u001b[39m\u001b[90mAdapt → AdaptSparseArraysExt\u001b[39m\n",
      "    747.4 ms\u001b[32m  ✓ \u001b[39m\u001b[90mAdapt → AdaptStaticArraysExt\u001b[39m\n",
      "    537.1 ms\u001b[32m  ✓ \u001b[39m\u001b[90mBitTwiddlingConvenienceFunctions\u001b[39m\n",
      "    503.3 ms\u001b[32m  ✓ \u001b[39m\u001b[90mCPUSummary\u001b[39m\n",
      "    996.7 ms\u001b[32m  ✓ \u001b[39m\u001b[90mNetCDF_jll\u001b[39m\n",
      "    529.6 ms\u001b[32m  ✓ \u001b[39m\u001b[90mOffsetArrays → OffsetArraysAdaptExt\u001b[39m\n",
      "    522.7 ms\u001b[32m  ✓ \u001b[39m\u001b[90mStackViews\u001b[39m\n",
      "    360.6 ms\u001b[32m  ✓ \u001b[39m\u001b[90mPaddedViews\u001b[39m\n",
      "    926.6 ms\u001b[32m  ✓ \u001b[39m\u001b[90mStaticArrayInterface\u001b[39m\n",
      "   2085.2 ms\u001b[32m  ✓ \u001b[39m\u001b[90mIntervalArithmetic\u001b[39m\n",
      "    513.4 ms\u001b[32m  ✓ \u001b[39m\u001b[90mArrayInterface → ArrayInterfaceGPUArraysCoreExt\u001b[39m\n",
      "    784.2 ms\u001b[32m  ✓ \u001b[39m\u001b[90mDiskArrays\u001b[39m\n",
      "    742.5 ms\u001b[32m  ✓ \u001b[39m\u001b[90mHostCPUFeatures\u001b[39m\n",
      "    915.0 ms\u001b[32m  ✓ \u001b[39m\u001b[90mPolyesterWeave\u001b[39m\n",
      "    367.8 ms\u001b[32m  ✓ \u001b[39m\u001b[90mCloseOpenIntervals\u001b[39m\n",
      "    770.1 ms\u001b[32m  ✓ \u001b[39m\u001b[90mStaticArrayInterface → StaticArrayInterfaceOffsetArraysExt\u001b[39m\n",
      "   1329.6 ms\u001b[32m  ✓ \u001b[39m\u001b[90mMosaicViews\u001b[39m\n",
      "   1294.8 ms\u001b[32m  ✓ \u001b[39m\u001b[90mStaticArrayInterface → StaticArrayInterfaceStaticArraysExt\u001b[39m\n",
      "    492.1 ms\u001b[32m  ✓ \u001b[39m\u001b[90mLayoutPointers\u001b[39m\n",
      "   2238.8 ms\u001b[32m  ✓ \u001b[39m\u001b[90mKernelAbstractions\u001b[39m\n",
      "   1928.3 ms\u001b[32m  ✓ \u001b[39m\u001b[90mInterpolations\u001b[39m\n",
      "    893.6 ms\u001b[32m  ✓ \u001b[39m\u001b[90mTaylorSeries → TaylorSeriesIAExt\u001b[39m\n",
      "    757.4 ms\u001b[32m  ✓ \u001b[39m\u001b[90mTiledIteration\u001b[39m\n",
      "   4440.5 ms\u001b[32m  ✓ \u001b[39m\u001b[90mDistributions\u001b[39m\n",
      "   2304.0 ms\u001b[32m  ✓ \u001b[39m\u001b[90mExactPredicates\u001b[39m\n",
      "   1232.0 ms\u001b[32m  ✓ \u001b[39m\u001b[90mKernelAbstractions → LinearAlgebraExt\u001b[39m\n",
      "   1281.5 ms\u001b[32m  ✓ \u001b[39m\u001b[90mDistributions → DistributionsTestExt\u001b[39m\n",
      "   1514.4 ms\u001b[32m  ✓ \u001b[39m\u001b[90mInterpolations → InterpolationsUnitfulExt\u001b[39m\n",
      "    862.5 ms\u001b[32m  ✓ \u001b[39m\u001b[90mDistributions → DistributionsChainRulesCoreExt\u001b[39m\n",
      "   3287.7 ms\u001b[32m  ✓ \u001b[39m\u001b[90mNCDatasets\u001b[39m\n",
      "    959.6 ms\u001b[32m  ✓ \u001b[39m\u001b[90mKernelAbstractions → SparseArraysExt\u001b[39m\n",
      "    867.2 ms\u001b[32m  ✓ \u001b[39m\u001b[90mStructArrays → StructArraysGPUArraysCoreExt\u001b[39m\n",
      "   1389.0 ms\u001b[32m  ✓ \u001b[39m\u001b[90mThermodynamics\u001b[39m\n",
      "   1541.1 ms\u001b[32m  ✓ \u001b[39m\u001b[90mKernelDensity\u001b[39m\n",
      "   1175.3 ms\u001b[32m  ✓ \u001b[39m\u001b[90mSurfaceFluxes\u001b[39m\n",
      "   3395.1 ms\u001b[32m  ✓ \u001b[39m\u001b[90mDelaunayTriangulation\u001b[39m\n",
      "   2537.3 ms\u001b[32m  ✓ \u001b[39m\u001b[90mGPUArrays\u001b[39m\n",
      "   5763.2 ms\u001b[32m  ✓ \u001b[39m\u001b[90mVectorizationBase\u001b[39m\n",
      "    940.5 ms\u001b[32m  ✓ \u001b[39m\u001b[90mSLEEFPirates\u001b[39m\n",
      "  10575.3 ms\u001b[32m  ✓ \u001b[39m\u001b[90mImageCore\u001b[39m\n",
      "   1719.8 ms\u001b[32m  ✓ \u001b[39m\u001b[90mSixel\u001b[39m\n",
      "   1727.8 ms\u001b[32m  ✓ \u001b[39m\u001b[90mWebP\u001b[39m\n",
      "   1783.6 ms\u001b[32m  ✓ \u001b[39m\u001b[90mJpegTurbo\u001b[39m\n",
      "   1861.3 ms\u001b[32m  ✓ \u001b[39m\u001b[90mImageBase\u001b[39m\n",
      "   2807.8 ms\u001b[32m  ✓ \u001b[39m\u001b[90mPNGFiles\u001b[39m\n",
      "   1639.3 ms\u001b[32m  ✓ \u001b[39m\u001b[90mImageAxes\u001b[39m\n",
      "   1196.4 ms\u001b[32m  ✓ \u001b[39m\u001b[90mImageMetadata\u001b[39m\n",
      "   1237.1 ms\u001b[32m  ✓ \u001b[39m\u001b[90mNetpbm\u001b[39m\n",
      "  10837.8 ms\u001b[32m  ✓ \u001b[39m\u001b[90mLoopVectorization\u001b[39m\n",
      "    865.0 ms\u001b[32m  ✓ \u001b[39m\u001b[90mLoopVectorization → SpecialFunctionsExt\u001b[39m\n",
      "    902.6 ms\u001b[32m  ✓ \u001b[39m\u001b[90mLoopVectorization → ForwardDiffExt\u001b[39m\n",
      "   2234.1 ms\u001b[32m  ✓ \u001b[39m\u001b[90mImageMorphology\u001b[39m\n",
      "  25872.9 ms\u001b[32m  ✓ \u001b[39m\u001b[90mTiffImages\u001b[39m\n",
      "  31907.7 ms\u001b[32m  ✓ \u001b[39m\u001b[90mCUDA\u001b[39m\n",
      "   3064.9 ms\u001b[32m  ✓ \u001b[39m\u001b[90mAtomix → AtomixCUDAExt\u001b[39m\n",
      "   2640.8 ms\u001b[32m  ✓ \u001b[39m\u001b[90mMPI → CUDAExt\u001b[39m\n",
      "   2639.4 ms\u001b[32m  ✓ \u001b[39m\u001b[90mArrayInterface → ArrayInterfaceCUDAExt\u001b[39m\n",
      "   2672.7 ms\u001b[32m  ✓ \u001b[39m\u001b[90mCUDA → ChainRulesCoreExt\u001b[39m\n",
      "   2712.7 ms\u001b[32m  ✓ \u001b[39m\u001b[90mCUDA → SpecialFunctionsExt\u001b[39m\n",
      "  15993.6 ms\u001b[32m  ✓ \u001b[39mOceananigans\n",
      "   4920.6 ms\u001b[32m  ✓ \u001b[39m\u001b[90mClimaSeaIce\u001b[39m\n",
      "   7617.5 ms\u001b[32m  ✓ \u001b[39mClimaOcean\n",
      "  64118.2 ms\u001b[32m  ✓ \u001b[39m\u001b[90mMakie\u001b[39m\n",
      "   8320.8 ms\u001b[32m  ✓ \u001b[39mOceananigans → OceananigansMakieExt\n",
      "  24798.4 ms\u001b[32m  ✓ \u001b[39mCairoMakie\n",
      "  74 dependencies successfully precompiled in 118 seconds. 325 already precompiled.\n",
      "\u001b[32m\u001b[1m   Resolving\u001b[22m\u001b[39m package versions...\n",
      "\u001b[32m\u001b[1m  No Changes\u001b[22m\u001b[39m to `~/development/OGS-workshop/Project.toml`\n",
      "\u001b[32m\u001b[1m  No Changes\u001b[22m\u001b[39m to `~/development/OGS-workshop/Manifest.toml`\n"
     ]
    }
   ],
   "source": [
    "using Pkg\n",
    "Pkg.activate(\"./\")\n",
    "pkg\"add Oceananigans#ss/for-drakkar\"\n",
    "pkg\"add GLMakie\"\n",
    "using Oceananigans\n",
    "using Oceananigans.Units"
   ]
  },
  {
   "cell_type": "markdown",
   "metadata": {},
   "source": [
    "## Grid"
   ]
  },
  {
   "cell_type": "markdown",
   "metadata": {},
   "source": [
    "We use a three-dimensional channel that is periodic in the `x` direction:"
   ]
  },
  {
   "cell_type": "code",
   "execution_count": 2,
   "metadata": {},
   "outputs": [
    {
     "data": {
      "text/plain": [
       "48×48×8 RectilinearGrid{Float64, Periodic, Bounded, Bounded} on CPU with 3×3×3 halo\n",
       "├── Periodic x ∈ [0.0, 1.0e6)          regularly spaced with Δx=20833.3\n",
       "├── Bounded  y ∈ [-500000.0, 500000.0] regularly spaced with Δy=20833.3\n",
       "└── Bounded  z ∈ [-1000.0, 0.0]        regularly spaced with Δz=125.0"
      ]
     },
     "execution_count": 2,
     "metadata": {},
     "output_type": "execute_result"
    }
   ],
   "source": [
    "Lx = 1000kilometers # east-west extent [m]\n",
    "Ly = 1000kilometers # north-south extent [m]\n",
    "Lz = 1kilometers    # depth [m]\n",
    "\n",
    "grid = RectilinearGrid(size = (48, 48, 8),\n",
    "                       x = (0, Lx),\n",
    "                       y = (-Ly/2, Ly/2),\n",
    "                       z = (-Lz, 0),\n",
    "                       topology = (Periodic, Bounded, Bounded))"
   ]
  },
  {
   "cell_type": "markdown",
   "metadata": {},
   "source": [
    "## Model"
   ]
  },
  {
   "cell_type": "markdown",
   "metadata": {},
   "source": [
    "We built a `HydrostaticFreeSurfaceModel` with an `ImplicitFreeSurface` solver.\n",
    "Regarding Coriolis, we use a beta-plane centered at 45° South."
   ]
  },
  {
   "cell_type": "code",
   "execution_count": 22,
   "metadata": {},
   "outputs": [
    {
     "data": {
      "text/plain": [
       "HydrostaticFreeSurfaceModel{CPU, RectilinearGrid}(time = 0 seconds, iteration = 0)\n",
       "├── grid: 48×48×8 RectilinearGrid{Float64, Periodic, Bounded, Bounded} on CPU with 3×3×3 halo\n",
       "├── timestepper: QuasiAdamsBashforth2TimeStepper\n",
       "├── tracers: b\n",
       "├── closure: Nothing\n",
       "├── buoyancy: BuoyancyTracer with ĝ = NegativeZDirection()\n",
       "├── free surface: ImplicitFreeSurface with gravitational acceleration 9.80665 m s⁻²\n",
       "│   └── solver: FFTImplicitFreeSurfaceSolver\n",
       "├── advection scheme: \n",
       "│   ├── momentum: WENO(order=5)\n",
       "│   └── b: WENO(order=5)\n",
       "└── coriolis: BetaPlane{Float64}"
      ]
     },
     "execution_count": 22,
     "metadata": {},
     "output_type": "execute_result"
    }
   ],
   "source": [
    "model = HydrostaticFreeSurfaceModel(; grid,\n",
    "                                    coriolis = BetaPlane(latitude = -45),\n",
    "                                    buoyancy = BuoyancyTracer(),\n",
    "                                    timestepper = :QuasiAdamsBashforth2,\n",
    "                                    tracers = :b,\n",
    "                                    free_surface = ImplicitFreeSurface(),\n",
    "                                    momentum_advection = WENO(),\n",
    "                                    tracer_advection = WENO())"
   ]
  },
  {
   "cell_type": "markdown",
   "metadata": {},
   "source": [
    "We start our simulation from rest with a baroclinically unstable buoyancy distribution.\n",
    "We use `ramp(y, Δy)`, defined below, to specify a front with width `Δy`\n",
    "and horizontal buoyancy gradient `M²`. We impose the front on top of a\n",
    "vertical buoyancy gradient `N²` and a bit of noise."
   ]
  },
  {
   "cell_type": "code",
   "execution_count": 23,
   "metadata": {},
   "outputs": [],
   "source": [
    "\"\"\"\n",
    "    ramp(y, Δy)\n",
    "\n",
    "Linear ramp from 0 to 1 between -Δy/2 and +Δy/2.\n",
    "\n",
    "For example:\n",
    "```\n",
    "            y < -Δy/2 => ramp = 0\n",
    "    -Δy/2 < y < -Δy/2 => ramp = y / Δy\n",
    "            y >  Δy/2 => ramp = 1\n",
    "```\n",
    "\"\"\"\n",
    "ramp(y, Δy) = min(max(0, y/Δy + 1/2), 1)\n",
    "\n",
    "N² = 1e-5 # [s⁻²] buoyancy frequency / stratification\n",
    "M² = 1e-7 # [s⁻²] horizontal buoyancy gradient\n",
    "\n",
    "Δy = 100kilometers # width of the region of the front\n",
    "Δb = Δy * M²       # buoyancy jump associated with the front\n",
    "ϵb = 1e-2 * Δb     # noise amplitude\n",
    "\n",
    "bᵢ(x, y, z) = N² * z + Δb * ramp(y, Δy) + ϵb * randn()\n",
    "\n",
    "set!(model, b=bᵢ)"
   ]
  },
  {
   "cell_type": "markdown",
   "metadata": {},
   "source": [
    "Let's visualize the initial buoyancy distribution."
   ]
  },
  {
   "cell_type": "code",
   "execution_count": 24,
   "metadata": {},
   "outputs": [
    {
     "data": {
      "image/png": "[encoded data removed]",
      "text/html": [
       "<img width=600 height=450 style='object-fit: contain; height: auto;' src=\"data:image/png;base64, iVBORw0KGgoAAAANSUhEUgAABLAAAAOECAYAAACxbcj6AAAAAXNSR0IArs4c6QAAAARnQU1BAACxjwv8YQUAAAAgY0hSTQAAeiYAAICEAAD6AAAAgOgAAHUwAADqYAAAOpgAABdwnLpRPAAAAAlwSFlzAAAdhwAAHYcBj+XxZQAAIABJREFUeAHswQmYzYXi//HPd8539hmMMcaaZK0hj+JGXIRC5kr2QZZbtop7I0KL0SZ7ykMksqeQaxtL6Jbwi9xI1pAaY8xYxjLMcsz5/z2/Z57n/M49x8x3ZhxHvV8v0/H/CQAAAAAAAPBRpgAAAAAAAAAfZgoAAAAAAADwYaYAAAAAAAAAH2YKAAAAAAAA8GGmAAAAAAAAAB9mCgAAAAAAAPBhpgAAAAAAAAAfZgoAAAAAAADwYaYAAAAAAAAAH2YKAAAAAAAA8GGmAAAAAAAAAB9mCgAAAAAAAPBhpgAAAAAAAAAfZgoAAAAAAADwYaYAAAAAAAAAH2YKAAAAAAAA8GGmAAAAAAAAAB9mCgAAAAAAAPBhpgAAAAAAAAAfZgoAAAAAAADwYaYAAAAAAAAAH2YKAAAAAAAA8GGmAAAAAAAAAB9mCgAAAAAAAPBhpgAAAAAAAAAfZgoAAAAAAADwYaYAAAAAAAAAH2YKAAAAAAAA8GGmAAAAAAAAAB9mCgAAAAAAAPBhpgAAAAAAAAAfZgoAAAAAAADwYaYAAAAAAAAAH2YKAAAAAAAA8GGmAAAAAAAAAB9mCgAAAAAAAPBhpgAAAAAAAAAfZgoAAAAAAADwYaYAAAAAAAAAH2YKAAAAAAAA8GGmAAAAAAAAAB9mCgCAW0hNTdWsWbPkTsOGDdWiRQt5U2pqqmbNmiVnMTExevrpp4X/df78eSUmJio7O1sVKlRQdHS0DMMQgP+VlZWl06dP6+zZsypZsqQqVKigkJAQWTFr1iylpqYql7+/v4YNGybTNAUAAIqeKQAAbuHs2bN6/fXX5c6wYcPUokULedNLL72kxYsXy9n69ev1Z3b16lUtW7ZMc+fO1X/+8x9dv35dzvz9/VWtWjX16tVLffr0UXR0tIA/m7179+qTTz7Rl19+qeTkZDkcDjkrWbKkWrRooX79+qlly5YyDEO3kpaWptdff12uXnnlFQEAgKJnCgCAu8TmzZu1ePFiOXvkkUfUpk0b/VktWbJEAwcO1JUrV+RJdna2Dh48qJEjR+q1117T8OHD9fbbb8vPz0/AH925c+fUo0cPbdq0Sbdy4cIFffHFF/riiy9Us2ZNLV++XDExMfLkxRdf1KRJk3Tu3DnlGjt2rDp37qz77rtPAACgaJkCAOAukJmZqYEDB8pVfHy8/qyGDh2qqVOnygq73a5x48Zp//79Wrp0qcLDwwXkx5QpUzR79my5s2LFCsXExMjX7N+/X3/729/022+/yYrDhw+rQYMGWrx4sdq1ayd3QkNDNWzYMI0aNUq5rl+/rkGDBmnjxo0CAABFyxQAAHeBqVOn6sSJE3L28MMPq3Xr1voz+vDDDzV16lQV1Lp16/T8889r4cKFAvIjJSVFR44ckTvXr1+Xr7l8+bLat2+v3377TQVx9epVdenSRT/88INiYmLkzgsvvKDx48crLS1NuTZt2qR169apbdu2AgAARccUAAA+LjU1VePGjZOr4cOH68/o4MGDGjFihApr0aJFat++vTp27Cjgj2bw4ME6efKkCiMzM1O9evXSrl275O/vL1fh4eEaOHCg3nvvPTkbPny4WrVqJdM0BQAAioYpAAB83JtvvqnLly/LWeXKldWpUyf9GY0dO1YZGRlyp3Llyho6dKjq1q2rwMBAHTlyRNOnT9euXbvkzvDhw9WhQwcZhiHgj+LQoUNasGCBPOnVq5e6dOmismXL6vLly9q0aZOmTJmizMxMudq7d68WL16sPn36yJ0hQ4ZoypQpysrKUq5Dhw7pk08+0YABAwQAAIqGKQAAfFhycrLmzJkjV4MHD5bNZtOfzdmzZ/Xll1/KnWrVqmnnzp2KjIxUrnr16qlr166KjY3Vxo0b5erkyZPasmWLWrZsKeCPYubMmfJk2rRpGjJkiJw1a9ZMrVq1UvPmzZWTkyNXc+bMUZ8+feRO2bJl1a1bNy1YsEDOxo0bp2effVamaQoAABSeKQAAfNikSZOUkZEhZ0FBQerdu7f+jBYuXKjs7Gy5M2nSJEVGRsqVaZqaOXOmqlSpIofDIVdz585Vy5YtBfwR2O12LViwQO489NBDGjx4sNxp2rSpevXqpU8//VSuvvvuOx05ckQ1atSQOwMGDNCCBQvk7NSpU1q0aJH69OkjAABQeKYAACgCOTk52rp1q1asWKGTJ0/q7NmzKlGihCpVqqQGDRooLi5OxYsXlxVXrlzRrFmz5KpLly4qWbKk3Nm4caOOHTsmT1q2bKmaNWvKk3379unbb7+VJ7Vq1VKzZs10p3z99ddyJzIyUk8++aQ8qVy5sho3bqxvv/1WrrZu3ao74fTp0/ryyy/lSe/evRUeHq78mDdvntLT0+XKZrNp4MCBMgxD3nTw4EFt3bpVRaVMmTLq1KmTkLcff/xRly5dkjvPPPOMDMOQJ88884w+/fRTubNt2zbVqFFD7jz66KOqXbu2fvrpJzmbOHGi+vTpIwAAUHimAAAopL1796p79+46cuSI3Jk/f76GDh2q/v37a9y4cQoODlZ+LFmyRFevXpWr3r17y5OSJUvqn//8p27cuCF3mjRpon//+99yx+FwqHfv3tq3b5/cCQwM1I8//qg7xeFwaNeuXXKnWbNmMk1Tt9KsWTN9++23cnX27FmdOnVKlSpVkjeVKFFCI0eOVHp6utyJjo5W586dlZfExET9/e9/lzvNmzfXoEGD5G07duzQ4MGDVVQeeeQRderUSd7WsmVLHT58WDddvnxZnrRt21b+/v66qXjx4vr55591p+zYsUOetGzZUrfSqFEjmaYpu90uV//zP/+jgQMHypM+ffpo2LBhcnbw4EF99913atSokQAAQOGYAgCgENauXauOHTsqKytLt3L9+nVNmzZNGzdu1KpVq1SjRg3lZfbs2XIVHR2tpk2bypP69etr2LBhmjBhgtz55ptvtHbtWsXGxsrVkiVLtG/fPnkSHx+vmjVr6k45fvy4zp8/L3diYmKUlzp16siT77//XpUqVZI3hYaGql27dlq6dKncWb16tTp37qy8bNiwQZ50795dKLjk5GSdPn1aeUlJSVGuq1ev6k76/vvv5Y5pmqpevbpuJTAwUDVr1tSBAwfk6vvvv9etdOnSRS+//LIcDoecffzxx2rUqJEAAEDhmAIAoICOHj2qOXPmKCsrS/l1+PBhPf744/ruu+9UsWJFeXLy5Ent3btXrjp06CCbzaZbGTt2rFatWqWjR4/KnVGjRunJJ5+Un5+fcmVlZen111+XJw8//LCGDx+uO+nUqVPypGrVqspL1apV5cnJkyd1J/Ts2VNLly6VO+vXr9eNGzdks9l0KwkJCXInICBAHTp0EP5cTp06JXfuueceBQQEKC9Vq1bVgQMH5OrXX3/VrVSoUEENGzbUjh075GzFihWaNWuWAgMDBQAACs4UAAAFtGbNGhXE77//rtjYWP3www8yTVPubNmyRe489thjyktQUJDmzp2rJk2aKCcnR64OHDigBQsWqE+fPso1a9YsnTx5Uu74+/tr7ty5stlsupNOnz4tT0qVKqW8REVFyZMzZ87oTnjiiSdUunRppaSkyNWFCxe0fft2NW3aVJ7Y7XZ99dVXcqdVq1aKiIgQ/lxOnz4td0qVKqX8iIqKkjvXrl3TpUuXVLx4cXny2GOPaceOHXJ29epVbdu2Ta1btxYAACg4UwAAFBGbzaYqVaooNDRUx48f1+XLl+XJ/v37NW3aNA0bNkzubN26Ve40bNhQ+dGoUSO98MIL+vDDD+XOG2+8oW7duikoKEhXr17V22+/LU9Gjx6tBx98UHfa6dOn5UmpUqWUl6ioKHmSlJSkO8E0TXXp0kXTp0+XO6tXr1bTpk3lyXfffafLly/Lnbi4OKFwunfvrqSkJN20c+dO7d27V+506dJFUVFRuikkJER3UlJSktwpVaqU8iMqKkqeJCUlqXjx4vKkYcOGcmfNmjVq3bq1AABAwZkCAKAIxMXFafLkySpbtqxuysrK0sKFC/XCCy8oMzNT7owdO1b9+vVTsWLF5Grr1q1yVaFCBVWoUEH5NW7cOK1bt04nTpyQq99//13Tp0/Xyy+/rMmTJyslJUXu1K5dW6+++qp8weXLl+VJWFiY8uLv7y9/f39lZ2fLVVpamu6Unj17avr06XJnzZo1mjx5sjxJSEiQOyEhIWrXrp3ulGeffVZ9+vRRfqSnp6tp06bat2+fPBk0aJDuhNGjRyvXyJEjtXfvXrkzfPhw1atXT3daZmamMjMz5U5YWJjyIzQ0VJ6kpaXpVho0aCB3tm/fLgAAUDimAAAopNGjR+vtt9+WYRjKFRAQoGeffVY1atRQu3btdPHiRbm6cuWKli5dqgEDBsjZgQMHdPbsWblq2LChrAgNDdWcOXPUokULORwOuRo3bpyeeuopTZ48We7YbDbNnTtX/v7+8iQjI0Pbt2/X7dCoUSMFBwcrV2Zmpjzx9/dXfgQEBCg7O1uuMjMzdac88sgjqlq1qn755Re5OnbsmA4fPqyaNWvKnYSEBLnTrl07hYaG6k4xDEOmaSovOTk56t27t/bt2ydPRo0apd69e+tudvDgQSUlJamolS1bVjExMcqVmZkpT/z9/ZUfAQEB8iQzM1O3EhkZqWrVqunYsWNy9vPPPys9PV2hoaECAAAFYwoAgEJ4+OGH9c4778iTxo0ba+zYsRoyZIjcmTdvngYMGCBnO3fulDuPPPKIrHrsscfUr18/zZ49W64uXLigxo0b68qVK3Ln5ZdfVr169XQrycnJevzxx3U7HDt2TFWrVlWujIwMeeLv76/8CAgIUHp6ulxlZGToTurRo4fGjh0rd1avXq2aNWvKVVJSkvbv3y934uLidDcYPny4/vWvf8mTDh066J133tHdbsKECZo/f76KWo8ePbRo0SLlysjIkCf+/v7Kj4CAAHmSkZGhvDRo0EDHjh2Tsxs3bmj//v1q2LChAABAwZgCAKAQRo8erbw899xzeuutt5SamipXe/bs0dWrVxUWFqZcZ86ckTsVKlRQQUycOFHr169XYmKiXKWkpMidGjVqKD4+Xr7EbrfLEz8/P+WHv7+/3MnOztad1LNnT40dO1burFmzRiNGjJCrhIQEuVOiRAm1bt1avm727NmaMmWKPHn44Ye1cOFCGYYh5I/dbpcnfn5+yg9/f395kp2drbxUrFhR7pw9e1YAAKDgTAEAUEARERF6+umnlZfg4GD16tVLkydPlqsbN25oz549atasmXKlpqbKnYiICBVEsWLFNGvWLLVt21b54efnp7lz5yooKEi+JCAgQJ7Y7XblR3Z2ttwJDg7WnVS1alX95S9/0ffffy9XO3bs0Llz51SqVCk527Bhg9zp2LGjAgIC5Mu++uorvfDCC/KkfPnyWr16tUJCQoT8CwgIkCd2u135kZ2dLU+Cg4OVlxIlSsid1NRUAQCAgjMFAEABValSRYZhKD+qV68uT37++Wc1a9ZMuVJTU+VORESECurJJ59Ur169tGDBAuVlyJAhevTRR+VrAgMD5UlWVpbyIysrS+6Eh4frTuvRo4e+//57ucrJydH69evVq1cv5bLb7dq8ebPc6datm3zZoUOH1KlTJ9ntdrkTGhqqNWvWqFy5coI1gYGB8iQrK0v5kZWVJU/Cw8OVl4iICLmTmpoqAABQcKYAACigypUrK78qV64sT86fPy9nqampcqdEiRIqjKlTp2rTpk1KTk6WJ/fdd5/eeecd5Vfx4sX1yiuv6HaIiIiQs6CgIHmSlZWl/MjKypI7YWFhutO6deumYcOGyW63y9WaNWvUq1cv5dq5c6cuXbokV9HR0Xrsscfkq1JTU9W2bVtdunRJ7vj5+WnRokWqW7eu/kjatm2rMmXKqKjVrVtXzoKCguRJVlaW8iMrK0uehIWFKS8RERFyJzU1VQAAoOBMAQBQQNHR0cqvihUrypMLFy7I2blz5+ROiRIlVBglS5bUc889p7fffluevPjiiwoJCVF+RURE6L333pM3REZGypO0tDTlJT09XdnZ2XInLCxMd1rp0qXVsmVLbdiwQa42btyorKwsBQQE6KaEhAS506VLF9lsNvmizMxMtW/fXidPnpQn48aNU/v27fVH07lzZ3Xu3Fm3m7+/v8LDw3XlyhW5SktLU35cvHhRnoSFhSkvERERcic1NVUAAKDgTAEAUEBnzpxRfp09e1ae+Pv7y1lQUJDcycrKUmEkJSVp+vTpupWJEyeqT58+ioiIkK8pX768PElJSVFezp07J0+io6PlC3r27KkNGzbI1ZUrV/T111/riSee0E0JCQlyJy4uTr6qb9++2rFjhzz5+9//rhEjRgiFU758eR0+fFiuUlJSlB/nzp2TO4ZhKCoqSnnJzs6WO4GBgQIAAAVnCgCAAjp16pTy68SJE/KkVKlSchYVFSV3Ll68qPLly6ugBgwYoLS0NN3KmTNn9I9//EMLFiyQrylfvrw8OXPmjPKSlJQkT2JiYuQL2rdvr9DQUKWnp8vV6tWr9cQTT+jMmTPat2+fXFWqVEkNGjSQL3rjjTe0dOlSedKsWTN99NFHQuGVL19ehw8flqszZ84oP5KSkuRO5cqVFRISorxcvHhR7kRFRQkAABScKQAACujkyZPKr+PHj8uT0qVLy1lUVJTcuXjxogpqwYIFWrt2rfJj4cKF6tq1q9q2bau8XLx4UePHj9ftMHz4cEVGRipX9erV5cmBAweUlwMHDsiTmJgY+YLQ0FA99dRTWrJkiVytWbNG06dP14YNG+RwOOSqW7duMgxDvmbRokV666235EnVqlW1YsUK+fv764/qiy++0A8//KCiVrduXXXt2lXOatSooS1btsjV+fPnlZycrDJlyuhWDhw4IHdiYmKUHxcvXpQ7UVFRAgAABWcKAIACOn/+vBISEtSmTRvdit1u15IlS+RJvXr15CwqKkrupKWlqSCSk5P1z3/+U1YMGDBABw4cUIkSJXQrly5d0vjx43U7PPfcc4qMjFSu0qVL67777tOJEyfkas+ePcrL7t275Y6fn5/uv/9++YqePXtqyZIlcvXbb79p3759SkhIkDtxcXHyNdu3b9dzzz0nTyIiIrRu3TqVLFlSf2Tr1q3T/PnzVdR69Oihrl27ylmDBg00Y8YMubNnzx7FxsbKk6SkJCUlJcmdWrVqKT8uXrwod6KiogQAAArOFAAAhTB+/Hi1adNGt7J48WKdPHlS7pQsWVK1atWSs6ioKLlz4cIFFcTAgQN18eJFuVOrVi0dOHBArk6fPq2XXnpJ8+bNky9p2LChTpw4IVc//PCDTp48qcqVK8sdu92uVatWyZ1HH31UwcHB8hWPP/64oqKilJqaKldffvmlNm/eLFf333+/6tSpI19y/PhxPf3008rMzJQ7/v7+Wr58uapXry4UnYYNG8qT5cuXKzY2Vp4sX75cnrRo0UL5cfHiRbkTFRUlAABQcKYAACiEf//735o5c6YGDRokdw4dOqTXXntNnsTGxsowDDmrUqWK3Dl48KCsWrp0qf71r3/JnXvvvVfffPONYmJidObMGbn69NNP1aVLF7Vp00a+IjY2VosXL5Y7b775pubNmyd3PvjgA6Wmpsqdrl27yp3k5GR99NFH8uSNN96Qn5+fipppmurataumT58uV++//74uXbokV3Fxccqv9957TxkZGXKnV69euu+++1RYaWlpio2N1blz5+TJjBkz1Lx5cxVUcnKyPvroI3nyxhtvyM/PT96QlZUlX1G1alXVqFFDR44ckatly5Zp1KhRqlGjhlxduXJFEyZMkDulS5dWs2bNlB+HDh2SO5UqVRIAACg4UwAAFNLzzz+vX3/9VfHx8QoODlau9evXq0ePHkpLS5Mn//jHP+SqadOmMgxDDodDznbu3CkrUlJSNHjwYHny9ttvKyIiQvHx8RowYIDc6d+/v37++WcVK1ZMvqBDhw6KiopSamqqXH366aeKiorSqFGjFBERoZuuXbum2bNna+TIkXLHz89PnTp1kjvJyckaO3asPHnttdfk5+en26FHjx6aPn26XF26dEnudOvWTfn13nvv6dKlS3KncePGuu+++1QY2dnZ6tixow4fPixPhg0bpueee06FkZycrLFjx8qT1157TX5+fioqhmHIk6SkJPmSAQMGaOjQoXKVkZGhtm3bat68efrrX/+qXPv371e/fv10+vRpudOpUyfZbDblx65du+QqPDxcNWvWFAAAKDhTAAAUgQkTJuijjz7SQw89pJCQEB0+fFgnTpzQrbRq1UoPPfSQXEVGRqpOnTr68ccf5WzPnj3Kzs6Wv7+/8uP555/X+fPn5U7dunXVvXt33fTss89q6tSpOnz4sFwlJibq5Zdf1uzZs+VOdHS0EhISdDuUK1dOrgICAvTcc89p3LhxcmfixImaOnWqKlSoID8/PyUlJSkjI0Oe9O3bV2XKlJGvadCggapUqaLjx48rL/Xq1VO1atXkK3bs2KGtW7fqVubNm6dPP/1UVmzZskV16tTRnRIVFSVPJk+erPvvv19ly5bV+fPnVa1aNTkbNmyYunXrpqJWrlw5udO7d2+9/vrrSk9Pl6vjx4+rSZMmKlmypEqVKqW0tDSlpKTIk8DAQA0dOlT5cfToUZ0/f16u6tevLz8/PwEAgIIzBQBAEbl8+bK+/vpr5UeJEiX08ccfy5MWLVroxx9/lLPr169r3759qlevnvLy+eefa8WKFfJk4sSJMgxDN9lsNo0bN05PP/203Pn444/VuXNnPf7443IVHBys1q1by5teffVVff755zp+/Ljcsdvt+vXXX5WXiIgIjRs3Tr6qR48eevPNN5WXuLg4+RKHw6G8XLhwQVZlZ2frTqpZs6Y82bVrl2rVqqWbihcvrrS0NDmrXbu2ateuLW8pWbKkJk2apEGDBsmTCxcu6MKFC8rL8OHDVaVKFeXHrl275E7Lli0FAAAKxxQAAAVUtmxZnTlzRlb5+/tr/vz5qlixojxp3ry5Jk+eLFc7d+5UvXr1dCupqal68cUX5Unr1q3VokULOWvfvr0aNWqk7777Tu7069dPP/30k8LDw3WnhYaGauHChWrSpInsdrsKwmazafbs2YqKipKv6tmzp958803dimEY6tq1q3D71alTR/7+/srOztbdYODAgVq3bp3Wrl2rgmrYsKFGjx6t/Nq5c6fcadeunQAAQOGYAgCggLp37y673a5p06Ypv0JCQrR8+XK1adNGt9KkSRMFBgYqMzNTztatW6fBgwfrVl588UWlpqbKHT8/P40fP17ujB8/Xo0bN5Y7p06d0ogRIzRz5kz5goYNG2rTpk3q0qWLzp07JytsNpsWL16sTp06yZdVq1ZN9evX1+7du+VJkyZNVL58eeH2K1++vMaMGaPXXntNd4vPP/9c/fv316JFi2RVw4YNtXHjRgUHByu/EhIS5Kpq1aqKiYkRAAAoHFMAABTC+++/rwceeEDDhw/X5cuXdSuxsbH64IMPVLlyZeUlLCxMHTt21JIlS+Rsy5YtOnfunEqVKiV3Vq5cqc8//1ye9OrVSw8++KDcadSokdq3b69Vq1bJnVmzZqlz585q3ry5fMFjjz2mPXv26KWXXtKaNWtkt9uVl+bNm2vKlCmqU6eO7gY9e/bU7t275UlcXJzgPSNHjlRaWppmzJiha9euydcFBwdr4cKFevTRRzVhwgT9+uuvykvx4sU1evRo/eMf/1BgYKDya9euXTp16pRc9e3bVwAAoPBMAQBwC6VLl9aYMWPkzqOPPqqb+vfvr44dO2r58uVau3atTp06pZSUFBUrVkzly5dX48aN1aVLF9WuXVtW9OvXT0uWLJEzu92u5cuXa+DAgXLn7NmzGjNmjDzp16+fbmXSpEmqU6eOPPntt9/kSypVqqSVK1cqOTlZCxYs0N69e5WYmKjExERlZmYqMjJSZcuWVZMmTdS6dWvVr19f+VWmTBmNGTNGua5fv64JEyboJpvNJtM0dbt169ZNw4YNk91ulyvTNNWxY0dZNXLkSGVkZCjXzJkzlZKSopsCAwNVWPfee6/GjBmjolauXDk5K1OmjMaMGaNc169f14QJE3STzWaTaZoqajabTRMnTtTLL7+slStX6tSpU0pMTFR6erqCg4MVHh6ucuXKydcMGjRIAwcO1ObNm/Xll1/q1KlTSkxM1NmzZxUaGqpSpUrpgQceUKtWrdS6dWtFRETIqs8++0yuTNNU3759BQAACs8UAAC3ULp0acXHxysvkZGRGjBggAYMGKCi0qxZMz3wwAM6ePCgnM2ZM0cDBw6UO4MGDVJhVKlSRfHx8brblClTRiNGjFBRKlOmjOLj45Xr0KFDmjBhgm4KDw+XN5QuXVp//etftW3bNrl6/PHHVapUKVk1cuRIOZs5c6ZyFStWTIV17733Kj4+XrdbmTJlFB8fr1yHDh3ShAkTdFN4eLhup+joaA0aNEh3E8Mw9MQTT+iJJ55QUcvMzNSiRYvkqn379ipbtqwAAEDhmQJQpE6dOqUffvhBp0+f1vnz51W6dGmVL19ef/nLX1S2bFkBsGbkyJHq1auXnP3www/as2eP6tWrJ3jPqVOnlCsyMlLecv78ebkTFxenwrp+/bpSU1OVKzIyUnerU6dOKVdkZKTgPV988YXOnz8vV6NGjRIAACgapgAUiZUrV+qDDz7QN998I4fDIVc2m00tW7bUsGHD9PjjjwtA/sTFxWnMmDE6efKknM2YMUNz584VvGfx4sXKVb9+fXnD2bNndejQIbkKCgpS+/btVVhLliyRw+HQTWXLllWFChV0t1q8eLFy1a9fX/CemTNnylWbNm300EMPCQAAFA1TAArl6tWrevHFFzV//nzdyo0bN7Rx40Zt2rRJQ4YM0fjx4xUYGCgAt2aapsaMGaM+ffrI2ZIlS/Tuu+/MPq+mAAAgAElEQVSqTJkywu337bff6rPPPlOuJ598Urebw+HQCy+8oOzsbLmKjY1VeHi4CiMpKUnvvvuucrVp00Z3q2+//VafffaZcj355JOCd+zcuVM7duyQM8MwNHbsWAEAgKJjCkCB2e12PfXUU9q6davyy+FwaNq0aUpOTtZnn30mAHl75pln9P777+vHH39UrszMTH3wwQd69913hdsnNTVVCxYs0Kuvviq73a6bYmJi1L17dxW1lJQUlSpVSjdu3ND+/fv1yiuvaMuWLXLnmWeeUUFlZGRozZo1Gjp0qBITE3VTYGCgXn/9dd1tUlNTtWDBAr366quy2+26KSYmRt27dxe8Y/z48XLVvXt31a9fXwAAoOiYAlBgQ4cO1datW+UsNDRUvXv3VpMmTRQdHa3ExERt3LhRy5YtU3Z2tnItW7ZMderU0ahRowTg1vz8/DR58mS1aNFCzmbOnKlRo0YpPDxcKHqHDh3Sgw8+KLvdrlyVKlXS6tWrZbPZVNRGjBihzz77TA6HQ1lZWfLknnvuUdu2bVVQVapUUVJSknIFBgZq5cqVuvfee3U3OXTokB588EHZ7XblqlSpklavXi2bzSbcfkeOHNHq1avlLCgoSO+++64AAEDRMgWgQPbu3asPP/xQzmJiYpSQkKCKFSvKWc+ePTV8+HC1adNGSUlJyhUfH6+ePXuqYsWKAnBrzZs3V+fOnfXFF18oV1pamj788EONHj1aKHqZmZmy2+26yc/PT3379tW7776r0qVL63bJzMxUXuLj42Wz2VRQ6enpytW0aVNNmzZNderU0d0mMzNTdrtdN/n5+alv37569913Vbp0acE73nrrLTkcDjkbNWqU7rnnHgEAgKJlCkCBxMfHy1nJkiW1ZcsWRUdHy50HH3xQmzZt0kMPPaSsrCzdlJWVpfHjx2v69OkCkLcPPvhAmzdvVlpamnJNmTJFgwcPVnh4uFC0goKCFBsbq8aNGys2NlYxMTG601q3bq0+ffqoMBo3bqwHH3xQLVq0UIsWLXS3CgoKUmxsrBo3bqzY2FjFxMQI3nP48GEtXbpUzh544AGNHDlSAACg6JkCYNnRo0e1Zs0aOZswYYKio6N1KzExMXrllVf01ltvKdecOXP0zjvvqHjx4gJwa2XKlNF7772ngQMHKtf58+f14YcfavTo0ULRqlmzptasWSNf8be//U2LFy+WYRgqjLVr1+qPoGbNmlqzZo1wZ7z55pvKyclRLsMwNHv2bAUEBAgAABQ9UwAsW716tZyVLFlSPXv2VH688MILGjdunOx2u27KzMzU5s2b1alTJwHIW//+/dW2bVs5CwwMFO5+pUuXVmhoqNLT0xUUFKSIiAhFRkaqZcuW6t69u+rXry/AV0yePFkTJkxQLtM0VaZMGQEAgNvDFADL1q1bJ2ddunRRYGCg8iM6OlqtWrXSunXrlGv9+vXq1KmTAOTNMAxVqFBB+OOZMGGCJkyYIIfDIcMwBPiysmXLCgAAeI8pAJZkZWXpu+++k7OmTZvKiqZNm2rdunXKtWXLFgEA/pdhGAIAAACcmQJgyS+//KLs7Gw5a9iwoax49NFH5ez333/XtWvXFBISIgAAAAAA8H+ZAmDJ0aNH5SwoKEiVKlWSFTVq1JAzh8OhY8eOqU6dOgIAAAAAAP+XKQCWHD16VM4qVKggq0qVKqXg4GBdv35duY4dO6Y6deoIAAAAAAD8X6YAWJKamipnFSpUUEGUK1dOx48fV67k5GQBAAAAAID/ZgqAJenp6XIWFhamgggLC5Oza9euCQAAAAAA/DdTACxJT0+Xs6CgIBVEcHCwnKWnp8sKwzAEAACAPw+HwyFfYBiGvMHhcAgAcpkCYEl6erqcBQUFqSCCgoLkLD09XQAAAAAA4L+ZAmCJzWaTM4fDoYKw2+1yduPGDVnhcDiUH4Zh6Ka2Mz6VFQ6HQ5blyDpD1jlkmWEzZJmhAnHccMgqw8+QVQ6HQ1YZfoYsM2SdQ5Y5bjhklZ9pyCqHQ9Y5HPIGR44KxLAZsizHIcsMWZaRki2rsk9lySpb0iVZdf3MD7Lq0vlfZJlhyCo/P1NW5eTYVRCOnBuyymYGyCpHTo6synHckFWG4SerHI4cWWUYfrLKkCGrcnLsssrws8kyh0NWOeRQQRiGnyxzOGSZYcgbDMOQVTk5N2TF4dM/yRfdX/5B3Q6HTu8XALgyBcCS0NBQObt+/boKIiMjQ87CwsIEAAAAAAD+mykAloSGhspZRkaGCiIjI0POwsLCBAAAAAAA/pspAJaEhYXJ2aVLl1QQly9flrOwsDABAAAAAID/ZgqAJRUqVJCzxMREWZWTk6OkpCQ5K1OmjAAAAIC7hyEA8BZTACypUaOGnJ0+fVo5OTny8/NTfiUnJ8tut8tZzZo1BQAAANw1DAGA15gCYEmNGjXkzG636+jRo6pZs6by69ChQ3Jms9lUrVo1AQAAAACA/2YKgCUVKlRQRESELl68qFw7d+5UzZo1lV87d+6Usxo1aiggIEAAAADA3cMQAHiLKQCWGIahJ554QsuWLVOubdu2qW/fvsqvr7/+Ws7atGkjAAAAAADgnikAlsXGxmrZsmXKtXLlSs2YMUNhYWHKy++//65t27bJWbt27QQAAADcTQzDEAB4iykAlrVt21YhISG6du2abkpPT9fs2bM1dOhQ5eWDDz5QTk6OcpUrV06NGjUSAAAAcHcxBADeYgqAZREREXr++ec1adIk5RozZow6duyoSpUqyZO9e/fq/fffl7PRo0fLZrMJAAAAAAC4ZwpAgYwYMUIfffSRrl69qpuuXr2qxx57TBs2bFD16tXlaseOHXrqqadkt9uVq1KlSurXr58AAACAu41hGAIAbzEFoECioqI0d+5cdenSRblOnjypWrVqqXv37mrcuLFKlSqlxMREJSQkKCEhQQ6HQ7kCAwP12WefKSAgQAAAAAAAwDNTAAqsc+fOGjt2rMaMGaNc2dnZmj9/vubPny9PbDab5s6dqwYNGggAAAC4OxkCAG8xBaBQ3njjDd1///3q37+/0tLSlJd7771XixYtUqNGjQQAAADcrQzDEAB4iykAhda5c2c1adJE8+fP18KFC3XgwAE58/PzU4MGDdSrVy91795d4eHhAgAAAAAA+WMKQJGIjo7WiBEjNGLECGVkZOj06dO6cOGCSpcurXLlysnf318AAADAH4chAPAWUwCKXFBQkKpUqaIqVaoIAAAA+CMyDEMA4C2mAAAAAAAAAB9mCgAAAAAAywwBgLeYAgAAAAAAAHyYKQAAAAAALDIMQwDgLaYAAAAAAAAAH2YKAAAAAADLDAGAt5gCAAAAAMAiwxAAeI0pAAAAAAAsMwQA3mIKAAAAAAAA8GGmAAAAAACwyDAMAYC3mAIAAAAAAAB8mCkAAAAAACwzBADeYgoAAAAAAKsMQwDgLaYAAAAAAAAAH2YKAAAAAADLDAGAt5gCAAAAAAAAfJgpAAAAAAAsMgxDAOAtpgAAAAAAsMwQAHiLKQAAAAAAAMCHmQIAAAAAwCLDMAQA3mIKAAAAAADLDAGAt5gCAAAAAAAAfJgpAAAAAAAsMgxDAOAtpgAAAAAAAAAfZgoAAAAAAMsMAYC3mAIAAAAAwCrDEAB4iykAAAAAAADAh5kCAAAAAMAyQwDgLaYAAAAAALDIMAwBgLeYAgAAAAAAAHyYKQAAAAAALDMEAN5iCgAAAAAAAPBhpgAAAAAAsMiQIQDwFlMAAAAAAFhmCAC8xRQAAAAAAADgw0wBAAAAAGCRYRgCAG8xBQAAAAAAAPgwUwAAAAAAWGYIALzFFAAAAAAAVhmGAMBbTAEAAAAAAAA+zBQAAAAAAJYZAgBvMQUAAAAAgEWGYQgAvMUUAAAAAAAA4MNMAQAAAABgmSEA8BZTAAAAAAAAgA8zBQAAAACARYZhCAC8xRQAAAAAAJYZAgBvMQUAAAAAAAD4MFMAAAAAAFhkGIYAwFtMAQAAAABgmSEA8BZTAAAAAAAAgA8zBQAAAACAVYYhAPAWUwAAAAAAAIAPMwUAAAAAgGWGAMBbTAEAAAAAYJFhGAIAbzEFAAAAAAAA+DBTAAAAAABYZggAvMUUAAAAAAAA4MNMAQAAAABglWEIALzFFAAAAAAAlhkCAG8xBeBPITDSJiscObLMMOQVjhsOWWX4GbLMTwWTI8scDoesMvwMWWbIshy7Q1b52QxZ5chxyBsMP0NWORzyCsOQ1zhyHLLK8DNk1Y1Mh6y6UeKGrLpxNVRWBV2tJKvsWVdllcPhkFWG4SfrHCoIw7DJKocjR97gcOTIKsPPJqscOXZZZRg2+S6HrHI4HPIWw/CTdYasc8gbDD+brLphzxQAwBpTAAAAAABYZBiGAMBbTAEAAAAAYJkhAPAWUwAAAAAAAIAPMwUAAAAAgFWGIQDwFlMAAAAAAACADzMFAAAAAIBlhgDAW0wBAAAAAGCRYRgCAG8xBQAAAAAAAPgwUwAAAAAAWGYIALzFFAAAAAAAFhmGIQDwFlMAAAAAAFhmCAC8xRQAAAAAAJYZAgBvMQUAAAAAAAD4MFMAAAAAAFhkGIYAwFtMAQAAAABgmSEA8BZTAAAAAAAAgA8zBQAAAACAVYYhAPAWUwAAAAAAAIAPMwUAAAAAgGWGAMBbTAEAAAAAYJFhGAIAbzEFAAAAAAAA+DBTAAAAAABYZggAvMUUAAAAAABWGYYAwFtMAQAAAAAAAD7MFAAAAAAAlhkCAG8xBQAAAAAAAPgwUwAAAAAAWGUYAgBvMQUAAAAAgGWGAMBbTAEAAAAAYJkhAPAWUwAAAAAAWGUIALzGFAAAAAAAlhkCAG8xBQAAAACAZYYAwFtMAQAAAABgkWEYAgBvMQUAAAAAAAD4MFMAAAAAAFhmCAC8xRQAAAAAAFYZhgDAW0wBAAAAAAAAPswUAAAAAACWGQIAbzEFAAAAAAAA+DBTAAAAAABYZBiGAMBbTAEAAAAAYJkhAPAWUwAAAAAAAIAPMwUAAAAAgFWGIQDwFlMAAAAAAFhmCAC8xRQAAAAAAADgw0wBAAAAAGCVYQgAvMUUAAAAAAAA4MNMAQAAAABgmSEA8BZTAAAAAABYZRgCAG8xBQAAAAAAAPgwUwAAAAAAWGYIALzFFAAAAAAAVhmGAMBbTAEAAAAAAAA+zBQAAAAAAJYZ+qPIyclRSkqKEhMTde3aNZUvX17lypVTcHCwfEFOTo5SUlKUmJioa9euqXz58ipXrpyCg4NV1LKzs5WUlKTExETZbDaVL19eZcuWlWmaAu4kUwAAAAAA/Ant3r1bn3zyiZYtW6a0tDQ5MwxDzZo10zPPPKO4uDgFBQXJ23bv3q1PPvlEy5YtU1pampwZhqFmzZrpmWeeUVxcnIKCglRQDodDq1at0vz587V+/XplZ2fLWXBwsNq3b6/evXurVatWsurIkSOaOXOmCqt3796qW7eu8OdkCgAAAAAAqwxDd6usrCyNHDlS77//vhwOh9xxOBzatm2btm3bpqlTp2rp0qWKiYmRN2RlZWnkyJF6//335XA45I7D4dC2bdu0bds2TZ06VUuXLlVMTIysOnPmjHr16qWvvvpKnly/fl1Lly7V0qVL1bFjR3388ceKiIhQfm3fvl3Tpk1TYTVo0EB169YV/pxMAQAAAABgmaG7UVZWllq0aKHt27crv3766SfVr19fmzdvVqNGjXQ7ZWVlqUWLFtq+fbvy66efflL9+vW1efNmNWrUSPl18uRJNWzYUGfPnlV+rVixQv/5z3+0a9cuRUVFKT9++eUXAYVlCgAAAACAP4mBAwdq+/btcmYYhpo1a6Y6deooNDRUJ06c0Lp163T58mXlun79ujp06KA9e/aoYsWKul0GDhyo7du3y5lhGGrWrJnq1Kmj0NBQnThxQuvWrdPly5eV6/r16+rQoYP27NmjihUrKi/p6el66qmndPbsWTkLCgpS27ZtVa1aNdntdh08eFAbN27UjRs3lOvEiRPq1KmTvvrqK/n7+ysvx44dE1BYpgAAAAAAsMowdLdZtWqV5s2bJ2fVq1fX8uXLVbt2bTm7fPmyhg8frtmzZytXSkqK+vfvr4SEBN0Oq1at0rx58+SsevXqWr58uWrXri1nly9f1vDhwzV79mzlSklJUf/+/ZWQkKC8vPrqq/rpp5/k7KmnntLHH3+sqKgoOfv1118VFxenXbt2Kdc333yjKVOm6JVXXlFejh07Jmft27dX8eLFZVXlypWFPy9TAAAAAAD8wTkcDsXHx8vZPffcox07digyMlKuihUrplmzZsk0Tc2YMUO5NmzYoN27d6t+/foqSg6HQ/Hx8XJ2zz33aMeOHYqMjJSrYsWKadasWTJNUzNmzFCuDRs2aPfu3apfv748OXPmjGbNmiVn7dq104oVK2Sz2eTq3nvv1ZYtW9S0aVPt2bNHuSZPnqzBgwcrJCREt3L8+HE5mz9/vooVKybAClMAAAAAAFhlGLqbrF27Vvv27ZOzWbNmKTIyUrcyceJEbdiwQSdOnFCucePGaeXKlSpKa9eu1b59++Rs1qxZioyM1K1MnDhRGzZs0IkTJ5Rr3LhxWrlypTyZNGmSMjIylKtEiRKaNWuWbDabPAkJCdG8efP00EMPKTs7WzelpqZqzpw5GjJkiDw5c+aM0tPTlatcuXIqVqyYAKtMAQAAAADwB7d8+XI5q1u3rlq3bq28hISE6KWXXtLgwYOVKyEhQdeuXVNISIiKyvLly+Wsbt26at26tfISEhKil156SYMHD1auhIQEXbt2TSEhIXJnxYoVcta3b1+VKVNGealVq5batWunFStWKNfy5cs1ZMgQeXLs2DE5q1GjhoCCMPX/2IMT6KgKw+/fnzu5SSaZgYSdQAYBlRCQTUFRFKSgFLVUhIJlURFZFKT4oqiIS4u4ovUHCiiIVY6ASwRlExQUTdT6E1BBkSyoJAHKjmaSyTb3/ee8/znnnjkBciGkWb7PIyIiIiIiIuKUYVBTBINB1q9fj93YsWOpqFGjRnHvvfdSWFhImUAgwObNm7nhhhuoDMFgkPXr12M3duxYKmrUqFHce++9FBYWUiYQCLB582ZuuOEGwu3cuZNff/0Vu7Fjx1JRY8eOJSUlhZAvv/yS48ePEx8fT3kyMzOxS0pKQuRMmIiIiIiIiIjUYtu3b+fQoUPY9e/fn4qKj4+ne/fupKWlEbJhwwZuuOEGKsP27ds5dOgQdv3796ei4uPj6d69O2lpaYRs2LCBG264gXAbNmzArnnz5nTs2JGKuvrqq4mMjKS4uJgyJSUlbNq0iSFDhlCerKws7JKSkhA5EyYiIiIiIiIiThkGNcWOHTuwa9SoEUlJSTjRq1cv0tLSCNmxYweVZceOHdg1atSIpKQknOjVqxdpaWmE7Nixg/Ls2LEDuyuuuAInYmJi6NatG19//TUhO3bsYMiQIZQnIyMDu/bt2yNyJkxEREREREREarHdu3dj16lTJ5zq3LkzdhkZGVSW3bt3Y9epUyec6ty5M3YZGRmUZ/fu3dh17twZpzp37szXX39NSEZGBieTkZGBXVJSEmWOHz/O5s2b+eabbzh48CClpaU0a9YMn8/HH/7wB5KTkxGxMxERERERERGpxdLT07Hz+Xw45fP5sNu3bx9+vx+Px8PZSk9Px87n8+GUz+fDbt++ffj9fjweD3bp6enY+Xw+nPL5fNhlZGRwMllZWYRER0cTGxvLXXfdxeuvv05+fj4n07ZtWx544AFuu+02IiMjETERERERERERccowqClyc3Ox8/l8OOXz+QiXnZ1N+/btOVu5ubnY+Xw+nPL5fITLzs6mffv2hAQCAY4ePYqdz+fDKZ/Ph93evXspz3/+8x9+//13QkzTpGPHjhw5coTT2bNnD+PHj2fu3LmsWrWK888/H6nbTERERERERERqMb/fj118fDxOxcXFES4vL4/K4Pf7sYuPj8epuLg4wuXl5WHn9/sJFx8fj1NxcXHY5eXlUZ6MjAzs/H4/fr8fJ3bu3EmPHj3YtGkT3bp1Q+ouExERERERERGnDINzqXv37lTEN998w+n4/X7s3G43TsXExBDO7/dTGfx+P3ZutxunYmJiCOf3+7Hz+/2Ec7vdOBUTE4Ndfn4+5cnMzKQ8MTExjBw5kptuuonWrVsTFxfH0aNH+e6773j77bf54IMPsDt27BiDBw/mm2++oXHjxkjdZCIiIiIiIiJSzWzdupXK4vf7sXO73TjldrsJl5+fT2Xw+/3Yud1unHK73YTLz8/Hzu/3E87tduNUTEwMdpZlUVBQQExMDHYZGRmE6969O2+++Sbt2rXDrkWLFlx00UWMHDmSlStXcuedd/Kf//yHkF9//ZUHHniAxYsXI3WTiYiIiIiIiIhDlmFwLn3zzTdUlmAwiJ3L5aIyFBYWUhmCwSB2LpeLylBYWIhdMBgknMvlwinLsghXWFhITEwMdpmZmdj17NmTjRs3Uq9ePU5l8ODB9OzZkw4dOnD8+HFCXn/9dWbMmEHbtm2RusdEREREREREpJq55JJLqCwej4fDhw8TEggEcCoQCBAuNjaWyuDxeDh8+DAhgUAApwKBAOFiY2Ox83g8hAsEAjgVCAQIFxsbS7gZM2Zw5513EnLxxRdTr149KiIhIYF//OMfTJkyhZCSkhKWLVvGzJkzkbrHRERERERERMQxg5rC4/FgFwgEcCoQCBDO6/VSGTweD3aBQACnAoEA4bxeL3Yej4dwgUAApwKBAHaRkZFERUURrkuXLpyNu+66iwULFrBr1y5CNm7cyMyZM5G6x0RERERERETEKYMaw+PxYOf3+3HK7/cTzuv1Uhk8Hg92fr8fp/x+P+G8Xi92Ho+HcH6/H6f8fj92Xq+XcyEiIoIbb7yRXbt2EbJt2zakbjIRERERERERccygpmjatCl2ubm5OJWbm0u4hg0bUhmaNm2KXW5uLk7l5uYSrmHDhtjFxsbi8Xjw+/2E5Obm4lRubi52DRs25Fy55JJLsPP7/eTn5xMbG4vULSYiIiIiIiIitVi7du1Yu3YtIdnZ2TiVk5ODncfjoWXLllSGdu3asXbtWkKys7NxKicnBzuPx0PLli0J165dO7Zv305IdnY2TuXk5GCXlJTEudKkSRPCHT9+nNjYWKRuMRERERERERFxyjCoKZKSkrDLyMjAqaysLOzat2+PYRhUhqSkJOwyMjJwKisrC7v27dtjGAbhkpKS2L59OyEZGRk4lZWVhV1ycjLnimEYhGvQoAFS95iIiIiIiIiI1GLJycnYZWZmcuTIERo1akRFffXVV9glJydTWZKTk7HLzMzkyJEjNGrUiIr66quvsEtOTqY8ycnJ2H311Vc49e9//xu75ORkzpXDhw9j5/V6iYmJQeoeExGpE2LqGzhhGFQJw4VjVtCgKhgGZ8TCOSto4JSFcy6DM2BQFQzDoCpYnAELxwwXjgWDnBED54KWgVMGzhX7I3CqtHEkThXmB3HKyGuGU+7AUZxyRUThVLC0EKcMI4IqYxg4ZVlBHLMsnDIMF1XCcOGcgVOWVYJTVrAUp1wRUThnUXUMnLKCJThluCJwzsAxy0Kq1mWXXYbX6yUvL4+QtLQ0Bg0aREVYlsWXX36JXb9+/agsl112GV6vl7y8PELS0tIYNGgQFWFZFl9++SV2/fr1ozz9+vXj0UcfJeTHH3/k2LFjNGjQgIrYtWsXR48exa5fv36EGzx4MKtXrybkzjvvZN68eTi1detW7Dp27IjUTSYiIiIiIiIiThnUGNHR0fTv359Vq1YRsmzZMgYNGkRFfPLJJxw4cIAQl8vF9ddfT2WJjo6mf//+rFq1ipBly5YxaNAgKuKTTz7hwIEDhLhcLq6//nrKc/nll9OoUSOOHDlCmWAwyFtvvcXEiROpiOXLl2PXqVMnWrduTbi+ffuyatUqQpYuXcrTTz9NbGwsFVVaWsrKlSuxu/baa5G6yURERERERETEMYOa5MYbb2TVqlWErFq1igMHDtC8eXNOZ+HChdhdeeWVNGnShMp04403smrVKkJWrVrFgQMHaN68OaezcOFC7K688kqaNGlCeVwuF3/605/417/+Rcgrr7zChAkTMAyDUyksLORf//oXdoMHD6Y8N9xwA1OnTsWyLMqcOHGC1157jUmTJlFRc+fO5ccff8TuxhtvROomExERERERERGnDGqUm2++mZkzZ5KTk0OZwsJCpk6dyooVKziVjz/+mHfeeQe76dOncyolJSV89dVX2EVFRXHppZdyMjfffDMzZ84kJyeHMoWFhUydOpUVK1ZwKh9//DHvvPMOdtOnT+dUpk2bxuuvv45lWZTZvn07L7/8MhMnTuRUZs2aRXZ2NiGxsbFMmjSJ8rRt25aBAweybt06QqZNm0b37t257LLLOJ2srCweffRR7K677jouvvhipG4yEREREREREanloqOjefDBB5k0aRIhb731Fh07duThhx+mPFu3bmXUqFHY9ezZk+uvv55TOX78OFdddRV2zZo148CBA5xMdHQ0Dz74IJMmTSLkrbfeomPHjjz88MOUZ+vWrYwaNQq7nj17cv3113MqF110EUOHDuWdd94hZNq0abRp04YBAwZQntdee42nn34au7vvvpumTZtyMjNmzGD9+vVYlkWZwsJCBg0axNy5cxk2bBiGYRAuGAwyb948Zs6cSV5eHiFRUVHMnj0bqbtMRERERERERByyDIOaZty4cSxfvpzU1FRCHnnkEVJTU/nb3/5G586dcbvd7NmzhzfffJPFixeTn59PSGxsLAsWLOBcGTduHMuXLyc1NZWQRx55hNTUVP72t7/RuXNn3G43e/bs4c0332Tx4sXk5+cTEhsby4IFC6iIOXPm8Omnn3Lo0CHK5Ofn86c//YnbbruNMWPGcOGFFxIIBPjxxx95+eWXee+997BLTk5mxowZnGpHtIYAACAASURBVEqvXr2YNGkSL774IiEHDx7k5ptv5plnnmHAgAFccMEFNG/enBMnTrBz504++OADdu7cSbgXX3yRrl27InWXiYiIiIiIiEgdEBkZSUpKCj169GDv3r2EbNy4kY0bN3IqhmGwdOlSunbtyrkSGRlJSkoKPXr0YO/evYRs3LiRjRs3ciqGYbB06VK6du1KRbRq1YqUlBT69etHcXExZYqLi1m0aBGLFi3iVBo1asTq1aupX78+pzNnzhz27NnDunXrsNu2bRvbtm3jdAzDYPbs2YwbNw6p20xEREREREREnDKokZo2bUpqaiqjR49my5YtVESTJk1YsmQJN9xwA+da06ZNSU1NZfTo0WzZsoWKaNKkCUuWLOGGG27AiauuuopNmzYxatQo9u7dS0VcfPHFvPnmm5x//vlURHR0NCtXrmTatGm89NJLWJZFRbVs2ZL58+czaNAgRExEREREREREHDOoqXw+H5s3b+aVV15h0aJFbNu2jfI0bdqUESNG8MADD9CsWTMqKjIykj59+mDXsGFDKsrn87F582ZeeeUVFi1axLZt2yhP06ZNGTFiBA888ADNmjXjTFx11VV89913PPvssyxdupTs7GzK06FDB8aMGcOUKVOIiorCiaioKObNm8ctt9zC3LlzSUlJoaCggJPp0qULt9xyC3fddRdutxuRMiYiIiIiIiIiThnUaC6Xi4kTJzJx4kTS09P56aefyM3NpaCggBYtWtCqVSsuvfRSTNPEqbi4OD799FPOhsvlYuLEiUycOJH09HR++ukncnNzKSgooEWLFrRq1YpLL70U0zQ5W/Hx8cyePZtZs2axdetWfvnlF3Jzc4mIiCAxMZELL7yQiy66iLPVo0cPli5dypIlS/j+++/58ccfOXbsGAUFBTRq1IhmzZpxySWX0KJFC0TCmYiIiIiIiIjUYe3ataNdu3ZUV+3ataNdu3acay6Xix49etCjRw/OpcjISC655BIuueQSRCrKRERERERERMQpw0BEpKqYiIiIiIiIiIiIVGMmIiIiIiIiIk4ZiIhUGRMREREREREREZFqzERERERERERERKQaMxERERERERFxykBEpMqYiIiIiIiIiIiIVGMmIiIiIiIiIg5ZhoGISFUxERERERERERERqcZMREREREREREREqjETEREREREREacMRESqjImIiIiIiIiIiEg1ZiIiIiIiIiIiIlKNmYiIiIiIiIg4ZRiIiFQVExERERERERERkWrMRERERERERMQpAxGRKmMiIiIiIiIiIiJSjZmIiIiIiIiIiIhUYyYiIiIiIiIiThmIiFQZExERERERERERkWrMRERERERERMQpw0BEpKqYiIiIiIiIiIiIVGMmIiIiIiIiIk4ZiIhUGRMREREREREREZFqzERERERERETEKQMRkSpjIiIiIiIiIiIiUo2ZiIiIiIiIiDhlGIiIVBUTERERERERERGRasxERERERERExCkDEZEqYyIiIiIiIiIiIlKNmYiIiIiIiIg4ZSAiUmVMREREREREREREqjETERERERERERGRasxERERERERExCnDQESkqpiIiIiIiIiIiIhUYyYiIiIiIiIiThmIiFQZExERERERERERkWrMRERERERERMQpAxGRKmMiIiIiIiIiIiJSjZmIiIiIiIiIOGUgIlJlTERERERERERERKoxExERERERERERkWrMRERERERERMQpAxGRKmMiIiIiIiIiIiJSjZmIiIiIiIiIiIhUYyYiIiIiIiIiIiLVmImIiIiIiIiIU4aBiEhVMREREREREREREanGTEREREREREScMhARqTImIiIiIiIiIiIi1ZiJiIiIiIiIiFMGIiJVxkRERERERERERKQaMxERERERERFxyjAQEakqJiIiIiIiIiIiItWYiYiIiIiIiIiISDVmIiIiIiIiIuKUgYhIlTERERERERERERGpxkxERERERERERESqMRMRERERERERpwxERKqMiYiIiIiIiIiISDVmIiIiIiIiIiIiUo2ZiIiIiIiIiDhlICJSZUxERERERERERESqMRMRERERERERpwxERKqMiYiIiIiIiIiISDVmIiIiIiIiIuKQYRiIiFQVExERERERERERkWrMRERERERERMQpAxGRKmMiIiIiIiIiIiJSjZmISJ3QqIGFE4aBYyWlOGZG4JyFYy4XjpWUckYiI3CsNIhjhoFjQQvHDAPHXAaOBS2qhGXhmGXhmMuFYy6DM1IaxDGXgWMlpThWHIjAqdL8IE6VNDRxqtTvwanIwlY4VlqCUxERkdQ6VhCnDJeJU1awFOcsnDJcJk5ZwRKqhGVRJVwuzoyBY64IHAuW4FgwiHMWjrlMagUDEZEqYyIiIiIiIiIiIlKNmYiIiIiIiIg4ZSAiUmVMREREREREREREqjETERERERERERGRasxERERERERERESkGjMRERERERERccpARKTKmIiIiIiIiIiIiFRjJiIiIiIiIiIiItWYiYiIiIiIiIhDhmEgIlJVTEREREREREREpErt2bOH9PR0apJmzZrRrVs3/htMRERERERERJwyEJGzsGzZMh5++GFqkj//+c+sWrWK/wYTERERERERERGRasxERERERERExCkDEZEqYyIiIiIiIiIiIv81LpeLgQMHUh198cUXHDt2jP82ExERERERERGnDESkkkRGRrJmzRqqoyuvvJK0tDT+20xERERERERERESqMRMREREREREREZFqzERERERERERERKQaM6nGvv/+e8aPH09NUq9ePT766CNERERERERqNQMROQsdO3Zk+PDhlImKiqK66t+/P4mJiZTp0aMH/y0m1dhvv/3Gv//9b2qSuLg4REREREREREROZfDgwQwePJjq7rHHHqM6MBEREREREREREanGTEREREREREQcMgwDEak8R48e5bPPPuN///d/8Xq99OrVi969e3MylmXx3HPPUaZ///507dqV2sykBnnttde46KKLqG4WLFjAkiVLEBERERERERFxauPGjYwaNYpDhw5hd80117B8+XIaNWpEuNLSUu677z7KzJs3j65du1KbmdQg7du3p3v37lQ3CQkJiIiIiIiI1CkGIlIJPv/8cwYOHEgwGCTcRx99RL9+/diyZQtxcXHUZSYiIiIiIiIiIlLlLMvinnvuIRgMYpomDz30EDfddBPFxcXMnz+fJUuW8N133zF9+nRefvll6jITEREREREREacMROQsbdu2ja1bt1Jm3rx5TJw4kZBXX32V5s2b88QTT7Bo0SLGjBlDz549qatMRERERERERESkyu3atYsyDRs2ZPz48YT7+9//zurVq9mxYwf3338/W7Zsoa4yqcYuueQSdu3aRUjr1q2pjqZOncqoUaMoExERgYiIiIiISG1nGIjIWdqzZw9lkpKScLlchDNNk2eeeYaBAwfy2WefsX79egYOHEhdZFKNxcTE0L59e6q7xo0b07hxY0REREREREREKqpZs2aUOXToECfzxz/+kb59+/LJJ59w//33c+211xIREUFdYyIiIiIiIiLilIGInKULLriAMnv27OHbb7+la9eulGfOnDl0796dHTt2MGfOHO6//37qGhMREREREREREaly3bp1o379+vz2228MGzaMV155hauvvppwF198MWPHjmXx4sXMmDGDnJwcHnjgAeoSk1qquLiYPXv2cOzYMSpD/fr16dChAyIiIiIiIiIilaFhw4b8/e9/55577iEjI4O+ffvSokULrrzySt566y3snn/+edLS0ti1axcvvvgiS5YsoS4xqUUCgQBPPvkkK1asYM+ePZSUlFBZ+vTpw6effoqIiIiIiIj8fwxEpBLcfffd7Nmzh/nz51NaWsq+ffvYsmUL4erVq8enn35K//792bFjB/n5+dQlJrXE9u3bGT58OBkZGYiIiIiIiIiI1AQRERHMnTuXO+64gyVLlrBr1y6OHz9OeZo2bUpqaioLFizgpZdeIjs7m7rCpBYoLS3l1ltvJSMjAxEREREREakChoGIVJ7OnTvzwgsvcDr169fn/vvvZ/r06eTm5rJnzx5atGhBbWdSC7z00kvs2LGD8iQkJHDeeecRERHB2ejUqRMiIiIiIiIiItWBYRgkJiaSmJhIXWBSC6xcuRK76Oho7rnnHqZPn06DBg0QEREREREREZGay6QWSE9Px+7VV19l5MiRiIiIiIiIyDliICJSZUxqOL/fz759+wi56qqrGDlyJCIiIiIiIiIiNd3BgwfJz88nLi6OBg0aUFeZ1HBFRUXY9ezZExERERERERGR2uD2229n7dq13H///Tz11FPUVSY1XIMGDYiKiqKoqIgyrVq1QkRERERERM4tw0BEpMqY1ALt2rVj586dlMnJyUFERERERERERGoPk1pgyJAh7Ny5kzIrV65k9uzZREREICIiIiIiIueIgYhIlTGpBcaOHcvzzz/P77//Tnp6Oo899hizZs1CRERERERERERqPpNawOfz8dxzzzF+/HjKPPHEEyQnJzNixAhERERERERERKRmM6klxo0bR1ZWFk8//TTBYJCRI0eybNkynn76aTp06IBhGIiIiIiIiEglMRARqTImtchTTz3F0aNHWbRoEWXWrl3L2rVrqVevHp06daJJkyacqYsuuojHH38cERERERERERGpWia1yNy5c1m6dCnhfv/9d7744gvOxvHjxxEREREREZH/xzAMRESqikkt8eSTTzJjxgxERERERERERKR2MakF/vd//5eZM2ciIiIiIiIiIiK1j0ktsHDhQoLBIHYej4dRo0aRnJxM69atiYiI4Gw0atQIERERERER+f8ZiIhUGZNaYO3atdj16dOHZcuW0aJFC0REREREREREpGYzqeGKi4s5ePAgIfHx8bz55pu0aNECERERERERERGp+UxquOPHj2NZFiGDBg2iZcuWiIiIiIiIyLljGIiIVBmTGq5Bgwa4XC6CwSBlOnTogIiIiIiIiIiI1B4mNZxpmjRv3px9+/ZRJjIyEhERERERETnHDEREqoxJLXD99dezaNEiymzbtg0REREREREREak9TGqBsWPHsmjRIsqsXLmSrKwszj//fEREREREROQcMRCRKtC+fXsOHz5Mq1atqMtMaoHLLruMu+66i/nz55Ofn8+wYcP44osviI6ORkRERERERESkppozZw4CJrXE888/z/fff09qairbtm3j2muvZcGCBXTo0AEREREREREREam5TGqJ6OhoPv74Y26//XaWLVvGZ599RteuXRk9ejSXXnopnTt3pkmTJpypmJgYWrZsiYiIiIiIiIBhGIiIVBWTWuD9999n1qxZhLhcLoLBIMXFxSxZsoQlS5Zwtvr06cOnn36KiIiIiIiI1B65ubm8/fbb7N69m5ycHPLz82nZsiWJiYkMHDiQq666CsMw+G/Jzc3l7bffZvfu3eTk5JCfn0/Lli1JTExk4MCBXHXVVRiGQWX49ttvWbVqFb/++is5OTlERETQsmVLzj//fIYMGUJSUhKVobS0lI8//phNmzaRk5PD/v37qV+/Pi1btuSiiy5i2LBhNG7cGBE7k1rg0KFDbN26FZGTOXHiBGlpaeTk5LB//37q169Py5Ytueiii+jQoQOV6ddff2Xr1q3k5uZy5MgRmjZtSsuWLbn00ktJSEhARERERET++3799VcmTZrE+vXrCQaDlOepp56idevWzJ49mxEjRlCVfv31VyZNmsT69esJBoOU56mnnqJ169bMnj2bESNGcKa2bNnClClT+P777zmZhx56iJ49e/LSSy9x8cUXc6bmz5/P448/zv79+zmZqVOnMnjwYObNm0fTpk2RymFZFoZhUFOZiFSRkSNH8sMPP3A22rRpw8qVK6mo7du389RTT/HBBx8QCAQoT9euXRk/fjwTJ07EMAzO1HvvvcfcuXP57LPPsCyLcBEREfTv359p06ZxzTXXICIiIiJSoxnUWKtWrWLMmDEcP36c0/nll18YOXIkH374IYsXLyYqKopzbdWqVYwZM4bjx49zOr/88gsjR47kww8/ZPHixURFReHEI488wuzZswkGg5zOV199xeWXX84zzzzD3/72N5z47bffGDVqFKtXr+Z0iouLefvtt9myZQsrVqzg6quvRs7M6tWrWbhwIT/++CN79+6lUaNGdOvWjdGjRzNixAhcLhc1hUktEB8fT1JSEudSq1atkLOzYcMGjhw5wtkIBAJUhGVZ/POf/+TBBx+kqKiIU/n222+56667SElJ4Y033qBFixY4kZeXx+TJk3n99dc5ldLSUjZs2MDGjRuZMmUKTz/9NNHR0YiIiIiISNVJS0tj+PDhFBUVUR7DMLAsi3BLly4lMjKSV199lXMpLS2N4cOHU1RURHkMw8CyLMItXbqUyMhIXn31VSrqmWeeYdasWZTHMAwsyyJcUVERU6dOpWHDhowePZqKCAaDjBw5kjVr1lAewzCwLItw//nPfxg0aBBfffUVHTp0QGDfvn0sWLCA9evXs2fPHubNm8fIkSMJV1payrhx43jttdewO3ToEBs3bmTjxo28/PLLvP322yQkJFATmNQCQ4cOZejQoUj1dfz4cY4cOUJVefTRR5k1axZObNq0ib59+/Lvf/+b+Ph4KqKkpIQ///nPbN68mYqyLIv/+Z//4cCBA6xYsQIREREREakaBw4c4KabbqKoqAi7IUOGMGXKFLp06UJsbCw///wzy5Yt44UXXuDEiROELFmyhB49ejBx4kTOhQMHDnDTTTdRVFSE3ZAhQ5gyZQpdunQhNjaWn3/+mWXLlvHCCy9w4sQJQpYsWUKPHj2YOHEip7Np0yYefPBB7NxuN3fddRdjxozhggsuoLS0lB9//JGFCxfyr3/9i2AwSMj48ePp1KkTXbt25XT+/ve/s2bNGuxatGjBfffdx+DBg0lMTOTYsWN8/fXXzJkzh08++YSQ33//nUGDBvHtt9/i9XqpyxYtWsQ999yD3+8nxLIsyvPPf/6T1157jVNJTU3l2muv5fPPPyc+Pp7qzkSkCmRkZFBVUlJSePzxx7FzuVz86U9/YvDgwbRq1YojR47w9ddfs3jxYo4dO0ZIeno6f/3rX1m7di0ul4vT+T//5/+wefNm7DweD7feeiu9e/emWbNm5OTksGHDBt566y2Ki4sJeeutt+jSpQsPPvggIiIiIiI1jWEY1DRPPPEEBw8eJMQwDObOncvkyZOxa9euHY899hjDhg1jwIAB5OTkEPLwww8zevRoPB4Ple2JJ57g4MGDhBiGwdy5c5k8eTJ27dq147HHHmPYsGEMGDCAnJwcQh5++GFGjx6Nx+PhZCzLYtq0aQSDQULi4+NZs2YNvXr1wq5Hjx706NGDgQMHMnLkSIqKiigTCASYMWMG69at41T279/PM888g12nTp3YsGEDCQkJhDRu3JjrrruOgQMHct999/Hcc88RkpWVxfz585k+fTp11SuvvMKECROoiF9++YVHH32Uiti5cyczZsxg/vz5VHcmIlUgIyMDu8svv5zx48fjVFxcHKdSUFDA5MmTsSyLkLi4OFauXEnfvn2xGzp0KA8++CCDBg0iNTWVkA8//JB33nmH4cOHcyrbtm1j3rx52HXs2JH169fj8/mwGzVqFPfddx8DBw5k3759hDz22GOMGjUKn8+HiIiIiIicO/v372fRokXY3XHHHUyePJmT6dChA8uXL6d3795YlkWZw4cPs3DhQqZNm0Zl2r9/P4sWLcLujjvuYPLkyZxMhw4dWL58Ob1798ayLMocPnyYhQsXMm3aNE5m5cqVfPfdd9i99NJL9OrVi5MZOnQo6enpPPTQQ4SsX7+eb775hu7du3MyTz75JIFAgJCYmBhWrlxJQkIC5TEMgzlz5rBjxw42btxIyHPPPcfkyZOJjY2lrvnll1+45557qKgXXniB/Px8QiIjI3n44Ye55ppr+Pnnn1m0aBGffPIJIS+//DL33Xcfbdq0oTozkdPKyclhxYoV3HvvvciZyczMxK5fv37cdtttVLYFCxZw4MAB7N555x369u1LeRo0aMCGDRvo2rUrGRkZhDz++OMMGzYMwzA4mcceewy7hg0bsmnTJpo1a0Z5OnfuzMaNG7n44ospKiqiTFFREU8//TQvvvgiIiIiIiI1ikGNsmTJEgKBACFer5dnn32W07nyyisZPXo0b7zxBiHz589n2rRpVKYlS5YQCAQI8Xq9PPvss5zOlVdeyejRo3njjTcImT9/PtOmTeNkFixYgN2VV17JiBEjOJ3p06fz6quvsmfPHkIWLlzI4sWLKU9hYSGvvfYadtOmTeP888/ndObPn8+FF16IZVmUOXjwIO+99x6jRo2irpk3bx75+fnYXXfddQwePJhrr70WO8uyWL58OXbPPPMMU6dOpUzPnj0ZMmQIf/7zn/nwww8pEwwGeeONN3j00Uepzkxqgfz8fGJjY6lspaWlvPjii8ycOZNLLrmEe++9FzkzGRkZ2CUlJVHZLMvi+eefx27UqFFcc801nEpsbCwLFy6kX79+hOzcuZONGzcyYMAAypOens7q1auxe+aZZ2jWrBmn0rFjR+6//35mzZpFyOLFi5k9ezZxcXGIiIiIiMi5sWbNGuyGDx9OXFwcFTFhwgTeeOMNQvbs2cPu3btJSkqisqxZswa74cOHExcXR0VMmDCBN954g5A9e/awe/dukpKSCPf777/z2WefYTdhwgQqwjRNxo4dy0MPPUTIunXrOJlPP/2UvLw8QlwuF+PGjaMizj//fPr3789HH31EyNq1axk1ahR1zYoVK7B79NFHeeyxxyjP1q1bOXjwICGNGjVi0qRJ2EVFRTFnzhw+/PBDQtatW8ejjz5KdWZSC6xYsYKSkhLGjx9PZdm2bRvjx49n69atyNnLzMzELikpicq2detWcnNzsZsyZQoV8Yc//IFOnTqxY8cOQlavXs2AAQMozwcffIBdw4YNGTVqFBUxadIknnzySUpKSihTWFjIRx99xNChQxERERERqTEMaozDhw/z9ddfYzd8+HAq6oorrsDn85GdnU3IunXrSEpKojIcPnyYr7/+Grvhw4dTUVdccQU+n4/s7GxC1q1bR1JSEuE++ugjioqKCImMjOSmm26iom6++WYeeughQvbv38/27dvp1q0b4dauXYtdz549adWqFRV1880389FHHxGyceNGSktLiYiIoK7Yu3cv+/btI6RNmzbMnDmTk9m8eTN2119/PZGRkYTr2LEj3bt355tvvqHM999/T0lJCaZpUl2Z1ALBYJCJEydiGAbjxo3jbOTl5TFz5kxefPFFSktLkcqRmZmJXVJSEpVt7dq12LVv354ePXpQUbfccgv33XcfIevWreNk1q5di92wYcOIjo6mIpo1a8aAAQNYu3YtIevWrWPo0KGIiIiIiEjl+/LLLwkGg4RERETQs2dPnOjVqxcrVqwgJDU1lXvuuYfK8OWXXxIMBgmJiIigZ8+eONGrVy9WrFhBSGpqKvfccw/h0tLSsOvatSuxsbFUVNu2bUlISGD//v2EpKam0q1bN8KlpaVh16tXL5zo1asXdkePHuXHH3+kU6dO1BUZGRnYDR06FNM0OZnPP/8cuwEDBnAyycnJfPPNN5QJBALk5uZy3nnnUV2Z1BKWZTFhwgQMw+COO+7gTKxatYq7776bnJwcpPL89ttvHD58mJCEhATq169PZdu8eTN2ffr0wYk+ffpg9/PPP/Pzzz/Tpk0b7IqKikhLS8OuT58+ONGnTx/Wrl1LyKZNmxARERERqVEMaozdu3dj16FDB+rVq4cTl19+OStWrCAkPT2dyrJ7927sOnToQL169XDi8ssvZ8WKFYSkp6dTnt27d2PXs2dPnOrZsycrV64kJD09nfKkp6dj17NnT5xISkqiQYMGHDt2jJD09HQ6depEXXH8+HHsWrduzckEg0FSU1Ox6927NyeTmJiI3YkTJ6jOTGoRy7IYP348hmEwduxYKionJ4fJkyfz/vvvU54LLriARx55BDkzGRkZ2CUlJXEu7Nq1C7vLL78cJ7p160ZMTAwFBQWE/PTTT7Rp0wa7zMxMiouLsbv88stx4oorrsAuOzub/Px8YmNjERERERGRypWeno5d27ZtcapNmzbYZWVlYVkWhmFwttLT07Fr27YtTrVp0wa7rKwsLMvCMAzs0tPTsWvbti1OtWnTBruMjAzC7du3j7y8POzatm2LU23atOHYsWOEZGRkUJcEg0Hs6tWrx8ns3LmT48ePE9K6dWsSExM5mYiICOwKCgqozkxqAdM0CbEsi3HjxmEYBrfffjunUlpayrx583j44YfJy8sjXFRUFNOnT+ehhx7C7XYjZyYjIwO79u3bU+bgwYO8+eabbNmyhaysLE6cOEFcXBxNmzala9eu/PGPf+Tqq68mMjKS0zl+/DiHDh3CLikpCSdM06Rt27b88MMPhKSnpzNw4EDs0tPTsXO73Zx33nk4kZSUhJ1lWWRkZNClSxdERERERKRyZWZmYpeYmIhTPp8Pu4KCAnJzc0lMTORsZWZmYpeYmIhTPp8Pu4KCAnJzc0lMTCQkGAzy888/Y5eYmIhTPp8Pu8zMTMJlZmYSLjExEad8Ph/btm0jJDMzk7okPj4eu+zsbE5mw4YN2PXp04dTOXz4MHZer5fqzKQWGDFiBCkpKaxZs4YylmVxxx13YBgGY8aMoTxbt25lwoQJbN26lfL07t2bhQsXkpycjJydzMxM7BISEpg6dSoLFiygqKgIu+zsbMps3ryZ559/nvPOO4+ZM2dy++2343K5OJn09HTC+Xw+nPL5fPzwww+EZGRkEC49PR27xMREnGrcuDExMTEUFBQQkpGRQZcuXRARERERkcp14sQJ7BISEnAqISGBcEePEKDF2AAAIABJREFUHiUxMZGzdeLECewSEhJwKiEhgXBHjx4lMTGREL/fT0lJCXYJCQk4lZCQgN3Ro0cJd+LECewiIyNp3LgxTiUkJGB39OhR6pJWrVph98MPP3Ayq1evxq5///6cSlZWFnZxcXFUZya1QFRUFCkpKQwZMoQ1a9ZQxrIs7rjjDlwuF7feeisheXl5zJw5kxdffJHS0lLCNWrUiGeffZYxY8YglSMjIwO7WbNmUVJSQkX8+uuvjBs3jvfee49ly5YRHx9PeQ4dOoSdy+UiISEBp1q2bIndgQMHCHfo0CHsEhMTORMtWrQgKyuLkAMHDiAiIiIiUmMYnFPvvPMOFfGXv/yF08nLy8MuNjYWp2JiYgjn9/upDHl5edjFxsbiVExMDOH8fj92eXl5hIuNjcWpmJgY7Px+P+Hy8vKwi4mJ4UzExMRg5/f7qUvatWtHfHw8x48fp0xKSgrPPfcczZs3x+77778nLS2NEMMwuOaaaziZ3NxcNm/eTEi9evVo2bIl1ZlJLREVFUVKSgpDhgxhzZo1lAkGg9x+++0YhsEtt9zCqlWruPvuu8nJyaE8t956K3PmzKFx48ZI5cnMzMSupKQEO4/HQ7NmzSguLubgwYMUFhYSbv369Vx99dV88cUXxMbGEs7v92MXGxuLy+XCKa/Xi11+fj7h/H4/dl6vlzPh9Xqxy8/PR0RERERE/p9hw4ZREZZlcTp+vx87t9uNUzExMYTz+/1UBr/fj53b7capmJgYwvn9fuz8fj/h3G43TsXExGBXVFRESUkJpmkS4vf7sXO73ZyJmJgY7Px+P3WJYRgMHDiQ5cuXU6awsJDbbruNlJQUPB4PZfLz85k8eTLBYJCQ3r1706xZM8pTWFjIlClTKC0tJaRbt24YhkF1ZlKLREVFkZKSwtChQ1m9ejVlgsEgY8aMYfHixXz++eeUp3379ixcuJA+ffoglS8zM5NwERERTJo0idtvv50uXboQUlxczBdffMGsWbPYtGkTdt999x133HEHy5YtI5zf78fO7XZzJmJiYrDz+/2E8/v92Lndbs5ETEwMdn6/HycMw0BEREREpLb6y1/+QmUpKCjAzu1241RkZCSGYWBZFiF+v5/KUFBQgJ3b7capyMhIDMPAsixC/H4/dgUFBYRzu904FR0dTTi/309cXBwhBQUF2Lndbs5EdHQ0dn6/n7pm4sSJLF++nJANGzbQpUsXrr/+euLj40lJSeGHH37AbsyYMYQrKSkhNTWVhx56iC+++AK7v/zlL1R3JrVMVFQU7777LkOHDmX16tWUCQaDfP7554SLjo5mxowZPPDAA0RFRSGV77fffuPgwYPYNWvWjPfff5/LLruMcJGRkfTp04c+ffrw8ssvc++995KXl0fI8uXLufPOO7nqqquw8/v92Lndbs6E2+3Gzu/3E87v92Pndrs5E263Gzu/38+51Ko+jhgGjhk45zIMnCostXAqwqDKlFo4FuUycCpoWTjlMgyqQnHQwqnoCAOnioMWTkUYBk5ZWFQFA4MzYeGcy8Cx0qCFUwVFOFb4WwROlfgjcCr4ewROBfMb4ljQwrEIg2otaOGYYVAlghZOGZaFU5Zh4JTlMnDKCAZxyjIMHItw4VipxRkxqBoWjlmRLpwyiktxzOWiNjAMg3Pp7bffprJER0djV1xcjFMlJSVYloVdREQElSE6Ohq74uJinCopKcGyLOwiIiKwi46OJlxxcTFOFRYWEi4iIgK76Oho7IqLizkThYWF2EVERFDX9O7dm6FDh/Luu+8SkpWVxdy5cylP27ZtGTlyJHYZGRl06dKFgoICwjVs2JARI0ZQ3ZnUQlFRUbz77rsMHTqU1atXU55+/fqxYMECLrzwQuTcyczMxK5x48Zs2rSJjh07cjoTJkzA7XZz2223YfePf/yDjz76CLuIiAjsLMviTJSUlGBXWlpKuIiICOwsy+JMlJSUYFdaWooTlmVREYZhICIiIiJSl3k8HuwKCgpwqqCggHBer5fK4PF4sCsoKMCpgoICwnm9Xuw8Hg/hCgoKcCoQCGBnGAYejwc7j8eDXUFBAWciEAhg5/V6qYsWLlxIeno633//PaficrlYvHgxpmliV1hYSEFBAeV54YUXaNiwIdWdSS0VFRXFu+++y9ChQ1m9ejV2s2bNYubMmci5d/HFF2NZFmfqlltu4eWXX+bLL78k5JNPPuHYsWM0aNCAEI/Hg11BQQFnIhAIYOf1egnn8XiwKygo4EwEAgHsvF4vIiIiIiI1hkGN4fF4sAsEAjhVWFhIOK/XS2XweDzYBQIBnCosLCSc1+vFzuPxEC4QCOBUYWEhdrGxsRiGgZ3H48EuEAhwJgoLC7Hzer3URY0aNWLz5s3cddddvP3225TH6/WyZMkS+vbtS0VERETwwgsvMHr0aGoCk1osKiqKd999lyFDhrBmzRpCXnnlFUaOHEmbNm2oiw4cOEAgEKAyud1umjdvTmUzDIOnn36a3r17E1JaWsrmzZsZMmQIIR6PB7tAIMCZCAQC2Hm9XsJ5PB7sAoEAZyIQCGDn9XoREREREZHKV69ePewOHz6MU4cOHSKc1+ulMtSrVw+7w4cP49ShQ4cI5/V6sfN6vRiGgWVZhBw+fBinDh06hJ3X6yVcvXr1sAsEAvj9fjweD04cOnQIO6/XS13VqFEj3nrrLWbMmMG7777LTz/9RH5+PhdccAHJyckMGTKEJk2acDper5frrruORx55hI4dO1JTmNRyUVFRpKSkMGTIENasWUOZ7Oxsrr76arZs2ULr1q2pa26++Wa2bNlCZerVqxepqamcC1dccQX16tXj999/JyQ9PR07r9eLXUFBAcXFxURGRuLEb7/9hp3X6yWc1+vF7sSJE5yJ3377DTuv14uIiIiISI1hUGO0adOG1NRUQrKzs3EqJycHO8Mw8Pl8VIY2bdqQmppKSHZ2Nk7l5ORgZxgGPp8PO9M0SUxMJDs7m5Ds7GycysnJwe68884jXJs2bQiXnZ1N+/btcSInJwe78847j7quS5cudOnSBScSExN5//33admyJZ06dSIqKoqaxqQOiIqKIiUlhSFDhrBmzRrK7N27l759+7JlyxZatWqFVF8RERFceOGFbNu2jZCDBw9il5iYiJ1lWeTm5tK6dWucyM7Oxq558+aES0xMxC4nJwengsEg+/btw6558+aIiIiIiEjlS0pKwi47OxuncnJysPP5fHg8HipDUlISdtnZ2TiVk5ODnc/nw+PxEC4pKYns7GxCsrOzcSonJwe79u3bE65169ZER0dTWFhISHZ2Nu3bt8eJnJwc7Nq3b484Fx8fz6BBg6jJTKqxvXv38sorr1BZkpOT+fjjjwkEApT55Zdf6Nu3L3/96185nTZt2jB27Fj+L3twAl1Vfeh7/Pc/2SETcyAgJAwihDAPBtBIBbFiSwioOFFAEbEIV9A6QBUh3pbLrVprpRUBBRERIoMpikFksg0FmVIBUQgEgUQGQSJyMkCS/VbWeue9vbISyMZwPJDv54OfR2RkpJzy8/PldN1118nj8aikpEQ+R44cUYsWLeRGdna2nNq2bauyYmNj5ZSTk6OSkhJ5PB5V1rFjx1RUVCSntm3bCgAAALhSGKMrRmxsrJx27typ4uJiBQUFqbIyMjLkFBcXp6oSGxsrp507d6q4uFhBQUGqrIyMDDnFxcWpPLGxsVqzZo18MjIy5FZGRoac4uLiVJbH49F1112nL7/8Uj4ZGRn65S9/qco6deqUDh8+LKe4uDiherIUwA4fPqxp06bpcsrKytK0adN0MTfffLNGjRqlq8HChQuVn5+vqhQWFqbLqaCgQE4NGjSQU0hIiFq0aKGsrCz5fPnll+rdu7cqKz8/X998842c4uLiVFZsbKycioqKtG/fPrVt21aV9dVXX8kpKChIrVu3FgAAAICqFx8fL6ezZ89q9+7d6ty5sypr06ZNcurWrZuqSnx8vJzOnj2r3bt3q3PnzqqsTZs2yalbt24qT3x8vJw2b94s27ZljFFl/Pjjj/ryyy/l1K1bN5UnPj5eX375pXw2bdokNzZv3iynGjVqqEOHDkL1ZAnVTtOmTeUPp0+f1pdffikfy7LUq1cvXYpjx47JqVGjRiqrY8eOysrKks+mTZs0ZswYVdb27dt1/vx5OXXo0EFlRUdHq169ejp9+rR8Nm3apLZt26qyNm3aJKfY2FjVqFFDAAAAAKpe8+bN1a5dO+3Zs0c+q1atUufOnVUZJ06c0H/+8x85DRw4UFWlefPmateunfbs2SOfVatWqXPnzqqMEydO6D//+Y+cBg4cqPL86le/kjFGtm2r1OnTp7Vlyxb17NlTlbFmzRqVlJTIp1atWurTp4/K8+tf/1pvv/22fDZs2KCCggKFhoaqMlavXi2nPn36qGbNmkL1ZAm4THJzc9W7d285ffHFF+rUqZPcOHnypPbv3y+nHj16qKzbb79d//jHP+Tz2WefybZtGWNUGRs2bJBT9+7dFRUVpbKMMbrtttuUkpIin/Xr12vkyJGqrA0bNsjpV7/6lQAAAIAritEVJTExUXv27JHPvHnzNHHiRFXGO++8o6KiIvlERUWpZ8+eqkqJiYnas2ePfObNm6eJEyeqMt555x0VFRXJJyoqSj179lR5oqKiFB8fry1btshn7ty56tmzpyrjrbfeklP//v1Vo0YNlad///4KDg7W+fPnVSo3N1cffPCB7r//fl3MuXPntHDhQjklJSUJ1ZelANaiRQtNnz5dgaBZs2aCOy1bttS1116rrKws+cyZM0czZsyQG7NmzZJt2/KpV6+e4uPjVVZiYqIeffRR+Rw6dEgbNmxQ3759VRnvvPOOnJKSklSRxMREpaSkyGf58uV6/fXXVbNmTV3MkSNHtH79ejklJSUJAAAAwOUzfPhwvfTSS7JtW6X27t2rlJQU3XvvvbqQH3/8UX/961/lNHz4cHk8HlWl4cOH66WXXpJt2yq1d+9epaSk6N5779WF/Pjjj/rrX/8qp+HDh8vj8agiDzzwgLZs2SKfd999V5MmTVLLli11Idu2bdOqVavk9MADD6gitWvX1uDBg7VkyRL5TJ8+XUOGDFFwcLAu5O9//7tOnToln/DwcN19991C9WUpgEVHR2vSpEnCleuee+7R//7v/8rnnXfe0eOPP65WrVqpMg4ePKhp06bJ6f7775fH41FZ0dHR6tWrlzZv3iyfv/zlL+rbt68uZuXKlcrMzJSPMUZDhgxRRQYMGKDw8HDl5eWplNfr1ezZs/W73/1OF/Paa6+ppKREPk2aNFFCQoIAAACAK4rRFaVDhw4aMmSIlixZIp8JEyYoISFB0dHRKo9t2xo/fryys7PlExERoYkTJ+pCzpw5ozvvvFNO9evX1/vvv6+KdOjQQUOGDNGSJUvkM2HCBCUkJCg6OlrlsW1b48ePV3Z2tnwiIiI0ceJEXcioUaM0ffp0ZWdnq1ReXp4efvhhpaWlqUaNGirPmTNn9NBDD6m4uFg+PXr0UGJioi5kypQpWrp0qWzbVqldu3bphRde0B//+EdVZPfu3Zo8ebKcxo0bp6ioKKH6sgRcRmPHjtXLL7+soqIilTpz5owGDhyozZs3q3bt2rqQ7777TiNHjlR+fr58QkJC9Pvf/14VmTx5shITE+Xz4Ycfavny5brzzjtVkR9//FFjx46V01133aV27dqpIvXq1dPYsWP18ssvy2fq1Km666671Lx5c1Vkx44devXVV+X07LPPKigoSAAAAAAur+TkZK1YsUKFhYUqdfz4cSUkJGjRokW68cYb5XT8+HFNmDBBKSkpcnrqqafUsGFDXci5c+e0du1aOTVq1EgXk5ycrBUrVqiwsFCljh8/roSEBC1atEg33nijnI4fP64JEyYoJSVFTk899ZQaNmyoCwkJCVFycrIefvhh+axbt06//vWv9dZbb6l58+Zy2rlzp4YNG6Zdu3bJxxij6dOn62I6dOig3/zmN3r33XflM23aNOXn5ys5OVm1atWSj23bWrFihUaOHKm8vDz51K9fXxMnThSqN0vAZRQTE6NHH31UM2bMkM9XX32lHj166H/+53905513qjwLFizQE088oVOnTslp8uTJio6OVkUGDBignj176vPPP5fPsGHDtHjxYiUlJamso0ePauDAgTp8+LB8goKC9MILL+hinnnmGb3xxhs6e/asSp09e1Z9+/bVqlWr1KZNG5X173//W4MGDVJRUZF8mjdvrtGjRwsAAAC40hhjdKVp166d3njjDY0cOVI+hw8fVkJCguLj49WpUyeFhoYqKytLa9eu1blz5+TUv39/Pf/887pc2rVrpzfeeEMjR46Uz+HDh5WQkKD4+Hh16tRJoaGhysrK0tq1a3Xu3Dk59e/fX88//7wqY9SoUfrXv/6l+fPny2ft2rW67rrrdMstt6h169YqKCjQnj17tGnTJpX1hz/8QbfccosqY+bMmfrPf/6j3bt3y+eVV17R3LlzdcsttygmJkYnT57Uli1blJmZKafg4GAtW7ZMkZGRQvVmKYD98MMPysjIkE+3bt1Uu3ZtBZqDBw/q0KFDKmVZlm666Sbh/5s+fbpWrVqlzMxM+ezdu1d33XWXrr32WsXFxalVq1Yyxujo0aP617/+paNHj6qspKQkPffcc7qYBQsWqEePHsrNzVWp/Px8DRo0SP369dOgQYMUExOjkydP6vPPP9fChQuVn58vp5dfflnt2rXTxTRs2FBz587VPffcI5+DBw+qQ4cOGjp0qG666SY1aNBA2dnZSktLU1pammzblk9ISIgWL16sGjVqCAAAAIB/PPjggzp8+LCSk5Nl27Z8tm7dqq1bt6oiN9xwg1JSUhQUFKTL6cEHH9Thw4eVnJws27bls3XrVm3dulUVueGGG5SSkqKgoCBV1qxZs/Tdd9/p448/lk9RUZFWr16t1atXqyJjx47Vc889p8qqWbOmVqxYodtuu0379++XT25urpYvX66KhISEaM6cOerTp48ASwFs165d6tu3r3w2bdqkXr16KdC89dZbmjZtmkrVqVNHubm5wv8XERGhNWvWqG/fvsrKypJTVlaWsrKydDHDhg3Tm2++KWOMLqZ169ZKSUlRUlKSCgsL5bN27VqtXbtWFzJmzBg9/vjjqqy7775bL7zwgqZOnSqf8+fPa/78+Zo/f74qEhQUpLlz56pXr14CAAAA4F9TpkzRjTfeqJEjRyo7O1sXEhwcrEmTJmnKlCmyLEv+MGXKFN14440aOXKksrOzdSHBwcGaNGmSpkyZIsuy5EZISIg++ugjvfrqq3ruueeUn5+vC2nQoIFmzpypIUOGyK2WLVsqIyND48eP19tvvy3btnUhHTt21MKFC9WxY0cBpSwBftCsWTN9/vnneuyxx7R48WJV1jXXXKPk5GQ98sgjcuO2227T559/rqFDh2rPnj26mPDwcL3yyiv67W9/K7emTJmiuLg4PfLII8rNzdXFtGjRQu+++64SEhIEAAAAXLGMrmi33nqrDh48qLS0NC1atEhff/21cnJylJ+fryZNmqhZs2ZKTEzU0KFD1aBBA7lRp04drV+/Xk41atSQG7feeqsOHjyotLQ0LVq0SF9//bVycnKUn5+vJk2aqFmzZkpMTNTQoUPVoEEDXSpjjJ544gk99NBDev/995WamqpvvvlGOTk5CgoKUnR0tFq3bq177rlHgwYNUkhIiC5VzZo1NXfuXE2dOlULFizQmjVrlJ2drWPHjql27dqKjo5W586dNXz4cPXu3VvGGAE+lgA/adCggRYtWqSJEyfqzTff1KeffqrMzEzZti2n8PBw9enTRwMHDtQDDzygsLAwXYrOnTtr+/btev/99/XOO+9ow4YNKi4ultN1112n4cOHa+TIkYqJidGluvvuu/WLX/xC8+fP14IFC7R79245eTwe9erVSyNGjNDQoUNVq1YtAQAAAPh5WZalgQMHauDAgapKwcHB6tOnj34qy7I0cOBADRw4UJdbnTp1NHr0aI0ePVqXW/PmzTV58mRNnjxZQGVZAvysS5cu+tvf/qZSP/74o7799ludOXNGwcHBatSokaKiohQUFKSqEBoaqhEjRmjEiBEqLi7W0aNHdezYMdWuXVvR0dEKDw9XVWnUqJGeeeYZPfPMMyooKFBOTo6+//57RUVFqUmTJgoODhYAAAAAAHDP0hVk48aNOnnypALN/v37hUtTq1YtxcbGyh+CgoIUHR2t6OhoXW6hoaFq1aqVWrVqJQAAAOBqZIwRAPiLpSvIU089JQAAAAAAAFQvlgAAAAAAAIAAZgkAAAAAALeMAPxMvF6v9u/fr/z8fFWF6OhoRUdHK5BZCmCRkZEaNGiQriQRERECAAAAAACoSkePHtXEiRO1YcMGZWdny7ZtVZWpU6cqOTlZgcxSAIuLi1NqaqoAAAAAAAHGCICfvPfee3r00Ud15swZVVeWAAAAAAAAEJAOHTqkhx9+WPn5+arOLAEAAAAA4JIxAuAHTzzxhPLz81VWUFCQmjdvrmuuuUY/VbNmzRToLAEAAAAAACDgFBUV6aOPPpJT48aN9cc//lEjRoxQcHCwqgtLAAAAAAAACDgHDx7U+fPn5RMeHq5//vOfat26taobSwAAAAAAuGUE4DLLzMyU05NPPqnWrVurOrIEAAAAAACAgFNYWCinXr16qbqyBAAAAAAAgIDTqFEjOTVr1kzVlSUAAAAAAFwyxgjA5dW6dWt5PB6VlJSoVHZ2tjp06KDqyBIAAAAAAAACTsOGDdW7d2999tlnKrV06VLdfvvtqo4sAQAAAADglhEAP3jiiSf02WefqdS8efN077336pe//KWqG0sAAAAAAAAISIMGDdLQoUP13nvvqaSkRMOGDdOnn36qTp06qTqxBAAAAAAAgIA1e/ZsHTt2TOvWrdOJEyfUvXt3jR8/Xk8//bQaN26s6sASAAAAAABuGQHwk4iICK1cuVI9e/bUzp07VVRUpFdeeUWvvPKKGjVqpI4dOyoiIkKX6r777tN9992nQGYJAAAAAAAAAcvr9WrChAnauXOnyjp+/LiOHz+un6JLly4KdJYAAAAAAHDJGAHwg5KSEt19991KS0tTdWYJAAAAAAAAAenVV19VWlqaqjtLAAAAAAC4ZQTAD2bOnKmymjVrpnvvvVetW7fWNddco5+qTZs2CnSWrgLffvut9uzZI5/OnTurYcOG+qkSExOVnp6uUjfddJM++ugjAQAAAAAA+MPXX3+t/fv3y2n8+PH605/+pNDQUFUnlq4CH3/8sUaPHi2fmJgYrVixQl26dNFPcfbsWf3www8qdfbsWQEAAAAA/i8jAJdZdna2nHr16qVXXnlFQUFBqm4sXYWOHDmihIQEzZ8/X0OGDBEAAAAAAMCV5vTp03J65JFHFBQUpOrI0lUqLy9P99xzj6ZOnaopU6bIGCMAAAAAQNUwxgjA5dWgQQM5tWvXTtWVpauYbdtKTk7W7t27NX/+fIWHhwsAAAAAAOBKEB0dLafg4GBVV5auQq1bt1ZmZqZ8li5dqgMHDugf//iHYmJiBAAAAAAAEOhat26tNm3aaN++fSq1Y8cOdevWTdWRpavQypUrNXnyZL3//vvyycjIUHx8vJYvX64bb7xRAAAAAICfwAiAHzz00EOaNGmSSs2YMUPDhw9XSEiIqhtLV6GwsDAtXrxY7du3V3JysmzbVqnjx4+rb9++mjVrlh588EEBAAAAAAAEsscff1wpKSnKyMjQzp079bvf/U5///vfVd1YukoZYzRlyhS1a9dODzzwgPLy8lTq3LlzGjlypHbv3q0XX3xRHo9HAAAAAAAAgSgkJERLlizRTTfdpGPHjun1119XUVGRpk+frvr166u6sHSVGzJkiFq2bKlBgwYpJydHPn/+85+1Z88eLV68WLVr1xYAAAAAAEAgatWqlbZs2aKBAwfqiy++0OzZs7V8+XKNHDlSnTt3VocOHRQREaFLVb9+fdWvX1+BzFI10L17d23dulWDBg3S1q1b5ZOWlqZevXrpww8/VKtWrQQAAAAAqBxjBMAPpkyZoo8//lilCgsL5XPy5Em99NJLqgpTp05VcnKyApmlauKaa67RP//5Tz300ENatGiRfL766iv16NFDS5Ys0S233CIAAAAAAIBAkZWVpe3bt6u6s1SNhIaG6r333lO7du00ZcoU2batUt9//7369++vV199VePGjRMAAAAA4CKMAMBvLFVDkydPVvv27TV8+HB5vV6VKioq0n/9139p165dmjFjhoKDgwUAAAAAAPBzatKkiWJjY3U5NWjQQIHOUjV1xx13KD09XUlJSTpy5Ih8Zs2apb1792rp0qUCAAAAAFTACIAfvPjii3rxxRdV3Vmqxrp06aItW7bojjvu0ObNm+WzYcMG9ejRQx6PRwAAAAAAAPh5WarmGjdurPXr1+vhhx/WwoUL5ZOVlSUAAAAAQPmMEQD4jSUoNDRU7777rtq1a6fJkyfLtm0BAAAAAAAgMFjC//Pss8+qXbt2GjZsmLxerwAAAAAAAC6HQ4cO6eDBgyrl8Xj0i1/8QoEoIyNDP/zwg0o1aNBAHTp00M/B0lWga9eueu655+RTu3ZtXarBgwcrPT1dgwYN0uHDhwUAAAAAKIcRgJ9gwYIFev7551UqJCREBQUFCkSPPfaYNm7cqFKDBg1Samqqfg6WrgLdu3dX9+7dVVW6dOmiLVu26PXXX1dxcbFKtWzZUgAAAAAAAPA/SyhXo0aN9MILLwgAAAAAAAA/L0sAAAAAAABAALMEAAAAAIBLxhgBqBolJSX66KOPFIhOnz6tQGAJAAAAAAAAP5vz589r4MCBQsUsAQAAAADglhEA+I0lAAAAAAAAIIBZAgAAAADALSMAP0FsbKwGDRqkK0nPnj31c7EEAAAAAAAAv7pv1O6pAAAgAElEQVT77rt19913C5VjCQAAAAAAl4wRAPiNJQAAAAAAACCAWQIAAAAAwC0jAPAbSwAAAAAAuGQEAP5jCQAAAAAAt4wAwG8sAQAAAAAAAAHMEgAAAAAAABDALAEAAAAA4JIxAgC/sQQAAAAAAAAEMEsAqoXratWQGzWMR24ZI9cKi0vkVg2PR/5QIluXwsi9/OISuRVkjNwKMkZuldi23DJGrlnGI7cKS0rkVrDHyC0j94psW255ZHQpQjweuVVs23LLGLmWe65AbuXneeRWcYElt4rOlsitokJbflFsy7USXRrLyDVb7nnkXrEt1zxGbtkKXLaReyVyz8g9jy5NsdyzbblmGblWItds25JrQQIAuGQJAAAAAAC3jADAbywBAAAAAAAAAcwSAAAAAAAAEMAsAQAAAADgkjFGAOAvlgAAAAAAAIAAZgkAAAAAALeMAMBvLAEAAAAA4JIRAPiPJQAAAAAA3DICAL+xBAAAAAAAAAQwSwAAAAAAuGSMAMBvLAEAAAAAAAABzBIAAAAAAAAQwCwBAAAAAOCWEQD4jSUAAAAAAFwyAgD/sQQAAAAAgFtGAOA3lgAAAAAAAIAAZgkAAAAAAJeMEQD4jSUAAAAAAAAggFkCAAAAAAAAApglAAAAAABcMkYA4DeWAAAAAAAAgABmCQAAAAAAAAhglgAAAAAAcMkYAYDfWAIAAAAAAAACmCUAAAAAAAAggFkCAAAAAMAtIwDwG0sAAAAAALhkBAD+YwkAAAAAALeMAMBvLAEAAAAAAAABzBIAAAAAAC4ZIwDwG0sAAAAAAABAALMEAAAAAAAABDBLAAAAAAC4ZIwAwG8sAQAAAAAAAAHMEgAAAAAAABDALAEAAAAA4JIxAgC/sQQAAAAAAAAEMEsAAAAAALhkjADAbywBAAAAAAAAAcwSAAAAAAAAEMAsAQAAAADgkjECAL+xBAAAAAAAAAQwSwAAAAAAuGSMAMBvLAEAAAAAAAABzBIAAAAAAC4ZAYD/WAIAAAAAwC0jAPAbSwAAAAAAuGQEAP5jCQAAAAAAAAhglgAAAAAAcMkYAYDfWAIAAAAAAAACmCUAAAAAAFwyRgDgN5YAAAAAAACAAGYJAAAAAAAACGCWAAAAAABwyRgBgN9YAgAAAAAAAAKYJQAAAAAAXDLGFgD4iyUAAAAAAFwyAgD/sQQAAAAAAAAEMEsAAAAAALhkjADAbywBAAAAAAAAAcwSAAAAAAAuGQGA/1gCAAAAAMAlYwQAfmMJAAAAAAAACGCWAAAAAABwyRgBgN9YAgAAAADAJSMA8B9LAAAAAAAAQACzBAAAAACAS8YIAPzGEgAAAAAAABDALAEAAAAA4JIxwiUqKSnRiRMnlJ2drby8PDVt2lRNmjRRWFiYAkFJSYlOnDih7Oxs5eXlqWnTpmrSpInCwsJU1c6fP69vv/1W2dnZCgoKUtOmTXXNNdfIsiwBTpYAAAAAAHDJCG5t3bpVb731llJSUpSbmysnY4z69Omj4cOH6/7771doaKj8bevWrXrrrbeUkpKi3NxcORlj1KdPHw0fPlz333+/QkNDdals21Zqaqrmz5+vjz/+WOfPn5dTWFiYBg8erAceeED9+/eXW3v37tXMmTP1Uz3wwAPq2rWrEBgsAQAAAACAy+bcuXOaNGmSXn31Vdm2rfLYtq3169dr/fr1+stf/qJFixapffv28odz585p0qRJevXVV2Xbtspj27bWr1+v9evX6y9/+YsWLVqk9u3by62jR49qxIgRWrNmjSqSn5+vRYsWadGiRbrrrrs0Z84c1atXT5WVnp6uv/71r/qpevXqpa5duwqBwRIAAAAAAC4ZI1TCuXPn1K9fP6Wnp6uydu3apfj4eH366adKSEjQ5XTu3Dn169dP6enpqqxdu3YpPj5en376qRISElRZBw8e1A033KDjx4+rspYtW6aMjAxt3rxZDRs2VGXs379fuPpYAgAAAADAJSNUxpgxY5Seni4nY4z69Omjzp07KyIiQllZWVq5cqXOnDkjn/z8fN15553atm2bYmJidLmMGTNG6enpcjLGqE+fPurcubMiIiKUlZWllStX6syZM/LJz8/XnXfeqW3btikmJkYX4/V6NWjQIB0/flxOoaGhGjBggFq3bq2ioiLt2bNHn3zyiYqLi+WTlZWlIUOGaM2aNQoODtbFZGZmClcfSwAAAAAAoMqlpqZq3rx5cmrTpo2WLl2qjh07yunMmTN6+umnNXv2bPmcOHFCjzzyiNLS0nQ5pKamat68eXJq06aNli5dqo4dO8rpzJkzevrppzV79mz5nDhxQo888ojS0tJ0Mc8995x27dolp0GDBmnOnDlq2LChnL755hvdf//92rx5s3z++c9/6pVXXtHEiRN1MZmZmXIaPHiw6tSpI7datmwpBA5LAAAAAAC4ZIxwAbZtKzk5WU7NmjXTv//9b0VGRqqs2rVra9asWbIsS6+//rp8Vq1apa1btyo+Pl5VybZtJScny6lZs2b697//rcjISJVVu3ZtzZo1S5Zl6fXXX5fPqlWrtHXrVsXHx6siR48e1axZs+SUlJSkZcuWKSgoSGW1aNFCa9eu1c0336xt27bJ589//rMee+wxhYeH60IOHDggp/nz56t27drClc0SAAAAAAAuGeFCPvroI33xxRdymjVrliIjI3UhL730klatWqWsrCz5TJ8+XcuXL1dV+uijj/TFF1/IadasWYqMjNSFvPTSS1q1apWysrLkM336dC1fvlwVefnll1VQUCCfunXratasWQoKClJFwsPDNW/ePHXr1k3nz59Xqe+++05vvvmmxo8fr4ocPXpUXq9XPk2aNFHt2rWFK58lAAAAAABQpZYuXSqnrl276vbbb9fFhIeH64knntBjjz0mn7S0NOXl5Sk8PFxVZenSpXLq2rWrbr/9dl1MeHi4nnjiCT322GPySUtLU15ensLDw1WeZcuWyWnkyJFq3LixLqZDhw5KSkrSsmXL5LN06VKNHz9eFcnMzJRTbGyscHWwBAAAAACAS8YIFSgpKVFaWpqcRo0apcoaNmyYnnrqKRUWFqpUQUGB1q1bp8TERFWFkpISpaWlyWnUqFGqrGHDhumpp55SYWGhShUUFGjdunVKTExUWbt379ahQ4fkNGrUKFXWqFGjtGzZMvls2rRJubm5qlu3rsqzf/9+OcXGxgpXB0sAAAAAALhkhIpkZGTou+++k9Ott96qyqpbt66uv/56bdy4UT6ffPKJEhMTVRUyMjL03XffyenWW29VZdWtW1fXX3+9Nm7cKJ9PPvlEiYmJKuuTTz6RU+PGjdW+fXtVVp8+fRQcHKzz58+rVFFRkdauXau77rpL5Tlw4ICcYmNjhauDJQDVwrURNeVGDU+Q3DLyjxLbllvFti23PMboUpTYttwK9njkVrFtyy1bttwyMnKrxLblluXxyK1zJcVyK9gTJNdsW24FeTxy63xJsS6Fbcu1cMuSW4XFxXLrWK3zcut0vWK5VXg2SG4V5Vlyq6SgRG4Zj9yz5Z7RJbGL5Jqx5JpdIv8wcs+We0auGSPXbFuuGY+RayW2XPMYXRLbll8YI7fsEluuFcs1E2x0NTBCRXbt2iWnyMhIxcbGyo2EhARt3LhRPrt27VJV2bVrl5wiIyMVGxsrNxISErRx40b57Nq1S+XZtWuXnG688Ua5ERYWpq5du2rLli3y2bVrl+666y6VJzMzU05t27YVrg6WAAAAAABAldm7d6+cOnbsKLc6deokp8zMTFWVvXv3yqljx45yq1OnTnLKzMxUefbu3SunTp06ya1OnTppy5Yt8snMzFRFMjMz5RQbG6tSubm5WrdunbZt26YTJ06ouLhYjRo1UkxMjG655RbFxcUJgc0SAAAAAAAuGSNUYN++fXKKiYmRWzExMXL69ttv5fV6FRERoZ9q3759coqJiZFbMTExcvr222/l9XoVEREhp3379skpJiZGbsXExMgpMzNTFTlw4IB8QkJCFB4errFjx2r+/PnKy8tTRa699lpNmjRJDz74oIKDg4XAYwkAAAAAAJeMUJGcnBw5xcTEyK2YmBiVdeTIEbVt21Y/VU5OjpxiYmLkVkxMjMo6cuSI2rZtK5+CggJ9//33coqJiZFbMTExcjp8+LDKc/z4cf3444/ysSxL7du316lTp3QxWVlZeuSRR/Taa68pNTVVrVq1EgKLJQAAAAAA3DJCBbxer5zq1q0rt+rUqaOyzp49q6rg9XrlVLduXblVp04dlXX27Fk5eb1elVW3bl25VadOHTmdPXtW5cnMzJST1+uV1+uVG7t371Z8fLzWrl2rrl27CoHDEgAAAAAALhldXtdff70qY9u2bQo0Xq9XTqGhoXIrLCxMZXm9XlUFr9crp9DQULkVFhamsrxer5y8Xq/KCg0NlVthYWFyysvLU3n279+v8oSFhek3v/mN7rzzTrVo0UJ16tTR999/ry+++ELvv/++VqxYIafTp0/rjjvu0LZt29SgQQMhMFgCAAAAAMAlY3RZbd++XVcqr9crp9DQULkVGhqqsvLy8lQVvF6vnEJDQ+VWaGioysrLy5OT1+tVWaGhoXIrLCxMTrZtKz8/X2FhYXLKzMxUWddff70WLlyoNm3ayKlJkybq0KGDfvOb3+iDDz7Qo48+quPHj8vn0KFDmjRpkt58800hMFgCAAAAACDAbNu2TVeqkpISOXk8HlWFwsJCVYWSkhI5eTweVYXCwkI5lZSUqCyPxyO3bNtWWYWFhQoLC5PT/v375dSrVy+tXr1atWrV0oXccccd6tWrl9q1a6fc3Fz5zJ8/X88++6yuvfZa4ednCQAAAAAAl4zRZdW9e3ddqSIiInTy5En5FBQUyK2CggKVFR4erqoQERGhkydPyqegoEBuFRQUqKzw8HA5RUREqKyCggK5VVBQoLLCw8NV1rPPPqtHH31UPt26dVOtWrVUGddcc43++7//W+PHj5dPUVGR3nvvPU2ePFn4+VkCAAAAAMAlI1QkIiJCTgUFBXKroKBAZdWsWVNVISIiQk4FBQVyq6CgQGXVrFlTThERESqroKBAbhUUFMgpODhYNWrUUFmdO3fWTzF27FjNnDlTX331lXxWr16tyZMnCz8/SwAAAAAAXOXuu+8+bd68WVUpPj5eS5YsUVkRERFy8nq9csvr9aqsmjVrqipERETIyev1yi2v16uyatasKaeIiAiV5fV65ZbX65VTzZo1dTkEBQVp8ODB+uqrr+SzY8cOITBYAgAAAADAJWN0RTl27JgOHTqkqhQdHa3yREVFySknJ0du5eTkqKz69eurKkRFRckpJydHbuXk5Kis+vXryyk8PFwRERHyer3yycnJkVs5OTlyql+/vi6X7t27y8nr9SovL0/h4eHCz8sSAAAAAAAuGaEibdq00cqVK+Vz5MgRuZWdnS2niIgINW3aVFWhTZs2WrlypXyOHDkit7Kzs+UUERGhpk2bqqw2bdooIyNDPkeOHJFb2dnZcoqNjdXl0rBhQ5WVm5ur8PBw4edlCQAAAAAAl4yuLE8//bSGDRumqtS4cWOVJzY2Vk6ZmZly68CBA3Jq27atjDGqCrGxsXLKzMyUWwcOHJBT27ZtZYxRWbGxscrIyJBPZmam3Dpw4ICc4uLidLkYY1RWvXr1hJ+fJQAAAAAAXDJGV5QBAwbIX+Li4uS0f/9+nTp1SpGRkaqszZs3yykuLk5VJS4uTk779+/XqVOnFBkZqcravHmznOLi4lSeuLg4OW3evFluff7553KKi4vT5XLy5Ek51axZU2FhYcLPzxIAAAAAAKgyPXv2VM2aNXX27Fn5bNy4UUlJSaoM27a1adMmOfXr109VpWfPnqpZs6bOnj0rn40bNyopKUmVYdu2Nm3aJKd+/fqpPP369dPUqVPls2fPHp0+fVr16tVTZXz11Vf6/vvv5dSvXz+Vdccdd+jDDz+Uz6OPPqoZM2bIre3bt8upffv2QmCwBAAAAACAS0aoSEhIiG699ValpqbK57333lNSUpIqY/369Tp27Jh8PB6PBgwYoKoSEhKiW2+9VampqfJ57733lJSUpMpYv369jh07Jh+Px6MBAwaoPDfccIMiIyN16tQplSopKVFKSorGjBmjyli0aJGcOnbsqBYtWqisvn37KjU1VT4LFizQn/70J4WHh6uyiouL9cEHH8jptttuEwKDJQAAAAAAXDLChQwePFipqanySU1N1bFjx9S4cWNdzBtvvCGnm266SQ0bNlRVGjx4sFJTU+WTmpqqY8eOqXHjxrqYN954Q0433XSTGjZsqPJ4PB4NHDhQb7/9tnxmz56t3/72tzLG6EIKCwv19ttvy+mOO+5QeRITE/X444/Ltm2V+uGHHzRv3jyNGzdOlfXaa69pz549cho8eLAQGCwBAAAAAOCSMcIF3HfffZo8ebKys7NVqrCwUI8//rgWL16sC1mzZo2WLFkip2eeeUYXUlRUpM2bN8upRo0a6tGjhypy3333afLkycrOzlapwsJCPf7441q8eLEuZM2aNVqyZImcnnnmGV3Ik08+qfnz58u2bZXKyMjQrFmzNGbMGF3IH/7wBx05ckQ+4eHhGjdunMpz7bXX6le/+pU+/vhj+Tz55JO6/vrr1bNnT13MgQMHNHXqVDn9+te/Vrdu3YTAYAkAAAAAAFSpkJAQ/f73v9e4cePkk5KSovbt2+v5559XebZv365hw4bJqVevXhowYIAuJDc3V71795ZTo0aNdOzYMVUkJCREv//97zVu3Dj5pKSkqH379nr++edVnu3bt2vYsGFy6tWrlwYMGKAL6dChg4YMGaIlS5bI58knn1TLli3Vv39/lWfevHn605/+JKfHHntMUVFRqsizzz6rtLQ02batUoWFhUpKStJrr72me+65R8YYlVVSUqIZM2Zo8uTJOnv2rHxq1KihadOmCYHDEgAAAAAALhnhYkaPHq1FixYpPT1dPlOmTFF6eromTJigTp06KTQ0VFlZWVq4cKHefPNN5eXlySc8PFwzZ87U5TJ69GgtWrRI6enp8pkyZYrS09M1YcIEderUSaGhocrKytLChQv15ptvKi8vTz7h4eGaOXOmKuPll1/Whg0b9N1336lUXl6eBg4cqAcffFAjR45U69atVVBQoD179mjWrFlavny5nOLi4vTss8/qQhISEjRu3Dj97W9/k8+JEyd033336cUXX1T//v113XXXqXHjxvrhhx+0e/durVixQrt371ZZf/vb39SlSxchcFgCAAAAAMAlY4SLCA4O1rJlyxQfH6/Dhw/LZ/Xq1Vq9erUuxBijBQsWqEuXLrpcgoODtWzZMsXHx+vw4cPyWb16tVavXq0LMcZowYIF6tKliyqjWbNmWrZsmfr166fz58+r1Pnz5zVnzhzNmTNHFxIZGakPP/xQtWvX1sW8/PLLysrK0scffyynHTt2aMeOHboYY4ymTZum0aNHC4HFEgAAAAAALhmhMqKiopSenq7hw4frs88+U2U0bNhQc+fOVWJioi63qKgopaena/jw4frss89UGQ0bNtTcuXOVmJgoN3r37q21a9dq2LBhOnz4sCqjW7duWrhwoVq1aqXKCAkJ0QcffKAnn3xSf//732XbtiqradOmev3115WUlCQEHksAAAAAALhkhMqKiYnRunXrNHv2bM2ZM0c7duxQeaKiojR06FBNmjRJjRo1UmUFBwfr5ptvllP9+vVVWTExMVq3bp1mz56tOXPmaMeOHSpPVFSUhg4dqkmTJqlRo0a6FL1799YXX3yhl156SQsWLNCRI0dUnnbt2mnkyJEaP368atSoITdq1KihGTNmaMSIEXrttde0bNky5efnqyKdO3fWiBEjNHbsWIWGhgqByRIAAAAAAC4ZI7jg8Xg0ZswYjRkzRvv27dPXX3+tnJwc5efnq0mTJmrWrJl69Oghy7LkVp06dbRhwwb9FB6PR2PGjNGYMWO0b98+ff3118rJyVF+fr6aNGmiZs2aqUePHrIsSz9V3bp1NW3aNP3hD3/Q9u3b9c033ygnJ0dBQUGKjo5W69at1aFDB/1U8fHxWrBggebOnaudO3dqz549On36tPLz8xUZGalGjRqpe/fuatKkiRD4LAEAAAAA4JIRLlWbNm3Upk0bBao2bdqoTZs2utw8Ho/i4+MVHx+vyyk4OFjdu3dX9+7dhSuXJQAAAAAAXDICAP+xBAAAAACAS8YIAPzGEgAAAAAAABDALAEAAAAA4JIRAPiPJQAAAAAAXDICAP+xBAAAAACAS8YIAPzGEgAAAAAAABDALAEAAAAA4JIRAPiPJQAAAAAAXDLGCAD8xRIAAAAAAC4ZAYD/WAIAAAAAwCUjAPAfSwAAAAAAuGSMAMBvLAEAAAAA4JIRAPiPJQAAAAAAXDICAP+xBAAAAACAS8YYAYC/WAIAAAAAAAACmCUAAAAAAFwyAgD/sQQAAAAAgEtGAOA/lgAAAAAAcMkYAYDfWAIAAAAAAAACmCUAAAAAAFwyAgD/sQQAAAAAgEvGCAD8xhIAAAAAAC4ZAYD/WAIAAAAAwCUjAPAfSwAAAAAAuGSMAMBvLAEAAAAA4JIRAPiPJQAAAAAAXDICAP+xBAAAAACAS8YYAYC/WAIAAAAAwCUjAPAfSwAAAAAAuGQEAP5jCQAAAAAAAAhglgAAAAAAcMnICAD8xRIAAAAAAC4ZAYD/WAIAAAAAwCUjAPAfSwAAAAAAuGSMEQD4iyUAAAAAAFwyAgD/sQQAAAAAgEtGAOA/lgAAAAAAcMsIAPzGEgAAAAAALhkBgP9YAgAAAADAJSMA8B9LAAAAAAC4ZIwRAPiLJQAAAAAAXDICAP+xBAAAAACAS0YA4D+WAAAAAABwyRgjAPAXSwAAAAAAAEAAswQAAAAAgEtGAOA/lgAAAAAAcMkIAPzHEgAAAAAALhljBAD+YgkAAAAAAJeMAMB/LAEAAAAA4JIRAPiPJQAAAAAAXDJGAOA3lgAAAAAAcMkIAPzHEgAAAAAALhkBgP9YAgAAAADAJWOMAMBfLAGoFlrVqi83PDJyK9gTJLcKS4rkDx4ZBTLLEyS3SmxbbnmMkVuFxUVyq4YnSP5QIltueWTkD8YYuWXbti5FkMcjt/KLzsutIGPk1g/nz8mt4wVn5NYPdY3cOn82SG4Ve4PklvEYuWbkWkmRrUthjJFbxiPX7BJbbhnLyLUSuWfkml0i94xcM0YByy625TceI7+w5Z5tyzVjdDUwAgD/sQQAAAAAAAAEMEsAAAAAALhkjBEA+IslAAAAAABcMgIA/7EEAAAAAIBLRgDgP5YAAAAAAACAAGYJAAAAAACXjDECAH+xBAAAAACAS0YA4D+WAAAAAABwyQgA/McSAAAAAAAuGWMEAP5iCQAAAAAAl4wAwH8sAQAAAADgkhEA+I8lAAAAAABcMsYIAPzFEgAAAAAALhkBgP9YAgAAAAAAAAKYJQAAAAAAXDIyAgB/sQQAAAAAgEtGAOA/lgAAAAAAcMkIAPzHEgAAAAAAABDALAEAAAAA4JIxRgDgL5YAAAAAAHDJCAD8xxIAAAAAAC4ZAYD/WAIAAAAAwCVjjADAXywBAAAAAAAAAcwSAAAAAAAuGQGA/1gCAAAAAMAlY4wAwF8sAQAAAADgkhEA+I8lAAAAAABcMjICAH+xBAAAgP/DHrxHRV0g/v9/DjPKKJN3QQVWzWgwMmo9W2qan1rT1DJruLaa2Wa7WWsfdXWPlqnbRbsnWpbr2odaFOqUEsfwEtRWZGS6nz2ltlysBJWPaCIyzMC8YX4//phz3l/WC6NI6L4eDxERCZLFgohIm7EhIiIiIiIiEiQLFkRE2ooNERERERERkSBZEBFpOzZEREREREREgmSxWBARaSs2RERERERERERE2jEbIiIiIiIiIkGyICLSdmyIiIiIiIiIBMmCiEjbsSEiIiIiIiISJIvFgohIW7EhIiIiIiIiIiLSjtkQERERERERCZIFEZG2Y0NEREREREQkSBaLBRGRtmJDREREREREJEgWRETajg0RERERERGRoFkQEWkrNkRERERERESCZLEgItJmbIiIiIiIiIgEyYIFEZG2YkNEREREREQkSBZERNqODREREREREZEgWSwWRETaig0RERERERGRIFkQEWk7NkRERERERERERNoxGyIiIiIiIiJBsmBBRKSt2BAREREREREJksWCiEibsSEiIiIiIiISJAsWRETaig0RERERERGRIFkQEWk7NkRERERERESCZLFYEBFpKzZEREREREREgmRBRKTt2BAREREREREJkgURkbZjQ0RERERERCRYFgsiIm3FhoiIiIiIiEiQLIiItB0bIiIiIiIiIkGyICLSdmyIiIiIiIiIBMlisSAi0lZsiIiIiIiIiIiItGM2RERERERERIJkwYKISFuxISIiIiIiIhIkCyIibceGiIiIiIiISJAsFkRE2owNERERERERkaBZEBFpKzZEzsDv9/PEE0/g8/m47LLLeOyxx2hN//jHP/jXv/5FeXk5tbW1REZGEhUVxahRo+jcuTOt5cSJExQUFFBeXs7hw4fp0qULkZGRXH311Vx11VW0ph9//JFdu3Zx8OBBjh07Rnh4OJGRkVx//fX07dsXEREREZFLgQURkbZjQ+QMdu7cyVNPPUWTiIgIHnvsMc6Xz+djxYoVrF27ln/961+cisPh4O677+axxx7jyiuv5Fz94x//YPny5XzwwQd4vV5O5dprr+XBBx/k97//PRaLhXP1/vvvk5aWxqefforf76c5q9XKmDFjmDt3LrfeeisiIiIiIhczi8WCiEhbsSFyBu+88w6tqbS0lHvuuYevvvqKM6mpqeGtt97ivffeIy0tjfvvv59g+P1+Xn75ZRYsWEB9fT1n8r//+7/MnDmT9957j7feeot+/foRjLeazBEAACAASURBVJqaGh555BHS09M5k4aGBrZu3cq2bduYNWsWzz77LKGhoYiIiIiIXIwsiIi0HRsip+F2u/mf//kfWsuhQ4cYNWoUhw8fpqXcbje//e1vqaur46GHHqKlFi9ezJNPPkkw8vLyuPnmmyksLKRbt260hGEY3HnnneTn59NSfr+fFStWUFFRQWZmJiIiIiIiFyMLFkRE2ooNkdNYtGgRx44dozXU1dUxefJkDh8+jFlkZCQPPvgg8fHxhIWFsX//ftavX8/f//53zB599FGuuuoqRo8ezdm89957PPXUU5iFhIRwxx13cNddd/GLX/yCY8eO8dVXX7F27VqOHz9OQFFREampqWzevJmQkBDOZs6cOeTn52MWFhbGtGnTuOmmm4iIiKC8vJytW7eSlZWFz+cjICsri/j4eBYsWICIiIiIyEXHgohIm7Eh0ozX6+XPf/4zL7/8Mq3l1VdfZefOnZglJiby9ttvExoaitmDDz7I+vXrmT59OvX19TTx+XzMnDmTb7/9FovFwul4PB4eeeQR/H4/AV27dmXjxo3cfPPNmCUkJLBgwQImTZrE559/TsCWLVt49913SU5O5kx2797NypUrMYuLiyM3N5fo6GjMpkyZwrx58xg/fjyHDh0iYMmSJUyZMoXo6GhERERERC4mFiyIiLQVGyL/v4MHD7Jr1y4+/vhj3nnnHQ4dOkRr8Xg8PP/885iNGjWKzMxMQkJCOJV77rmH2tpaZsyYQcDevXt57733SEhI4HRWr15NRUUFZu+++y4333wzp9K9e3e2bt3KtddeS3FxMQFPPfUUSUlJWCwWTmfJkiWY9ejRg7y8PCIiIjiVa665hm3btvHLX/6S+vp6mtTX1/Pss8+yatUqREREREQuJhZERNqODfmPNnHiRD799FNqamq4UN5++20qKioIsFqtrF27lpCQEM7kgQce4O233+bTTz8l4MUXXyQhIYFT8fv9vPTSS5hNmTKFW2+9lTPp3Lkzr7/+Or/+9a8J+Pbbb9m2bRvjxo3jVIqKisjJycHsueeeIyIigjOJi4vjT3/6E08++SQBa9eu5emnn6Zr166IiIiIiFwsLBYLIiJtxYb8R/vXv/5FTU0NF9IHH3yA2bhx47jyyitpiVmzZvHpp58SUFhYyJEjRwgPD6e5Xbt2cfDgQcxmzZpFS9xyyy0MGTKEb775hoCcnBzGjRvHqXzwwQeY9ejRgylTptASDz/8MMuWLcMwDJrU1dWxfft2EhISEBERERG5WFgQEWk7NkQuIK/XS35+Pmb33nsvLTVp0iS6detGVVUVTfx+P1u2bOHee++luc2bN2MWGxvLr371K1rq3nvvZd68eQR8+OGHnM7mzZsxS0pKIjQ0lJaIiIhg3LhxbN68mYAPP/yQhIQEREREREQuFhYsiIi0FRvyH+2tt96itraWU/nss8/485//zPnYsWMHHo8Hs9GjR9NSHTp0YMSIEXz44YcE5OXlce+999Jcfn4+ZqNHjyYYo0ePxuz777/n+++/Z+DAgZjV19dTUFCA2ejRownG6NGj2bx5MwF5eXmIiIiIiFxMLBZERNqMDfmPNmLECE6nqqqK87Vv3z7MBgwYQJ8+fQjGiBEj+PDDDwn47rvvOJV9+/ZhNnz4cIJx3XXX0alTJzweDwHfffcdAwcOxKykpASfz4fZ8OHDCcaIESMwKysro7a2ls6dOyMiIiIiIiIi/y8bIhdQUVERZk6nk2A5nU7MiouLaa6qqorKykrMnE4nwbDZbFx++eXs2bOHgKKiIsaPH49ZUVERZna7nf79+xMMp9OJmd/vp7i4mPj4eERERERELgYWLIiItBUbIhdQUVERZtHR0QQrOjoas+PHj3P06FF69epFQFFREc1FR0cTrOjoaPbs2UNAcXExzRUVFWEWFRVFsHr16kWnTp3weDwEFBcXEx8fj4iIiIjIxcCCiEjbsSFyAVVWVmIWFRVFsCIjI2muoqKCXr16EVBZWYlZSEgIffv2JViRkZGYVVRU0FxlZSVmUVFRnIt+/fpRWlpKQEVFBSIiIiIiFwuLxYKISFuxIXIBud1uzBwOB8FyOBw0V1tbi5nb7casc+fOhISEECyHw4FZbW0tzbndbswcDgfnwuFwYFZbW4uIiIiIiIiI/DsbIheQ2+3GzG63E6xOnTrRnNvtxsztdmNmt9s5F506dcLM7XbTnNvtxsxut3MuOnXqhJnb7SYYFouFYIR1GI6IiIiISGvpYL0eEZG2YkPkAnK73ZjZ7XaCFRoaisViwe/3E+B2uzFzu92Y2e12zoXdbsfM7XbTnNvtxsxut3Mu7HY7Zm63GxERERERERH5dzZELiCr1YqZ3+8nWI2Njfj9fswaGhows1qtmPn9fs6FYRiYNTQ00JzVasXM7/dzLgzDwKyhoYFg+P1+WsJisdDE7/cjInIpslgsNPH7/YiIXIosFgvtid/vR0SkrdkQuYDCwsIw83g8BMvj8dCcw+HALCwsDDOPx8O58Hq9mDkcDpoLCwvDzOPxcC68Xi9mDocDEREREREREfl3NqRdqKqqoqqqitY2YMAAfk5hYWGYeb1eguX1emnO4XBgFhYWhpnX6+VceL1ezBwOB82FhYVh5vV6ORderxczh8OBiIiIiIiIiPw7G9IuvPLKKyxdupTW5vP5sNls/FwcDgdmJ06cIFjV1dU053A4MHM4HJh5PB58Ph8dOnQgGNXV1Zg5HA6aczgcmJ04cYJzUV1djZnD4UBERERERERE/p0NkQsoKioKs/LycoJVVlZGcxEREZhFRUVh5vf7OXjwIAMGDCAYZWVlmPXp04fmoqKiMCsvLydYjY2NHDp0CLM+ffogIiIiIiIiIv/OhsgF5HQ6MSsrKyNY5eXlmPXq1YtevXphdsUVVxASEkJjYyMBZWVlDBgwgGCUl5djFhsbS3NOpxOzgwcP0tjYSEhICC1VUVGBYRiYxcbGIiIiIiIiIiL/zoa0C7NmzWLKlCm0NpvNxs/J6XRitmfPHoK1b98+zAYPHkxzoaGhDBgwgP379xOwZ88eRo0aRUt5PB5++OEHzAYPHkxzTqcTM8MwKCoqIjY2lpbat28fZlarlZiYGERERERERETk39mQdqFHjx706NGDS82QIUMw+7//+z++//57Bg4cSEvt2LEDsyFDhnAqQ4YMYf/+/QTs2LGD3//+97TUrl278Pl8mF199dU0FxUVRffu3Tl+/DgBO3bsIDY2lpbasWMHZk6nk44dOyIiIiIiIiIi/86GyAUUHx9P3759OXz4MAEff/wxAwcOpCW8Xi+FhYWYjR8/nlO57bbbyM7OJuDvf/87fr8fi8VCS3zyySeYDR06lPDwcJqzWCyMHTuWrKwsAj7++GOmT59OS33yySeYjR8/HhERERERERE5NRsiF5DFYmHChAn89a9/JSA9PZ3777+flnjvvfeoqakhoHPnzvz617/mVG6//XYeeughAn788Uc++eQTbr75ZlrirbfewmzSpEmczu23305WVhYB77//Pq+99hoOh4OzKSsr4+OPP8Zs0qRJiIiIiIiIiMip2RC5wBITE/nrX/9KwGeffcauXbsYOnQoZ9LY2EhaWhpmd9xxB506deJUoqKiGDZsGF9++SUBL7/8MjfffDNns3nzZoqLiwmwWCwkJCRwOhMnTqRz587U1tbSxO12s2bNGubMmcPZpKWl0djYSEC/fv248cYbuVD8fj8iIpcyv9+PiMilzO/3IyLyn86GyAU2btw4fvWrX7Fz506a+P1+HnzwQb788ks6dOjA6axcuZKvvvqKAIvFwmOPPcaZPP7449x+++0E5OTk8P7773P33XdzOidPnmTmzJmYuVwurrrqKk6ne/fuzJw5kxdeeIGAxYsX43K56N+/P6eze/duXnnlFcwWLlyI1WpFRERERERERE7NhkgbWLp0KRMmTCBg9+7dTJo0iXfeeYfLLruM5lavXs3cuXMxS0lJYciQIZzJxIkTueGGGygsLCRgypQpZGZmMmnSJJo7fPgwd9xxBwcOHCDAarWydOlSzmb+/Pm8/vrr1NTU0KSmpoabb76ZLVu2cOWVV9LcF198wZ133olhGAT079+fGTNmICIiIiIiIiKnZ0OkDYwfP56ZM2fy2muvEbBlyxYGDhzI/fffzzXXXIPdbmf//v2sX7+ef/7zn5hdfvnlrFy5kpZ4++23uf7666mqqqKJx+Phzjvv5Ne//jV33nkn0dHRHD16lMLCQjIyMvB4PJi98MILXHXVVZxN7969WbduHUlJSQR8//33XH311dxzzz2MHDmSXr16UV5eTm5uLrm5ufj9fgJCQ0PJzMykY8eOiIiIiIiIiMjp2RBpIytWrKC4uJjt27cTcOzYMZ5//nnOpEePHuTk5NCzZ09aIiYmhqysLCZNmkRdXR0BeXl55OXlcSa///3v+e///m9aKjExkaVLl7J48WICfD4f6enppKenczpWq5V169YxbNgwREREREREROTMbIi0EZvNxocffsjSpUt55plnaGxs5Gz+67/+i7fffpuoqCiCMXbsWAoLC7nnnnvYu3cvZ9O5c2deeuklfve73xGsJ554gsGDB/Pggw9SVVXF2QwYMIC//e1v3HjjjYiIiIiIiIjI2dkQOY2rrrqKxYsXE+BwODhfNpuNJ598kpSUFNatW8eGDRs4fPgwZqGhoUyYMIFp06Zxxx13EBISwrmIj49n165dvPPOO7z11lt88sknNDQ0YHbFFVcwdepUpk+fTnR0NOcqMTGRm266ifT0dN5++22+/fZbzEJCQhg2bBj33nsv99xzD5dddhkiIiIiIiIi0jI2RE7jqquuYsmSJVwIcXFxvPjii7z44otUV1dz8OBBPB4P/fr1IyIiAovFQmuw2+3ce++93HvvvTQ0NHD48GEqKiro0qULUVFRdO7cmdYSERHB/PnzmT9/Pl6vl4MHD/LTTz8RHh5Ov3796NChAyIiIiIiIiISPBsiP7MuXbrQpUsXLjSr1UpUVBRRUVFcaHa7nUGDBjFo0CBERERERERE5PzYEBERERERERERacdsiIiIiIiIiIiItGM2RERERERERERE2jEbIiIiIiIiIiIi7ZgNERERERERERGRdsyGiIiIiIiIiIhIO2ZDRETO6ocffuCBBx6gpa666irS0tIQERERkdb1ww8/8MADD9BSV111FWlpaYjIxc2GiLQ7P/74I7t27eLgwYMcO3aM8PBwIiMjuf766+nbty+XigMHDvDaa6/RJD4+ntTUVFqLz+ejoKCAH3/8kfLycqxWK5GRkQwaNIhhw4YREhJCMGpqasjLy6OlampqEJELx+fzUVBQwI8//kh5eTlWq5XIyEgGDRrEsGHDCAkJQUSkNfz444/s2rWLgwcPcuzYMcLDw4mMjOT666+nb9++XCoOHDjAa6+9RpP4+HhSU1NpLT6fj4KCAn788UfKy8uxWq1ERkYyaNAghg0bRkhICMGoqakhLy+PlqqpqUFELn42RC5xL7/8Munp6ZyvvLw8evbsyYX0/vvvk5aWxqefforf76c5q9XKmDFjmDt3LrfeeisXu8zMTJ599lmaJCcnk5qayvmqrKzkqaeeYsOGDVRWVnIqkZGRTJ06lQULFtClSxeCFR8fz+TJkzmTqKgoRKT1VVZW8tRTT7FhwwYqKys5lcjISKZOncqCBQvo0qULItJ+vPzyy6Snp3O+8vLy6NmzJxfS+++/T1paGp9++il+v5/mrFYrY8aMYe7cudx6661c7DIzM3n22WdpkpycTGpqKuersrKSp556ig0bNlBZWcmpREZGMnXqVBYsWECXLl0IVnx8PJMnT+ZMoqKiEJGLnw2RS1xBQQH//Oc/OV8+n48LpaamhkceeYT09HTOpKGhga1bt7Jt2zZmzZrFs88+S2hoKBerd955h9a0bds2pk2bRkVFBWdy8OBBli9fTlZWFuvXr2fYsGEE49prr2XJkiWISNvatm0b06ZNo6KigjM5ePAgy5cvJysri/Xr1zNs2DBEpH0oKCjgn//8J+fL5/NxodTU1PDII4+Qnp7OmTQ0NLB161a2bdvGrFmzePbZZwkNDeVi9c4779Catm3bxrRp06ioqOBMDh48yPLly8nKymL9+vUMGzaMYFx77bUsWbIEEbn02RC5xJWUlNCeGYbBnXfeSX5+Pi3l9/tZsWIFFRUVZGZmcjEqLCxk165dtJbt27czYcIEGhoaaKnvv/+eW265hc8++4yhQ4ciIu3X9u3bmTBhAg0NDbTU999/zy233MJnn33G0KFDEZGfX0lJCe2ZYRjceeed5Ofn01J+v58VK1ZQUVFBZmYmF6PCwkJ27dpFa9m+fTsTJkygoaGBlvr++++55ZZb+Oyzzxg6dCgiIs3ZELnElZSU0J7NmTOH/Px8zMLCwpg2bRo33XQTERERlJeXs3XrVrKysvD5fARkZWURHx/PggULuJj4fD4effRRWktpaSnJyck0NDRgNnToUO677z5iYmIwDIO9e/eyZs0aSkpKCPB4PNx11118/fXXhIeHIyLtT2lpKcnJyTQ0NGA2dOhQ7rvvPmJiYjAMg71797JmzRpKSkoI8Hg83HXXXXz99deEh4cjIj+vkpIS2rM5c+aQn5+PWVhYGNOmTeOmm24iIiKC8vJytm7dSlZWFj6fj4CsrCzi4+NZsGABFxOfz8ejjz5KayktLSU5OZmGhgbMhg4dyn333UdMTAyGYbB3717WrFlDSUkJAR6Ph7vuuouvv/6a8PBwRETMbIhcwg4dOoTb7Sage/fuvPTSS5yLrl270tp2797NypUrMYuLiyM3N5fo6GjMpkyZwrx58xg/fjyHDh0iYMmSJUyZMoXo6GguBhUVFdx///0UFhbSWmbPns3x48cJsFgsPP/888ydOxeziRMnMnfuXGbPnk1aWhoBZWVlLF68mNWrVxOM48eP4/F46Nq1K2FhYYjIhTF79myOHz9OgMVi4fnnn2fu3LmYTZw4kblz5zJ79mzS0tIIKCsrY/HixaxevRoR+fkcOnQIt9tNQPfu3XnppZc4F127dqW17d69m5UrV2IWFxdHbm4u0dHRmE2ZMoV58+Yxfvx4Dh06RMCSJUuYMmUK0dHRXAwqKiq4//77KSwspLXMnj2b48ePE2CxWHj++eeZO3cuZhMnTmTu3LnMnj2btLQ0AsrKyli8eDGrV68mGMePH8fj8dC1a1fCwsIQkUuPDZFLWElJCWZxcXHcd999tBdLlizBrEePHuTl5REREcGpXHPNNWzbto1f/vKX1NfX06S+vp5nn32WVatW0R41NjZSXFzM119/TW5uLps2bcLtdtNadu/eTU5ODmYLFy5k7ty5nEpISAgrVqzg2LFjZGRkEPDmm2/y+OOPExkZydnk5ubSu3dvjh49SkDv3r0ZMWIEU6dOZfLkyVitVkTk/O3evZucnBzMFi5cyNy5czmVkJAQVqxYwbFjx8jIyCDgzTff5PHHHycyMhIR+XmUlJRgFhcXx3333Ud7sWTJEsx69OhBXl4eERERnMo111zDtm3b+OUvf0l9fT1N6uvrefbZZ1m1ahXtUWNjI8XFxXz99dfk5uayadMm3G43rWX37t3k5ORgtnDhQubOncuphISEsGLFCo4dO0ZGRgYBb775Jo8//jiRkZGcTW5uLr179+bo0aME9O7dmxEjRjB16lQmT56M1WpFRC5+NkQuYcXFxZg5nU7ai6KiInJycjB77rnniIiI4Ezi4uL405/+xJNPPknA2rVrefrpp+natSvtRWVlJSNHjuSHH36gvr6eC+WFF17AbNCgQSxatIizWbFiBZs3b6aqqoomdXV1rFq1imXLlnE2R44cobnKykqys7PJzs7mV7/6FRkZGcTExCAi5+eFF17AbNCgQSxatIizWbFiBZs3b6aqqoomdXV1rFq1imXLliEiP4/i4mLMnE4n7UVRURE5OTmYPffcc0RERHAmcXFx/OlPf+LJJ58kYO3atTz99NN07dqV9qKyspKRI0fyww8/UF9fz4XywgsvYDZo0CAWLVrE2axYsYLNmzdTVVVFk7q6OlatWsWyZcs4myNHjtBcZWUl2dnZZGdn86tf/YqMjAxiYmIQkYubDZFLWElJCWZOp5P24oMPPsCsR48eTJkyhZZ4+OGHWbZsGYZh0KSuro7t27eTkJBAe1FXV0dRUREXkmEY5ObmYva73/2O0NBQzqZnz55MmTKFVatWEZCTk8OyZcs4nYEDBzJ+/HhGjx5NZGQkffr0wefzUVpaypYtW3jzzTdxu93s3LmT0aNHU1BQwMCBAxGRc2MYBrm5uZj97ne/IzQ0lLPp2bMnU6ZMYdWqVQTk5OSwbNkyROTnUVJSgpnT6aS9+OCDDzDr0aMHU6ZMoSUefvhhli1bhmEYNKmrq2P79u0kJCTQXtTV1VFUVMSFZBgGubm5mP3ud78jNDSUs+nZsydTpkxh1apVBOTk5LBs2TJOZ+DAgYwfP57Ro0cTGRlJnz598Pl8lJaWsmXLFt58803cbjc7d+5k9OjRFBQUMHDgQETk4mVD5BJWUlKCWWxsLO3F5s2bMUtKSiI0NJSWiIiIYNy4cWzevJmADz/8kISEBP6TFBQUUFVVhdnUqVNpqWnTprFq1SoC9uzZw4EDB/jFL35Bc3Fxcezfv59TiY2NZeLEifzxj39k/Pjx7Nu3j8OHDzNz5kxyc3MRkXNTUFBAVVUVZlOnTqWlpk2bxqpVqwjYs2cPBw4c4Be/+AUi0vZKSkowi42Npb3YvHkzZklJSYSGhtISERERjBs3js2bNxPw4YcfkpCQwH+SgoICqqqqMJs6dSotNW3aNFatWkXAnj17OHDgAL/4xS9oLi4ujv3793MqsbGxTJw4kT/+8Y+MHz+effv2cfjwYWbOnElubi4icvGyIXIJKy0txczpdNIe1NfXU1BQgNno0aMJxujRo9m8eTMBeXl5tCe9e/dm+/btnM6qVavIzs7mfOTn52PmdDrp06cPLXXddddx2WWXcfLkSQLy8vKYPn06zVksFs6mf//+ZGdnExcXh8/nY8uWLfzwww8MGDAAEQlefn4+Zk6nkz59+tBS1113HZdddhknT54kIC8vj+nTpyMiba+0tBQzp9NJe1BfX09BQQFmo0ePJhijR49m8+bNBOTl5dGe9O7dm+3bt3M6q1atIjs7m/ORn5+PmdPppE+fPrTUddddx2WXXcbJkycJyMvLY/r06TRnsVg4m/79+5OdnU1cXBw+n48tW7bwww8/MGDAAETk4mRD5BJWUlJCQIcOHbj88stpD0pKSvD5fJgNHz6cYIwYMQKzsrIyamtr6dy5M+1BaGgoY8aM4XQ2bdrE+dq3bx9mw4cPJxhWq5UbbriBjz76iIDvvvuO8xETE8OoUaPIz8+nyY4dOxgwYAAiErx9+/ZhNnz4cIJhtVq54YYb+Oijjwj47rvvEJGfR0lJCQEdOnTg8ssvpz0oKSnB5/NhNnz4cIIxYsQIzMrKyqitraVz5860B6GhoYwZM4bT2bRpE+dr3759mA0fPpxgWK1WbrjhBj766CMCvvvuO85HTEwMo0aNIj8/nyY7duxgwIABiMjFyYbIJaqiooKTJ08SMGjQIGw2G16vl3fffZePPvqIb775hp9++onQ0FDCw8O58sorGTt2LOPGjaNbt25cKEVFRZjZ7Xb69+9PMJxOJ2Z+v5/i4mLi4+P5T1FUVISZ0+kkWE6nk48++oiAoqIizlf//v0JOHr0KCJyboqKijBzOp0Ey+l08tFHHxFQVFSEiLS9iooKTp48ScCgQYOw2Wx4vV7effddPvroI7755ht++uknQkNDCQ8P58orr2Ts2LGMGzeObt26caEUFRVhZrfb6d+/P8FwOp2Y+f1+iouLiY+P5z9FUVERZk6nk2A5nU4++ugjAoqKijhf/fv3J+Do0aOIyMXLhsglqqSkBLOYmBhWr17NE088wdGjR2muqKiIzz//nHXr1uFwOJg1axbz58+na9eutLaioiLMoqKiCFavXr3o1KkTHo+HgOLiYuLj4zmb6upqunTpQjCqq6vp0qUL7UlxcTFm0dHRBCs6Ohqz4uJiztfhw4cJ6NGjByJyboqLizGLjo4mWNHR0ZgVFxcjIm2vpKQEs5iYGFavXs0TTzzB0aNHaa6oqIjPP/+cdevW4XA4mDVrFvPnz6dr1660tqKiIsyioqIIVq9evejUqRMej4eA4uJi4uPjOZvq6mq6dOlCMKqrq+nSpQvtSXFxMWbR0dEEKzo6GrPi4mLO1+HDhwno0aMHInLxsiFyiSouLsYsNzeXnJwcWqKmpoZnnnmGrKwssrOziYuLozVVVlZiFhUVxbno168fpaWlBFRUVHA2X331FRMmTOCNN97A5XLREps2beKBBx4gJyeH4cOH0x643W5qa2sxi4qKIliRkZGYVVRUcD7Ky8v55JNPCBg6dCgiEjy3201tbS1mUVFRBCsyMhKziooKRKTtFRcXY5abm0tOTg4tUVNTwzPPPENWVhbZ2dnExcXRmiorKzGLioriXPTr14/S0lICKioqOJuvvvqKCRMm8MYbb+ByuWiJTZs28cADD5CTk8Pw4cNpD9xuN7W1tZhFRUURrMjISMwqKio4H+Xl5XzyyScEDB06FBG5eNkQuUSVlJRgZhgGZh07diQ8PJyOHTty5MgRampqaK60tJQRI0bw5ZdfMnjwYFqL2+3GzOFwcC4cDgdmtbW1nElhYSHjxo3jxIkTpKSkkJmZicvl4kw2bdpEUlISPp+P2267jS1btjB8+HB+bm63m+YcDgfBcjgcmNXW1tJcXV0dJ0+epFevXpzJTz/9RGJiIl6vlyY33ngjsbGxiEjw3G43zTkcDoLlcDgwq62tRUTaXklJCWaGYWDWsWNHkIytwgAAIABJREFUwsPD6dixI0eOHKGmpobmSktLGTFiBF9++SWDBw+mtbjdbswcDgfnwuFwYFZbW8uZFBYWMm7cOE6cOEFKSgqZmZm4XC7OZNOmTSQlJeHz+bjtttvYsmULw4cP5+fmdrtpzuFwECyHw4FZbW0tzdXV1XHy5El69erFmfz0008kJibi9XppcuONNxIbG4uIXLxsiFyiSkpKOJWJEyfy6KOPcsstt2C1Wgn45ptvWLNmDa+++ip+v5+A6upqJk+ezK5du3A4HLQGt9uNmd1u51x06tQJM7fbzZmUl5fjdrtpYhgGKSkpbNiwgYSEBE4lOzubpKQkfD4fTdxuN2VlZQwfPpyfm9vtpjm73U6wOnXqhJnH46GxsZGQkBACKisrueKKK5gwYQK33XYb8fHx9O/fn8suuwyv18v+/fvZunUrK1eu5MiRIzTp2rUrb7zxBiJybtxuN83Z7XaC1alTJ8w8Hg+NjY2EhIQgIm2npKSEU5k4cSKPPvoot9xyC1arlYBvvvmGNWvW8Oqrr+L3+wmorq5m8uTJ7Nq1C4fDQWtwu92Y2e12zkWnTp0wc7vdnEl5eTlut5smhmGQkpLChg0bSEhI4FSys7NJSkrC5/PRxO12U1ZWxvDhw/m5ud1umrPb7QSrU6dOmHk8HhobGwkJCSGgsrKSK664ggkTJnDbbbcRHx9P//79ueyyy/B6vezfv5+tW7eycuVKjhw5QpOuXbvyxhtvICIXNxsil6ji4mLMbDYbr7/+Or/97W85lSFDhrBy5UoSExO5//77KS0tJaCoqIiXX36ZRYsW0Rrcbjdmdrudc2G32zFzu92cicvlYsOGDaSmpmIYBoZhkJqaisViweVyYZadnU1iYiI+n48mNpuNjIwMkpKSaA/cbjfN2e12gmW322mutrYWh8OBWV1dHRs3bmTjxo2cTWxsLOvXrycuLg4ROTdut5vm7HY7wbLb7TRXW1uLw+FARNpOcXExZjabjddff53f/va3nMqQIUNYuXIliYmJ3H///ZSWlhJQVFTEyy+/zKJFi2gNbrcbM7vdzrmw2+2Yud1uzsTlcrFhwwZSU1MxDAPDMEhNTcViseByuTDLzs4mMTERn89HE5vNRkZGBklJSbQHbreb5ux2O8Gy2+00V1tbi8PhwKyuro6NGzeyceNGziY2Npb169cTFxeHiFzcbIhcokpKSggICQkhPT2de+65h7O56aabyM3N5eqrr6a+vp6Al156idmzZ+NwODhfVqsVM7/fz7kwDAOzhoYGziYhIYEmqampGIaBYRikpKSQmZmJy+WiSXZ2NomJifh8PprYbDYyMjJISkqivbBarTTn9/sJlmEYNNfQ0IBZz549eeaZZygsLGTnzp0cOnSI5rp168YNN9xAamoqqampdOzYERE5d1arleb8fj/BMgyD5hoaGhCRtlVSUkJASEgI6enp3HPPPZzNTTfdRG5uLldffTX19fUEvPTSS8yePRuHw8H5slqtmPn9fs6FYRiYNTQ0cDYJCQk0SU1NxTAMDMMgJSWFzMxMXC4XTbKzs0lMTMTn89HEZrORkZFBUlIS7YXVaqU5v99PsAzDoLmGhgbMevbsyTPPPENhYSE7d+7k0KFDNNetWzduuOEGUlNTSU1NpWPHjojIxc+GyCWqurqacxUTE8OcOXNYvnw5AVVVVeTn5zNp0iTOV1hYGGYej4dz4fV6MXM4HLREQkICFouFlJQUDMPAMAxSUlLIzMykQ4cOJCYm4vP5aGKz2cjIyCApKYn2JCwsjOY8Hg/B8nq9NOdwODDr1KkTCxYsIKCuro6ffvqJ48ePY7Va6datGxEREYhI6wkLC6M5j8dDsLxeL805HA5EpG1VV1dzrmJiYpgzZw7Lly8noKqqivz8fCZNmsT5CgsLw8zj8XAuvF4vZg6Hg5ZISEjAYrGQkpKCYRgYhkFKSgqZmZl06NCBxMREfD4fTWw2GxkZGSQlJdGehIWF0ZzH4yFYXq+X5hwOB2adOnViwYIFBNTV1fHTTz9x/PhxrFYr3bp1IyIiAhG59NgQaSNVVVVUVVXR2gYMGMCF8Pjjj/Pqq69y8uRJArZv386kSZM4X2FhYZh5vV7OhdfrxczhcNBSLpeLzMxMUlJSMAwDwzBISUnBYrHg8/loYrPZWL9+PYmJibQ3YWFhNOf1egmW1+vFzG63Y7VaOZPQ0FD69u1L3759EZELIywsjOa8Xi/B8nq9mNntdqxWKyJycXn88cd59dVXOXnyJAHbt29n0qRJnK+wsDDMvF4v58Lr9WLmcDhoKZfLRWZmJikpKRiGgWEYpKSkYLFY8Pl8NLHZbKxfv57ExETam7CwMJrzer0Ey+v1Yma327FarZxJaGgoffv2pW/fvojIpc2GSBt55ZVXWLp0Ka3N5/Nhs9lobWFhYYwcOZLc3FwCioqKaA0OhwOzEydOcC6qq6sxczgcBMPlcpGZmUlKSgqGYWAYBgE2m43169eTmJhIe+RwOGjuxIkTBKu6uhozh8OBiPz8HA4HzZ04cYJgVVdXY+ZwOBCRi09YWBgjR44kNzeXgKKiIlqDw+HA7MSJE5yL6upqzBwOB8FwuVxkZmaSkpKCYRgYhkGAzWZj/fr1JCYm0h45HA6aO3HiBMGqrq7GzOFwICISYENETmvw4MHk5uYScOTIEVpDVFQUZuXl5QSrsbGRQ4cOYdanTx+C5XK5ePTRR3nxxRcxe+SRR0hMTKS9Cg0NpVevXhw9epSA8vJyglVWVoZZnz59EJGfX2hoKL169eLo0aMElJeXE6yysjLM+vTpg4hcnAYPHkxubi4BR44coTVERUVhVl5eTrAaGxs5dOgQZn369CFYLpeLRx99lBdffBGzRx55hMTERNqr0NBQevXqxdGjRwkoLy8nWGVlZZj16dMHEZEAGyJyWj179sTM4/HQGpxOJ2YHDx6ksbGRkJAQWqqiogLDMDCLjY0lWBs3biQtLY3mVq1axciRI3G5XLRXTqeTo0ePElBWVkawysvLMYuNjUVE2gen08nRo0cJKCsrI1jl5eWYxcbGIiIXp549e2Lm8XhoDU6nE7ODBw/S2NhISEgILVVRUYFhGJjFxsYSrI0bN5KWlkZzq1atYuTIkbhcLtorp9PJ0aNHCSgrKyNY5eXlmMXGxiIiEmBDpI3MmjWLKVOm0NpsNhsXitfrxaxXr160BqfTiZlhGBQVFREbG0tL7du3DzOr1UpMTAzB2LhxI8nJyfh8PppYrVZCQkLw+XwYhkFKSgqZmZm4XC7aI6fTSUFBAQF79uwhWPv27cNs8ODBiEj74HQ6KSgoIGDPnj0Ea9++fZgNHjwYEbk4eb1ezHr16kVrcDqdmBmGQVFREbGxsbTUvn37MLNarcTExBCMjRs3kpycjM/no4nVaiUkJASfz4dhGKSkpJCZmYnL5aI9cjqdFBQUELBnzx6CtW/fPswGDx6MiEiADZE20qNHD3r06MGF1tjYyBdffIHZddddR1hYGMGqqKjALCIigtYQFRVF9+7dOX78OAE7duwgNjaWltqxYwdmTqeTjh070lIbN24kOTkZn89HE6vVSkZGBh06dCA5ORnDMDAMg5SUFDZs2EBCQgLtzZAhQzDbsWMHwfD5fOzatQuzIUOGICLtw5AhQzDbsWMHwfD5fOzatQuzIUOGICJtp7GxkS+++AKz6667jrCwMIJVUVGBWUREBK0hKiqK7t27c/z4cQJ27NhBbGwsLbVjxw7MnE4nHTt2pKU2btxIcnIyPp+PJlarlYyMDDp06EBycjKGYWAYBikpKWzYsIGEhATamyFDhmC2Y8cOguHz+di1axdmQ4YMQUQkwIbIJSYkJITf/OY3HDhwgIAVK1Ywa9YsgvXFF19gdv3119MaLBYLY8eOJSsri4CPP/6Y6dOn01KffPIJZuPHj6elNm7cSHJyMj6fjyZWq5WMjAySk5NpkpmZSUpKCoZhYBgGqampWCwWXC4X7cltt93G7NmzCThw4AD79+/n8ssvpyUKCwvxeDwE2Gw2xowZg4i0D7fddhuzZ88m4MCBA+zfv5/LL7+cligsLMTj8RBgs9kYM2YMItJ2QkJC+M1vfsOBAwcIWLFiBbNmzSJYX3zxBWbXX389rcFisTB27FiysrII+Pjjj5k+fTot9cknn2A2fvx4Wmrjxo0kJyfj8/loYrVaycjIIDk5mSaZmZmkpKRgGAaGYZCamorFYsHlctGe3HbbbcyePZuAAwcOsH//fi6//HJaorCwEI/HQ4DNZmPMmDGIiATYELkEjRkzhnXr1hHwl7/8hVmzZhGMzz//nD179mA2duxYWsvtt99OVlYWAe+//z6vvfYaDoeDsykrK+Pjjz/GbNKkSbTEpk2bSE5Oxufz0cRqtZKRkUFycjIBLpeLzMxMUlJSMAwDwzBISUkhMzMTl8tFexEbG8ugQYMoLS0lID09naVLl9IS6enpmI0aNYru3bsjIu1DbGwsgwYNorS0lID09HSWLl1KS6Snp2M2atQounfvjoi0rTFjxrBu3ToC/vKXvzBr1iyC8fnnn7Nnzx7Mxo4dS2u5/fbbycrKIuD999/ntddew+FwcDZlZWV8/PHHmE2aNImW2LRpE8nJyfh8PppYrVYyMjJITk4mwOVykZmZSUpKCoZhYBgGKSkpZGZm4nK5aC9iY2MZNGgQpaWlBKSnp7N06VJaIj09HbNRo0bRvXt3REQCbIhcgpKSkli3bh0B3377Le+++y6JiYm0hGEYPPTQQ5jFxcVx7bXX0lomTpxI586dqa2tpYnb7WbNmjXMmTOHs0lLS6OxsZGAfv36ceONN3I2mzZtIikpCZ/PRxOr1crf/vY3kpOTac7lcpGZmUlKSgqGYWAYBikpKWRlZXH33XfTXiQmJrJ8+XIC1q5dy7x583A4HJxJRUUFWVlZmCUlJSEi7UtiYiLLly8nYO3atcybNw+Hw8GZVFRUkJWVhVlSUhIi0vaSkpJYt24dAd9++y3vvvsuiYmJtIRhGDz00EOYxcXFce2119JaJk6cSOfOnamtraWJ2+1mzZo1zJkzh7NJS0ujsbGRgH79+nHjjTdyNps2bSIpKQmfz0cTq9XK3/72N5KTk2nO5XKRmZlJSkoKhmFgGAYpKSlkZWVx9913014kJiayfPlyAtauXcu8efNwOBycSUVFBVlZWZglJSUhImJmQ+QSNHbsWGJjY/nuu+8ImD59OjExMVx77bWcic/nY968eXz77beYLV68GIvFwumsWbOGI0eOYPbQQw/Rs2dPTqV79+7MnDmTF154gYDFixfjcrno378/p7N7925eeeUVzBYuXIjVauVswsPDsdvt+Hw+rFYrGRkZJCcnczoul4sNGzaQmpqKYRjY7XbCw8NpT+bMmcPKlStxu900OXToEAsXLiQtLY0zmTlzJidPniQgKiqK6dOnIyLty5w5c1i5ciVut5smhw4dYuHChaSlpXEmM2fO5OTJkwRERUUxffp0RKTtjR07ltjYWL777jsCpk+fTkxMDNdeey1n4vP5mDdvHt9++y1mixcvxmKxcDpr1qzhyJEjmD300EP07NmTU+nevTszZ87khRdeIGDx4sW4XC769+/P6ezevZtXXnkFs4ULF2K1Wjmb8PBw7HY7Pp8Pq9VKRkYGycnJnI7L5WLDhg2kpqZiGAZ2u53w8HDakzlz5rBy5UrcbjdNDh06xMKFC0lLS+NMZs6cycmTJwmIiopi+vTpiIiY2RC5BFksFp5++mlcLhcBbrebW265hQULFvCHP/wBu91Oc4WFhcyYMYNvvvkGs1tvvZWEhATOJC0tjT179mCWkJBAz549OZ358+fz+uuvU1NTQ5OamhpuvvlmtmzZwpVXXklzX3zxBXfeeSeGYRDQv39/ZsyYQUuMGDGCLVu2cPvtt7N69WqSk5M5m4SEBJrMmDGDnJwcRo4cSXvSu3dvHn74YZ577jkCVq5cSbdu3ViyZAkhISGY1dfX8+CDD7Jx40bMFi1aRGhoKCLSvvTu3ZuHH36Y5557joCVK1fSrVs3lixZQkhICGb19fU8+OCDbNy4EbNFixYRGhqKiLQ9i8XC008/jcvlIsDtdnPLLbewYMEC/vCHP2C322musLCQGTNm8M0332B26623kpCQwJmkpaWxZ88ezBISEujZsyenM3/+fF5//XVqampoUlNTw80338yWLVu48sorae6LL77gzjvvxDAMAvr378+MGTNoiREjRrBlyxZuv/12Vq9eTXJyMmeTkJBAkxkzZpCTk8PIkSNpT3r37s3DDz/Mc889R8DKlSvp1q0bS5YsISQkBLP6+noefPBBNm7ciNmiRYsIDQ1FRMTMhsgl6u677yY1NZUNGzYQcPz4cebPn89zzz3HNddcwxVXXEGXLl2orKxk586d7N27l+YGDBjAhg0bsFgstLbevXuzbt06kpKSCPj++++5+uqrueeeexg5ciS9evWivLyc3NxccnNz8fv9BISGhpKZmUnHjh1pqREjRrB//366detGSyUkJDBmzBi6detGe7RkyRLy8/P5+uuvCXjyySd55513mDZtGjExMXi9Xvbu3cubb75JRUUFZpMnT2bGjBmISPu0ZMkS8vPz+frrrwl48skneeedd5g2bRoxMTF4vV727t3Lm2++SUVFBWaTJ09mxowZiMjP5+677yY1NZUNGzYQcPz4cebPn89zzz3HNddcwxVXXEGXLl2orKxk586d7N27l+YGDBjAhg0bsFgstLbevXuzbt06kv6/9uA/JsrD8OP45+Dhlz+SA+5kBbXOa1ltiIgiPadpSVvccvacGu6crJ4d2s7J2pmtNZvFUjoWaoI6NXbrNkUUO2vd5FatNcDR/WHXNW5urp0ldtUMLiOGWrVyIiJ8Q5Ynu/itiDauD+f79fL7ZTp58qRycnJUUlKiWbNmyeFwqL29XQcPHtTBgwfV398vU1JSknbv3q3ExEQN1Ve/+lV99NFHstvtGqri4mI9/PDDstvtsqLnn39eoVBIR44ckeknP/mJ9uzZoyVLlujuu+9Wd3e3/vGPf6i2tlYdHR2KNm/ePD3++OMCgKsZAmJYbW2tzp8/rwMHDihaZ2enQqGQQqGQBpOXl6dgMKj09HTdKj6fT5WVlaqoqJDp8uXLqqurU11dna4lPj5e27Ztk9vt1o2y2+26UXa7XVaVkpKihoYGud1utbe3y9Ta2qrVq1drMNOmTVN9fb1sNpsAWFNKSooaGhrkdrvV3t4uU2trq1avXq3BTJs2TfX19bLZbALwxaqtrdX58+d14MABRevs7FQoFFIoFNJg8vLyFAwGlZ6erlvF5/OpsrJSFRUVMl2+fFl1dXWqq6vTtcTHx2vbtm1yu926UXa7XTfKbrfLqlJSUtTQ0CC326329naZWltbtXr1ag1m2rRpqq+vl81mEwBczRAQw5KSkrRv3z69+OKLqqqqUk9Pj4YiJSVFZWVlqqys1IgRI3SrPffcc5o0aZKeeOIJnT17VtczYcIE1dfXa+bMmcJ/ZGVl6ejRo1q2bJmCwaCGoqysTDU1NUpOThYAa8vKytLRo0e1bNkyBYNBDUVZWZlqamqUnJwsAF+8pKQk7du3Ty+++KKqqqrU09OjoUhJSVFZWZkqKys1YsQI3WrPPfecJk2apCeeeEJnz57V9UyYMEH19fWaOXOm8B9ZWVk6evSoli1bpmAwqKEoKytTTU2NkpOTBQCfxRAQ4xISErRmzRqVlpaqtrZWwWBQx44dU09Pj6LFxcWpoKBAHo9HS5cuVWZmpm7EihUrdPr0aUVzOBwaKp/Pp/vvv191dXXauXOn3nvvPUWLi4uT2+1WIBBQSUmJRo8ereHM4/HI4XDIlJOTo8/L4XCooaFBjY2N2r59u4LBoLq6uhQtPT1dfr9fpaWlys/PF4Dhw+FwqKGhQY2Njdq+fbuCwaC6uroULT09XX6/X6WlpcrPzxcAa0lISNCaNWtUWlqq2tpaBYNBHTt2TD09PYoWFxengoICeTweLV26VJmZmboRK1as0OnTpxXN4XBoqHw+n+6//37V1dVp586deu+99xQtLi5ObrdbgUBAJSUlGj16tIYzj8cjh8MhU05Ojj4vh8OhhoYGNTY2avv27QoGg+rq6lK09PR0+f1+lZaWKj8/XwAwGEPAbSIrK0vl5eUqLy9XT0+P2tradO7cOfX19cnpdCojI0PJycm6WStWrNDnlZGRoVWrVmnVqlXq7u5WOBzWmTNnNGbMGGVmZiohIUGxwuPxyOPx6FYoKipSUVGR+vv71dnZqXA4rPj4eI0dO1apqakCMLwVFRWpqKhI/f396uzsVDgcVnx8vMaOHavU1FQBsL6srCyVl5ervLxcPT09amtr07lz59TX1yen06mMjAwlJyfrZq1YsUKfV0ZGhlatWqVVq1apu7tb4XBYZ86c0ZgxY5SZmamEhATFCo/HI4/Ho1uhqKhIRUVF6u/vV2dnp8LhsOLj4zV27FilpqYKAIbKEHAbSkxMlMvlkpUlJyfL5XLJ5XIJN8dms8npdMrpdApA7LHZbHI6nXI6nQIwfCUmJsrlcsnKkpOT5XK55HK5hJtjs9nkdDrldDoFADfDEAAAAAAAAGBhhgAAAAAAAAALMwQAAAAAAABYmCEAAAAAAADAwgwBAAAAAAAAFmYIAAAAAAAAsDBDAAAAAAAAgIUZAgAAAAAAACzMEAAAAAAAAGBhhgAAAAAAAAALMwQAAAAAAABYmCEAAAAAAADAwgwBAAAAAAAAFmYIAAAAAAAAsDBDAAAAAAAAgIUZAgAAAAAAACzMEAAAAAAAAGBhhgAAAAAAAAALMwQAAAAAAABYmCEAAAAAAADAwgwBAAAAAAAAFmYIAAAAAAAAsDBDAAAAAAAAgIUZAgAAAAAAACzMEAAAAAAAAGBhhgAAAG6xiooKHT58WINZt26dcnNzZdq9e7d+/etfy/Too4/qscceU6xra2vTt7/9bQ3m3nvv1aZNmwQAAHC7MAQAAHCL/e1vf1Nzc7MG88knnyjaqVOn1NzcLJPb7dbtoKurS83NzRrMhQsXBAAAcDsxBAAAAAAAAFiYIQAAgP+xqVOnyul0KlpaWpogjRo1Sl/72tcU7fz58/rjH/8oAACA25UhAACA/7HKyko98sgjwv83duxYvfnmm4p25MgRTZ8+XQAAALcrQwAAAAAAAICFGQIAAAAAAAAszBAAAAAAAABgYYYAAAAAAAAACzMEAACAzxQOh3Xw4EG1t7ers7NTaWlpysrKksfj0bhx43QtFy9e1JtvvqkPPvhAp0+fVkJCgrKzs5Wdna38/HyNGDFCAAAAGDpDAAAgJuTn56ujo0OmTZs2acGCBboR1dXV2rJli0zTp0/Xvn37NJyEQiGVlpaqt7dXpsmTJ+u1117TyJEjFa2wsFAffvihBuTm5urAgQMa8M9//lNPPvmkDh06pL6+Pl0tLi5Oc+bM0datW+V0OmW6ePGinn32Wf3yl79UV1eXPsu4ceO0fv16FRcXCwAAAENjCAAAxAS3260tW7bI9Jvf/EYLFizQjfjVr36lcDgs049+9CMNJy0tLfJ6vYpEIjJNnjxZO3bs0MiRI3W1jo4OhcNhDfjSl76kAQ0NDVqyZInOnz+va+nr69Prr7+u/Px8vfXWW/ryl7+sEydOaM6cOTpx4oQG09bWJp/Ppx/84Adat26dAAAAcH2GAABATPD7/dqyZYtMb7zxhiKRiEaMGKGhOHz4sE6ePClTQkKCFi1apOEiFArJ6/UqEonIlJubq+bmZqWnp2so/vCHP8jv9+vy5csyjRw5Uv39/YpEIrrav/71Lz366KPasWOHHnroIbW1tclks9mUmpqqTz75RP39/braz372My1atEj5+fkCAADA4AwBAICYMGvWLN1xxx3697//rQGRSERvvPGGiouLNRSvvPKKonk8HqWnp2s4CIVC8nq9ikQiMk2ZMkVNTU1KT0/XUHR0dGjBggW6fPmyBjz++ON6+umnlZ2drb6+Pp08eVI///nPtWHDBvX19cn09ttva/LkyYpEIhrgdDpVU1OjBQsWaNSoUbpw4YL+9Kc/6fvf/77ef/99mfr6+vTjH/9YjY2NAgAAwOAMAQCAmBAXFyefz6dNmzbJtHfvXhUXF+t6ent7tWfPHkULBAIaDkKhkLxeryKRiExTpkxRc3Oz0tLSNFThcFgDRo4cqW3btsnv98sUFxcnl8ulmpoa5ebmKhAIKFokEtGAWbNm6dVXX1VmZqZMo0aN0kMPPaQ///nPmjFjho4ePSrT0aNHBQAAgOszBAAAYobP59OmTZtkOnDggLq7u5WcnKzBHDp0SJ2dnTKlpaXpkUcekdWFQiF5vV5FIhGZ8vLy1NTUpLS0NN2MF154QX6/X9eyePFivfTSS3rnnXcULTU1Vb/73e/kdDr1WZKSkrRu3To9+OCDMn388cfq7OyUw+EQAAAArs0QAACIGTNnzlRWVpbC4bAGXLhwQQcPHtT8+fM1mF27dinaN7/5TSUmJsrKQqGQvF6vIpGITFOnTlVjY6PS0tJ0M3JycvTUU0/pembPnq133nlH0aqrq+V0OjWYwsJCJScnq7u7W6ZTp07J4XAIAAAA12YIAADEDJvNpuLiYm3cuFGmvXv3av78+bqWCxcuKBgMKlogEJCVhUIheb1eRSIRmaZNm6bGxkalpqbqZvl8PhmGoeu5++67Fc1ms6mkpETXY7PZ5HK59P7778vU29srAAAADM4QAACIKQsXLtTGjRtl2r9/vy5duqSkpCR9ln379ikSiciUnZ2t++67T1YVCoXk9XoViURkysnJUVNTk+x2uz6PyZMnayjsdruiTZw4UaNHj9ZQ2O12AQAA4MYYAgAAMcXtdmvcuHFqa2vTgPPnz+vQoUOaO3euPss7WBXtAAAG50lEQVSuXbsULRAIyKpCoZC8Xq8ikYiidXR06MqVK/q87rnnHt2Me+65RwAAALh1DAEAgJhis9nk8/m0fv16mfbu3au5c+fqaqdPn1ZTU5NMNptNixcvlhUdPnxYGzZsUCQS0dU6Ozv1zDPPaNu2bfo8DMPQzTAMQwAAALh1DAEAgJjj9/u1fv16mV5//XX19PQoMTFR0Xbv3q0rV67I9MADD2j8+PGyorfeekvRxo0bp7a2Nplqa2sVCARUWFgoAAAAxBZDAAAg5tx3332aMGGCTp06pQFnz55VU1OTPB6Pou3atUvRAoGAhoNnn31W3/3udzVp0iR9+umnMi1fvlzHjh1TYmKiAAAAEDsMAQCAmFRcXKyamhqZ9u7dK4/HI9OJEyf07rvvyjRixAgVFxfL6tasWaMXXnhBA37605/qqaeekqm1tVXV1dWqqKgQAAAAYochAAAQk/x+v2pqamQKBoPq7e2VYRgasGvXLkWbN2+eRo8eLSt7/vnnVVFRIVNZWZl27NihI0eOyFRdXa1FixYpOztbAAAAiA2GAABATJo+fbomTpyojz76SAPOnDmjUCik2bNna8Arr7yiaIFAQFa2ZMkSVVRUKFpcXJxefvllFRQU6MqVKxpw6dIlLV++XKFQSAAAAIgNhgAAQMzy+Xxau3atTK+99ppmz56td999VydOnJApMzNTDz/8sKxs7Nix+ixTp07V9773PW3cuFGmlpYW1dXVacmSJQIAAMDwZwgAAMSshQsXau3atTI1NDToF7/4herr6xXtW9/6luLj4zVcVVVV6be//a3a29tl+uEPf6g5c+bI4XAIAAAAw5shAAAQs/Ly8nTXXXfpww8/1IDOzk41Nzfr1VdfVbRAIKDhbNSoUdq8ebPmz58v08cff6xnnnlGtbW1AgAAwPBmCAAAxDSfz6fq6mqZVq5cqdOnT8uUl5ennJwcDXfz5s3T3Llz9fvf/16m7du367HHHtMDDzwgAAAADF+GAABATFu4cKGqq6tlOn78uKIFAgHFis2bN6u5uVldXV0yfec739GxY8eUmJgoAAAADE+GAABATMvNzdVXvvIVtba26mqGYaikpESxYvz48aqsrNTTTz8tU2trq6qrq1VRUSEAAAAMT4YAAEDM8/l8qqqq0tW+/vWva8yYMYolK1euVH19vf7617/KVF1drUWLFik7O1sAAAAYfgwBAICYt3DhQlVVVelqgUBAsSY+Pl4vv/yyZsyYob6+Pg24dOmSli9frlAoJAAAAAw/hgAAQMzLycnRpEmTdPz4cZnsdrvmzp2rWFRQUKDly5frpZdekqmlpUU7duxQIBAQAAAAhhdDAADgtjBlyhQdP35cJr/fr6SkJFlVSUmJ3G63THfeeaduxNq1a+Xz+RTNbrcr2o4dOxSJRGTKysrSUMyYMUMtLS0yORwODdXmzZt17tw5me69914BAABgcIYAAEDM6+rq0v79+xUtEAjIysaPH6/x48frZo0aNUqFhYUaTEFBgW5Genq6CgsLdTPy8vIEAACAG2MIAADEvD179ujTTz+VyeVyaebMmQIAAACGA0MAACDmbd26VdEWL14sAAAAYLgwBAAAYtrf//53HT58WCabzabFixcLAAAAGC4MAQCAmNXf36/Vq1crWmFhoSZOnCgAAABguDAEAABixl/+8hcdO3ZMd955p86dO6etW7dq//79ilZeXq4vWl9fn3p7exUtPj5eNptNkHp7exXtypUrAgAAuJ0ZAgAAMePtt9/Wk08+qWspLCzUgw8+qC/aN77xDV2tpaVFhYWFut198MEHmjRpkgAAAPBfhgAAwG1hwoQJqq+vFwAAADDcGAIAADHP7XZr586dysrKEgAAADDcGAIAADGjpKREvb29OnLkiC5evCiXy6XCwkJ5PB59kZYuXarCwkIN5q677hKkjIwMbdiwQYO54447BAAAcDsxBAAAYkZaWppWrlwpq/F6vcLQpKamauXKlQIAAMB/GQIAAAAAAAAszBAAAAAAAABgYYYAAAAAAAAACzMEAAAAAAAAWJghAAAAAAAAwMIMAQAAAAAAABZmCAAAAAAAALAwQwAAAAAAAICFGQIAAAAAAAAszBAAAAAAAABgYYYAAAAAAAAACzMEAAAAAAAAWJghAAAAAAAAwMIMAQAAAAAAABZmCAAAAAAAALAwQwAAAAAAAICFGQIAAAAAAAAszBAAAAAAAABgYYYAAAAAAAAACzMEAAAAAAAAWJghAAAAAAAAwMIMAQAAAAAAABZmCAAAAAAAALAwQwAAAAAAAICFGQIAAAAAAAAszBAAAAAAAABgYYYAAAAAAAAACzMEAAAAAAAAWNj/Aety0oLq8ZwyAAAAAElFTkSuQmCC\"/>"
      ]
     },
     "execution_count": 24,
     "metadata": {},
     "output_type": "execute_result"
    }
   ],
   "source": [
    "using GLMakie\n",
    "\n",
    "# Build coordinates with units of kilometers\n",
    "x, y, z = 1e-3 .* nodes(grid, (Center(), Center(), Center()))\n",
    "\n",
    "b = model.tracers.b\n",
    "\n",
    "fig, ax, hm = heatmap(view(b, 1, :, :),\n",
    "                      colormap = :deep,\n",
    "                      axis = (xlabel = \"y [km]\",\n",
    "                              ylabel = \"z [km]\",\n",
    "                              title = \"b(x=0, y, z, t=0)\",\n",
    "                              titlesize = 24))\n",
    "\n",
    "Colorbar(fig[1, 2], hm, label = \"[m s⁻²]\")\n",
    "\n",
    "current_figure() #hide\n",
    "fig"
   ]
  },
  {
   "cell_type": "markdown",
   "metadata": {},
   "source": [
    "## Simulation\n",
    "\n",
    "Now let's build a `Simulation`."
   ]
  },
  {
   "cell_type": "code",
   "execution_count": 25,
   "metadata": {},
   "outputs": [
    {
     "data": {
      "text/plain": [
       "Simulation of HydrostaticFreeSurfaceModel{CPU, RectilinearGrid}(time = 0 seconds, iteration = 0)\n",
       "├── Next time step: 40 minutes\n",
       "├── Elapsed wall time: 0 seconds\n",
       "├── Wall time per iteration: NaN days\n",
       "├── Stop time: 40 days\n",
       "├── Stop iteration: Inf\n",
       "├── Wall time limit: Inf\n",
       "├── Minimum relative step: 0.0\n",
       "├── Callbacks: OrderedDict with 4 entries:\n",
       "│   ├── stop_time_exceeded => Callback of stop_time_exceeded on IterationInterval(1)\n",
       "│   ├── stop_iteration_exceeded => Callback of stop_iteration_exceeded on IterationInterval(1)\n",
       "│   ├── wall_time_limit_exceeded => Callback of wall_time_limit_exceeded on IterationInterval(1)\n",
       "│   └── nan_checker => Callback of NaNChecker for u on IterationInterval(100)\n",
       "├── Output writers: OrderedDict with no entries\n",
       "└── Diagnostics: OrderedDict with no entries"
      ]
     },
     "execution_count": 25,
     "metadata": {},
     "output_type": "execute_result"
    }
   ],
   "source": [
    "simulation = Simulation(model, Δt=40minutes, stop_time=40days)"
   ]
  },
  {
   "cell_type": "markdown",
   "metadata": {},
   "source": [
    "and add a callback to print a message about how the simulation is going,"
   ]
  },
  {
   "cell_type": "code",
   "execution_count": 26,
   "metadata": {},
   "outputs": [],
   "source": [
    "using Printf\n",
    "\n",
    "wall_clock = Ref(time_ns())\n",
    "\n",
    "function print_progress(sim)\n",
    "    u, v, w = model.velocities\n",
    "    progress = 100 * (time(sim) / sim.stop_time)\n",
    "    elapsed = (time_ns() - wall_clock[]) / 1e9\n",
    "\n",
    "    @printf(\"[%05.2f%%] i: %d, t: %s, wall time: %s, max(u): (%6.3e, %6.3e, %6.3e) m/s, next Δt: %s\\n\",\n",
    "            progress, iteration(sim), prettytime(sim), prettytime(elapsed),\n",
    "            maximum(abs, u), maximum(abs, v), maximum(abs, w), prettytime(sim.Δt))\n",
    "\n",
    "    wall_clock[] = time_ns()\n",
    "\n",
    "    return nothing\n",
    "end\n",
    "\n",
    "add_callback!(simulation, print_progress, IterationInterval(100))"
   ]
  },
  {
   "cell_type": "markdown",
   "metadata": {},
   "source": [
    "## Diagnostics/Output\n",
    "\n",
    "Here, we save the buoyancy, $b$, at the edges of our domain as well as\n",
    "the zonal ($x$) average of buoyancy."
   ]
  },
  {
   "cell_type": "code",
   "execution_count": 27,
   "metadata": {},
   "outputs": [
    {
     "data": {
      "text/plain": [
       "Average of 48×49×8 Field{Center, Face, Center} on RectilinearGrid on CPU over dims (1,)\n",
       "└── operand: 48×49×8 Field{Center, Face, Center} on RectilinearGrid on CPU\n",
       "    └── grid: 48×48×8 RectilinearGrid{Float64, Periodic, Bounded, Bounded} on CPU with 3×3×3 halo"
      ]
     },
     "execution_count": 27,
     "metadata": {},
     "output_type": "execute_result"
    }
   ],
   "source": [
    "u, v, w = model.velocities\n",
    "ζ = ∂x(v) - ∂y(u)\n",
    "B = Average(b, dims=1)\n",
    "U = Average(u, dims=1)\n",
    "V = Average(v, dims=1)"
   ]
  },
  {
   "cell_type": "markdown",
   "metadata": {},
   "source": [
    "We then set up output writers for the east, north, bottom, and top surfaces, as well as zonal averages."
   ]
  },
  {
   "cell_type": "code",
   "execution_count": 28,
   "metadata": {},
   "outputs": [
    {
     "data": {
      "text/plain": [
       "JLD2OutputWriter scheduled on TimeInterval(12 hours):\n",
       "├── filepath: baroclinic_adjustment_zonal_average.jld2\n",
       "├── 3 outputs: (b, u, v)\n",
       "├── array type: Array{Float32}\n",
       "├── including: [:grid, :coriolis, :buoyancy, :closure]\n",
       "├── file_splitting: NoFileSplitting\n",
       "└── file size: 2.0 MiB"
      ]
     },
     "execution_count": 28,
     "metadata": {},
     "output_type": "execute_result"
    }
   ],
   "source": [
    "filename = \"baroclinic_adjustment\"\n",
    "save_fields_interval = 0.5day\n",
    "\n",
    "slicers = (east = (grid.Nx, :, :),\n",
    "           north = (:, grid.Ny, :),\n",
    "           bottom = (:, :, 1),\n",
    "           top = (:, :, grid.Nz))\n",
    "\n",
    "for side in keys(slicers)\n",
    "    indices = slicers[side]\n",
    "\n",
    "    simulation.output_writers[side] = JLD2OutputWriter(model, (; b, ζ);\n",
    "                                                       filename = filename * \"_$(side)_slice\",\n",
    "                                                       schedule = TimeInterval(save_fields_interval),\n",
    "                                                       overwrite_existing = true,\n",
    "                                                       indices)\n",
    "end\n",
    "\n",
    "simulation.output_writers[:zonal] = JLD2OutputWriter(model, (; b=B, u=U, v=V);\n",
    "                                                     filename = filename * \"_zonal_average\",\n",
    "                                                     schedule = TimeInterval(save_fields_interval),\n",
    "                                                     overwrite_existing = true)"
   ]
  },
  {
   "cell_type": "markdown",
   "metadata": {},
   "source": [
    "Now we're ready to _run_."
   ]
  },
  {
   "cell_type": "code",
   "execution_count": 29,
   "metadata": {},
   "outputs": [
    {
     "name": "stderr",
     "output_type": "stream",
     "text": [
      "\u001b[36m\u001b[1m[ \u001b[22m\u001b[39m\u001b[36m\u001b[1mInfo: \u001b[22m\u001b[39mRunning the simulation...\n",
      "\u001b[36m\u001b[1m[ \u001b[22m\u001b[39m\u001b[36m\u001b[1mInfo: \u001b[22m\u001b[39mInitializing simulation...\n"
     ]
    },
    {
     "name": "stdout",
     "output_type": "stream",
     "text": [
      "[00.00%] i: 0, t: 0 seconds, wall time: 23.820 seconds, max(u): (0.000e+00, 0.000e+00, 0.000e+00) m/s, next Δt: 40 minutes\n"
     ]
    },
    {
     "name": "stderr",
     "output_type": "stream",
     "text": [
      "\u001b[36m\u001b[1m[ \u001b[22m\u001b[39m\u001b[36m\u001b[1mInfo: \u001b[22m\u001b[39m    ... simulation initialization complete (9.620 seconds)\n",
      "\u001b[36m\u001b[1m[ \u001b[22m\u001b[39m\u001b[36m\u001b[1mInfo: \u001b[22m\u001b[39mExecuting initial time step...\n",
      "\u001b[36m\u001b[1m[ \u001b[22m\u001b[39m\u001b[36m\u001b[1mInfo: \u001b[22m\u001b[39m    ... initial time step complete (12.184 seconds).\n"
     ]
    },
    {
     "name": "stdout",
     "output_type": "stream",
     "text": [
      "[06.94%] i: 100, t: 2.778 days, wall time: 19.526 seconds, max(u): (2.570e-01, 1.292e-01, 1.104e-03) m/s, next Δt: 40 minutes\n",
      "[13.89%] i: 200, t: 5.556 days, wall time: 869.220 ms, max(u): (4.188e-01, 2.267e-01, 1.121e-03) m/s, next Δt: 40 minutes\n",
      "[20.83%] i: 300, t: 8.333 days, wall time: 921.820 ms, max(u): (5.849e-01, 5.578e-01, 1.476e-03) m/s, next Δt: 40 minutes\n",
      "[27.78%] i: 400, t: 11.111 days, wall time: 891.554 ms, max(u): (1.157e+00, 1.185e+00, 3.385e-03) m/s, next Δt: 40 minutes\n",
      "[34.72%] i: 500, t: 13.889 days, wall time: 852.303 ms, max(u): (1.456e+00, 9.907e-01, 3.978e-03) m/s, next Δt: 40 minutes\n",
      "[41.67%] i: 600, t: 16.667 days, wall time: 863.862 ms, max(u): (1.327e+00, 1.056e+00, 2.842e-03) m/s, next Δt: 40 minutes\n",
      "[48.61%] i: 700, t: 19.444 days, wall time: 815.566 ms, max(u): (1.231e+00, 1.558e+00, 3.656e-03) m/s, next Δt: 40 minutes\n",
      "[55.56%] i: 800, t: 22.222 days, wall time: 929.810 ms, max(u): (1.023e+00, 1.560e+00, 5.156e-03) m/s, next Δt: 40 minutes\n",
      "[62.50%] i: 900, t: 25 days, wall time: 806.811 ms, max(u): (1.423e+00, 1.482e+00, 3.834e-03) m/s, next Δt: 40 minutes\n",
      "[69.44%] i: 1000, t: 27.778 days, wall time: 871.821 ms, max(u): (1.856e+00, 1.350e+00, 2.548e-03) m/s, next Δt: 40 minutes\n",
      "[76.39%] i: 1100, t: 30.556 days, wall time: 885.565 ms, max(u): (1.540e+00, 1.339e+00, 4.304e-03) m/s, next Δt: 40 minutes\n",
      "[83.33%] i: 1200, t: 33.333 days, wall time: 868.405 ms, max(u): (1.681e+00, 1.562e+00, 3.033e-03) m/s, next Δt: 40 minutes\n",
      "[90.28%] i: 1300, t: 36.111 days, wall time: 853.936 ms, max(u): (1.766e+00, 1.488e+00, 2.434e-03) m/s, next Δt: 40 minutes\n",
      "[97.22%] i: 1400, t: 38.889 days, wall time: 820.435 ms, max(u): (1.362e+00, 1.600e+00, 2.338e-03) m/s, next Δt: 40 minutes\n"
     ]
    },
    {
     "name": "stderr",
     "output_type": "stream",
     "text": [
      "\u001b[36m\u001b[1m[ \u001b[22m\u001b[39m\u001b[36m\u001b[1mInfo: \u001b[22m\u001b[39mSimulation is stopping after running for 0 seconds.\n",
      "\u001b[36m\u001b[1m[ \u001b[22m\u001b[39m\u001b[36m\u001b[1mInfo: \u001b[22m\u001b[39mSimulation time 40 days equals or exceeds stop time 40 days.\n",
      "\u001b[36m\u001b[1m[ \u001b[22m\u001b[39m\u001b[36m\u001b[1mInfo: \u001b[22m\u001b[39mSimulation completed in 35.844 seconds\n"
     ]
    }
   ],
   "source": [
    "@info \"Running the simulation...\"\n",
    "\n",
    "run!(simulation)\n",
    "\n",
    "@info \"Simulation completed in \" * prettytime(simulation.run_wall_time)"
   ]
  },
  {
   "cell_type": "markdown",
   "metadata": {},
   "source": [
    "## Visualization\n",
    "\n",
    "All that's left is to make a pretty movie.\n",
    "Actually, we make two visualizations here. First, we illustrate how to make a\n",
    "3D visualization with `Makie`'s `Axis3` and `Makie.surface`. Then we make a movie in 2D.\n",
    "We use `GLMakie` in this example, but note that if we do not have a system with OpenGL we need\n",
    "to use the headless version `using CairoMakie`."
   ]
  },
  {
   "cell_type": "code",
   "execution_count": 30,
   "metadata": {},
   "outputs": [],
   "source": [
    "using GLMakie"
   ]
  },
  {
   "cell_type": "markdown",
   "metadata": {},
   "source": [
    "### Three-dimensional visualization\n",
    "\n",
    "We load the saved buoyancy output on the top, north, and east surface as `FieldTimeSeries`es."
   ]
  },
  {
   "cell_type": "code",
   "execution_count": 31,
   "metadata": {},
   "outputs": [
    {
     "data": {
      "text/plain": [
       "48×48×8 RectilinearGrid{Float64, Periodic, Bounded, Bounded} on CPU with 3×3×3 halo\n",
       "├── Periodic x ∈ [0.0, 1.0e6)          regularly spaced with Δx=20833.3\n",
       "├── Bounded  y ∈ [-500000.0, 500000.0] regularly spaced with Δy=20833.3\n",
       "└── Bounded  z ∈ [-1000.0, 0.0]        regularly spaced with Δz=125.0"
      ]
     },
     "execution_count": 31,
     "metadata": {},
     "output_type": "execute_result"
    }
   ],
   "source": [
    "filename = \"baroclinic_adjustment\"\n",
    "\n",
    "sides = keys(slicers)\n",
    "\n",
    "slice_filenames = NamedTuple(side => filename * \"_$(side)_slice.jld2\" for side in sides)\n",
    "\n",
    "b_timeserieses = (east   = FieldTimeSeries(slice_filenames.east, \"b\"),\n",
    "                  north  = FieldTimeSeries(slice_filenames.north, \"b\"),\n",
    "                  top    = FieldTimeSeries(slice_filenames.top, \"b\"))\n",
    "\n",
    "B_timeseries = FieldTimeSeries(filename * \"_zonal_average.jld2\", \"b\")\n",
    "\n",
    "times = B_timeseries.times\n",
    "grid = B_timeseries.grid"
   ]
  },
  {
   "cell_type": "markdown",
   "metadata": {},
   "source": [
    "We build the coordinates. We rescale horizontal coordinates to kilometers."
   ]
  },
  {
   "cell_type": "code",
   "execution_count": 32,
   "metadata": {},
   "outputs": [],
   "source": [
    "xb, yb, zb = nodes(b_timeserieses.east)\n",
    "\n",
    "xb = xb ./ 1e3 # convert m -> km\n",
    "yb = yb ./ 1e3 # convert m -> km\n",
    "\n",
    "Nx, Ny, Nz = size(grid)\n",
    "\n",
    "x_xz = repeat(x, 1, Nz)\n",
    "y_xz_north = y[end] * ones(Nx, Nz)\n",
    "z_xz = repeat(reshape(z, 1, Nz), Nx, 1)\n",
    "\n",
    "x_yz_east = x[end] * ones(Ny, Nz)\n",
    "y_yz = repeat(y, 1, Nz)\n",
    "z_yz = repeat(reshape(z, 1, Nz), grid.Ny, 1)\n",
    "\n",
    "x_xy = x\n",
    "y_xy = y\n",
    "z_xy_top = z[end] * ones(grid.Nx, grid.Ny)\n",
    "nothing #hide"
   ]
  },
  {
   "cell_type": "markdown",
   "metadata": {},
   "source": [
    "Then we create a 3D axis. We use `zonal_slice_displacement` to control where the plot of the instantaneous\n",
    "zonal average flow is located."
   ]
  },
  {
   "cell_type": "code",
   "execution_count": 33,
   "metadata": {},
   "outputs": [
    {
     "data": {
      "text/plain": [
       "Axis3()"
      ]
     },
     "execution_count": 33,
     "metadata": {},
     "output_type": "execute_result"
    }
   ],
   "source": [
    "fig = Figure(size = (1600, 800))\n",
    "\n",
    "zonal_slice_displacement = 1.2\n",
    "\n",
    "ax = Axis3(fig[2, 1],\n",
    "           aspect=(1, 1, 1/5),\n",
    "           xlabel = \"x (km)\",\n",
    "           ylabel = \"y (km)\",\n",
    "           zlabel = \"z (m)\",\n",
    "           xlabeloffset = 100,\n",
    "           ylabeloffset = 100,\n",
    "           zlabeloffset = 100,\n",
    "           limits = ((x[1], zonal_slice_displacement * x[end]), (y[1], y[end]), (z[1], z[end])),\n",
    "           elevation = 0.45,\n",
    "           azimuth = 6.8,\n",
    "           xspinesvisible = false,\n",
    "           zgridvisible = false,\n",
    "           protrusions = 40,\n",
    "           perspectiveness = 0.7)"
   ]
  },
  {
   "cell_type": "markdown",
   "metadata": {},
   "source": [
    "We use data from the final savepoint for the 3D plot.\n",
    "Note that this plot can easily be animated by using Makie's `Observable`.\n",
    "To dive into `Observable`s, check out\n",
    "[Makie.jl's Documentation](https://makie.juliaplots.org/stable/documentation/nodes/index.html)."
   ]
  },
  {
   "cell_type": "code",
   "execution_count": 34,
   "metadata": {},
   "outputs": [
    {
     "data": {
      "text/plain": [
       "81"
      ]
     },
     "execution_count": 34,
     "metadata": {},
     "output_type": "execute_result"
    }
   ],
   "source": [
    "n = length(times)"
   ]
  },
  {
   "cell_type": "markdown",
   "metadata": {},
   "source": [
    "Now let's make a 3D plot of the buoyancy and in front of it we'll use the zonally-averaged output\n",
    "to plot the instantaneous zonal-average of the buoyancy."
   ]
  },
  {
   "cell_type": "code",
   "execution_count": 35,
   "metadata": {},
   "outputs": [],
   "source": [
    "b_slices = (east   = interior(b_timeserieses.east[n], 1, :, :),\n",
    "            north  = interior(b_timeserieses.north[n], :, 1, :),\n",
    "            top    = interior(b_timeserieses.top[n], :, :, 1))\n",
    "\n",
    "# Zonally-averaged buoyancy\n",
    "B = interior(B_timeseries[n], 1, :, :)\n",
    "\n",
    "clims = 1.1 .* extrema(b_timeserieses.top[n][:])\n",
    "\n",
    "kwargs = (colorrange=clims, colormap=:deep, shading=NoShading)\n",
    "\n",
    "surface!(ax, x_yz_east, y_yz, z_yz;  color = b_slices.east, kwargs...)\n",
    "surface!(ax, x_xz, y_xz_north, z_xz; color = b_slices.north, kwargs...)\n",
    "surface!(ax, x_xy, y_xy, z_xy_top;   color = b_slices.top, kwargs...)\n",
    "\n",
    "sf = surface!(ax, zonal_slice_displacement .* x_yz_east, y_yz, z_yz; color = B, kwargs...)\n",
    "\n",
    "contour!(ax, y, z, B; transformation = (:yz, zonal_slice_displacement * x[end]),\n",
    "         levels = 15, linewidth = 2, color = :black)\n",
    "\n",
    "Colorbar(fig[2, 2], sf, label = \"m s⁻²\", height = Relative(0.4), tellheight=false)\n",
    "\n",
    "title = \"Buoyancy at t = \" * string(round(times[n] / day, digits=1)) * \" days\"\n",
    "fig[1, 1:2] = Label(fig, title; fontsize = 24, tellwidth = false, padding = (0, 0, -120, 0))\n",
    "\n",
    "rowgap!(fig.layout, 1, Relative(-0.2))\n",
    "colgap!(fig.layout, 1, Relative(-0.1))\n",
    "\n",
    "save(\"baroclinic_adjustment_3d.png\", fig)\n",
    "nothing #hide"
   ]
  },
  {
   "cell_type": "markdown",
   "metadata": {},
   "source": [
    "![](baroclinic_adjustment_3d.png)"
   ]
  },
  {
   "cell_type": "markdown",
   "metadata": {},
   "source": [
    "### Two-dimensional movie\n",
    "\n",
    "We make a 2D movie that shows buoyancy $b$ and vertical vorticity $ζ$ at the surface,\n",
    "as well as the zonally-averaged zonal and meridional velocities $U$ and $V$ in the\n",
    "$(y, z)$ plane. First we load the `FieldTimeSeries` and extract the additional coordinates\n",
    "we'll need for plotting"
   ]
  },
  {
   "cell_type": "code",
   "execution_count": 36,
   "metadata": {},
   "outputs": [
    {
     "data": {
      "text/plain": [
       "49-element Vector{Float64}:\n",
       " -500.0\n",
       " -479.1666666666667\n",
       " -458.3333333333333\n",
       " -437.5\n",
       " -416.6666666666667\n",
       " -395.8333333333333\n",
       " -375.0\n",
       " -354.1666666666667\n",
       " -333.3333333333333\n",
       " -312.5\n",
       " -291.6666666666667\n",
       " -270.8333333333333\n",
       " -250.0\n",
       "    ⋮\n",
       "  270.8333333333333\n",
       "  291.6666666666667\n",
       "  312.5\n",
       "  333.3333333333333\n",
       "  354.1666666666667\n",
       "  375.0\n",
       "  395.8333333333333\n",
       "  416.6666666666667\n",
       "  437.5\n",
       "  458.3333333333333\n",
       "  479.1666666666667\n",
       "  500.0"
      ]
     },
     "execution_count": 36,
     "metadata": {},
     "output_type": "execute_result"
    }
   ],
   "source": [
    "ζ_timeseries = FieldTimeSeries(slice_filenames.top, \"ζ\")\n",
    "U_timeseries = FieldTimeSeries(filename * \"_zonal_average.jld2\", \"u\")\n",
    "B_timeseries = FieldTimeSeries(filename * \"_zonal_average.jld2\", \"b\")\n",
    "V_timeseries = FieldTimeSeries(filename * \"_zonal_average.jld2\", \"v\")\n",
    "\n",
    "xζ, yζ, zζ = nodes(ζ_timeseries)\n",
    "yv = ynodes(V_timeseries)\n",
    "\n",
    "xζ = xζ ./ 1e3 # convert m -> km\n",
    "yζ = yζ ./ 1e3 # convert m -> km\n",
    "yv = yv ./ 1e3 # convert m -> km"
   ]
  },
  {
   "cell_type": "markdown",
   "metadata": {},
   "source": [
    "Next, we set up a plot with 4 panels. The top panels are large and square, while\n",
    "the bottom panels get a reduced aspect ratio through `rowsize!`."
   ]
  },
  {
   "cell_type": "code",
   "execution_count": 37,
   "metadata": {},
   "outputs": [],
   "source": [
    "set_theme!(Theme(fontsize=24))\n",
    "\n",
    "fig = Figure(size=(1800, 1000))\n",
    "\n",
    "axb = Axis(fig[1, 2], xlabel=\"x (km)\", ylabel=\"y (km)\", aspect=1)\n",
    "axζ = Axis(fig[1, 3], xlabel=\"x (km)\", ylabel=\"y (km)\", aspect=1, yaxisposition=:right)\n",
    "\n",
    "axu = Axis(fig[2, 2], xlabel=\"y (km)\", ylabel=\"z (m)\")\n",
    "axv = Axis(fig[2, 3], xlabel=\"y (km)\", ylabel=\"z (m)\", yaxisposition=:right)\n",
    "\n",
    "rowsize!(fig.layout, 2, Relative(0.3))"
   ]
  },
  {
   "cell_type": "markdown",
   "metadata": {},
   "source": [
    "To prepare a plot for animation, we index the timeseries with an `Observable`,"
   ]
  },
  {
   "cell_type": "code",
   "execution_count": 38,
   "metadata": {},
   "outputs": [
    {
     "data": {
      "text/plain": [
       "Observable([-0.009356032125651836 -0.008129765279591084 … -0.0018718086648732424 -0.0006242989911697805; -0.009357718750834465 -0.008136168122291565 … -0.0018735419725999236 -0.0006295255734585226; … ; 0.0006140022305771708 0.0018799222307279706 … 0.008118994534015656 0.009352299384772778; 0.0006561308982782066 0.0018634278094395995 … 0.008142842911183834 0.00938759371638298])\n"
      ]
     },
     "execution_count": 38,
     "metadata": {},
     "output_type": "execute_result"
    }
   ],
   "source": [
    "n = Observable(1)\n",
    "\n",
    "b_top = @lift interior(b_timeserieses.top[$n], :, :, 1)\n",
    "ζ_top = @lift interior(ζ_timeseries[$n], :, :, 1)\n",
    "U = @lift interior(U_timeseries[$n], 1, :, :)\n",
    "V = @lift interior(V_timeseries[$n], 1, :, :)\n",
    "B = @lift interior(B_timeseries[$n], 1, :, :)"
   ]
  },
  {
   "cell_type": "markdown",
   "metadata": {},
   "source": [
    "and then build our plot:"
   ]
  },
  {
   "cell_type": "code",
   "execution_count": 39,
   "metadata": {},
   "outputs": [],
   "source": [
    "hm = heatmap!(axb, xb, yb, b_top, colorrange=(0, Δb), colormap=:thermal)\n",
    "Colorbar(fig[1, 1], hm, flipaxis=false, label=\"Surface b(x, y) (m s⁻²)\")\n",
    "\n",
    "hm = heatmap!(axζ, xζ, yζ, ζ_top, colorrange=(-5e-5, 5e-5), colormap=:balance)\n",
    "Colorbar(fig[1, 4], hm, label=\"Surface ζ(x, y) (s⁻¹)\")\n",
    "\n",
    "hm = heatmap!(axu, yb, zb, U; colorrange=(-5e-1, 5e-1), colormap=:balance)\n",
    "Colorbar(fig[2, 1], hm, flipaxis=false, label=\"Zonally-averaged U(y, z) (m s⁻¹)\")\n",
    "contour!(axu, yb, zb, B; levels=15, color=:black)\n",
    "\n",
    "hm = heatmap!(axv, yv, zb, V; colorrange=(-1e-1, 1e-1), colormap=:balance)\n",
    "Colorbar(fig[2, 4], hm, label=\"Zonally-averaged V(y, z) (m s⁻¹)\")\n",
    "contour!(axv, yb, zb, B; levels=15, color=:black)\n",
    "nothing #hide"
   ]
  },
  {
   "cell_type": "markdown",
   "metadata": {},
   "source": [
    "Finally, we're ready to record the movie."
   ]
  },
  {
   "cell_type": "code",
   "execution_count": null,
   "metadata": {},
   "outputs": [],
   "source": [
    "frames = 1:length(times)\n",
    "\n",
    "record(fig, filename * \".gif\", frames, framerate=8) do i\n",
    "    n[] = i\n",
    "end\n",
    "\n",
    "display(MIME\"image/png\"(), read(open(filename * \".gif\")))"
   ]
  },
  {
   "cell_type": "markdown",
   "metadata": {},
   "source": [
    "![](baroclinic_adjustment.mp4)"
   ]
  },
  {
   "cell_type": "markdown",
   "metadata": {},
   "source": [
    "---\n",
    "\n",
    "*This notebook was generated using [Literate.jl](https://github.com/fredrikekre/Literate.jl).*"
   ]
  }
 ],
 "metadata": {
  "kernelspec": {
   "display_name": "Julia 1.10.8",
   "language": "julia",
   "name": "julia-1.10"
  },
  "language_info": {
   "file_extension": ".jl",
   "mimetype": "application/julia",
   "name": "julia",
   "version": "1.10.8"
  }
 },
 "nbformat": 4,
 "nbformat_minor": 4
}

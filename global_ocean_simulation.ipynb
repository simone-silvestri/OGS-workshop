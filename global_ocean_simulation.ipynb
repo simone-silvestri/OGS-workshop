{
 "cells": [
  {
   "cell_type": "markdown",
   "metadata": {},
   "source": [
    "# Realistic Ocean Simulations in pure Julia\n",
    "\n",
    "In this tutorial we will build a global ocean simulation using the ClimaOcean and Oceananigans Julia packages.\n",
    "The simulation will be at a nominal four-degree with parameterizations for mesoscale eddies and vertical mixing.\n",
    "We will set up the grid, download and interpolate the bathymetry,\n",
    "download forcing files, and finally set up and run the simulation"
   ]
  },
  {
   "cell_type": "markdown",
   "metadata": {},
   "source": [
    "### ***Bonus***\n",
    "At the end of the tutorial we will change the resolution to allow the spontaneous generation of eddies and\n",
    "remove the eddy parameterization to see some beautiful ocean turbulence develop! (make sure to have GPU access\n",
    "for this step!)"
   ]
  },
  {
   "cell_type": "markdown",
   "metadata": {},
   "source": [
    "## Required software\n",
    "\n",
    "The tutorial is quite computationally expensive, therefore, if you have\n",
    "access, it is recommended to run the tutorial on one GPU.\n",
    "However, for the purpose of understanding how the library works,\n",
    "a 4 degree global ocean model runs comfortably on a laptop."
   ]
  },
  {
   "cell_type": "markdown",
   "metadata": {},
   "source": [
    "## Packages:"
   ]
  },
  {
   "cell_type": "markdown",
   "metadata": {},
   "source": [
    "Let's start by importing the necessary packages, these are:\n",
    "- ClimaOcean: the ocean model\n",
    "- Oceananigans: the fluid dynamics library doing the heavy lifting\n",
    "- Printf: always useful for spitting out output\n",
    "- CairoMakie: visualization package to visualize the results"
   ]
  },
  {
   "cell_type": "code",
   "execution_count": null,
   "metadata": {},
   "outputs": [],
   "source": [
    "using Pkg\n",
    "Pkg.activate(\"./\")\n",
    "pkg\"add Oceananigans#ss/for-drakkar\"\n",
    "pkg\"add ClimaOcean#ss/for-ogs\"\n",
    "pkg\"add CairoMakie\"\n",
    "pkg\"add GLMakie\"\n",
    "\n",
    "using ClimaOcean\n",
    "using Oceananigans\n",
    "using Oceananigans.Units\n",
    "using Oceananigans.Grids\n",
    "using Dates\n",
    "using Printf\n",
    "using CairoMakie"
   ]
  },
  {
   "cell_type": "markdown",
   "metadata": {},
   "source": [
    "# Building a Global Ocean domain"
   ]
  },
  {
   "cell_type": "markdown",
   "metadata": {},
   "source": [
    "We will start building a global ocean in steps:\n",
    "- (1) specifying an **Architecture**\n",
    "- (2) choosing a **Vertical coordinate**\n",
    "- (2) Building a **Grid**\n",
    "- (3) Downloading an interpolating a **Bathymetry**"
   ]
  },
  {
   "cell_type": "markdown",
   "metadata": {},
   "source": [
    "### Architectures"
   ]
  },
  {
   "cell_type": "markdown",
   "metadata": {},
   "source": [
    "using an architecture is easy...\n",
    "it is possible to choose between:\n",
    "- (1) CPU\n",
    "- (2) GPU\n",
    "- (3) Distributed"
   ]
  },
  {
   "cell_type": "markdown",
   "metadata": {},
   "source": [
    "In this case, we select `CPU()`, which is always the right choice to start prototyping. Building the script on CPUs is better to catch potential bugs in the script.\n",
    "Once we know that everything works correctly, we can just change the following line to `arch = GPU()`, and voilá, the simulation runs on GPUs"
   ]
  },
  {
   "cell_type": "code",
   "execution_count": null,
   "metadata": {},
   "outputs": [],
   "source": [
    "arch = CPU()"
   ]
  },
  {
   "cell_type": "markdown",
   "metadata": {},
   "source": [
    "### Vertical coordinates"
   ]
  },
  {
   "cell_type": "markdown",
   "metadata": {},
   "source": [
    "Oceananigans currently supports only $z$ and $z^\\star$ coordinates.\n",
    "ClimaOcean provides a simple utility to build a simple exponential vertical coordinate"
   ]
  },
  {
   "cell_type": "code",
   "execution_count": null,
   "metadata": {},
   "outputs": [],
   "source": [
    "depth = 5000meters\n",
    "Nz    = 10\n",
    "h     = 3\n",
    "\n",
    "r_faces = ClimaOcean.exponential_z_faces(; Nz, h, depth)"
   ]
  },
  {
   "cell_type": "markdown",
   "metadata": {},
   "source": [
    "To use z-star coordinates we need to use a `z_faces = MutableVerticalDiscetization(r_faces)`, as opposed to a to\n",
    "a `StaticVerticalDiscretization`, to set up the data structures required for a free-surface\n",
    "following vertical coordinate."
   ]
  },
  {
   "cell_type": "code",
   "execution_count": null,
   "metadata": {},
   "outputs": [],
   "source": [
    "z_faces = MutableVerticalDiscretization(r_faces)"
   ]
  },
  {
   "cell_type": "markdown",
   "metadata": {},
   "source": [
    "## Building a grid"
   ]
  },
  {
   "cell_type": "markdown",
   "metadata": {},
   "source": [
    "ClimaOcean allows building ocean simulations on three different grid types:\n",
    "- `RectilinearGrid`s which represent a _box_ or a Cartesian domain\n",
    "- `LatitudeLongitudeGrid`s, which discretizes the sphere along latitude and longitude lines\n",
    "- `OrthogonalSphericalShellGrid`s which discretize the sphere with two-dimensional coordinates that do not need to follow latitude and longitude lines.\n",
    "   The only constraint is that the grid must be locally orthogonal in the horizontal direction.\n",
    "\n",
    "`LatitudeLongitudeGrid`s are the easiest grids to work with since coordinates are one-dimensional and globally orthogonal.\n",
    "(i.e. latitude depends only on the `j`-index and longitude depends only on the `i`-index)\n",
    "However, `LatitudeLongitudeGrid`s have the problem of the zonal spacing approaching zero as we move to the poles.\n",
    "\n",
    "For this reason, to represent a global ocean we use a specific type of `OrthogonalSphericalShellGrid`,\n",
    "called `TripolarGrid` that discretizes the sphere as a set of perpendicular ellipses and hyperbolae.\n",
    "\n",
    "Let's build a coarse `TripolarGrid` (about 4 degree resolution).\n",
    "We pass to the grid, the architecture, the floating point precision, the size of the grid, and the vertical coordinate."
   ]
  },
  {
   "cell_type": "code",
   "execution_count": null,
   "metadata": {},
   "outputs": [],
   "source": [
    "Nx = 256 # longitudinal direction -> 256 points is about 1.5ᵒ resolution\n",
    "Ny = 128 # meridional direction -> same thing, 128 points is about 1.5ᵒ resolution\n",
    "Nz   = length(r_faces) - 1\n",
    "grid = TripolarGrid(arch, Float64; size=(Nx, Ny, Nz), z=z_faces)"
   ]
  },
  {
   "cell_type": "markdown",
   "metadata": {},
   "source": [
    "#### Let's visualize the grid using CairoMakie"
   ]
  },
  {
   "cell_type": "code",
   "execution_count": null,
   "metadata": {},
   "outputs": [],
   "source": [
    "cartesian_nodes, _ = Oceananigans.Utils.get_cartesian_nodes_and_vertices(grid, Face(), Face(), Center())\n",
    "xF, yF, zF = cartesian_nodes\n",
    "\n",
    "cartesian_nodes, _ = Oceananigans.Utils.get_cartesian_nodes_and_vertices(grid, Center(), Center(), Center())\n",
    "xC, yC, zC = cartesian_nodes\n",
    "\n",
    "φ = Oceananigans.Grids.φnodes(grid, Center(), Center())\n",
    "λ = Oceananigans.Grids.λnodes(grid, Center(), Center())\n",
    "\n",
    "fig = Figure(size=(1200, 300))\n",
    "axC = Axis(fig[1, 1])\n",
    "[vlines!(axC, i, color = :green, linewidth=0.5) for i in 1:5:Nx]\n",
    "[hlines!(axC, j, color = :green, linewidth=0.5) for j in 1:5:Ny]\n",
    "contour!(axC, φ, levels=-80:10:90, color=:blue, linewidth=0.8)\n",
    "contour!(axC, λ, levels=0:10:360,  color=:blue, linewidth=0.8)\n",
    "xlims!(axC, 1, Nx-1)\n",
    "ylims!(axC, 1, Ny-1)\n",
    "\n",
    "display(fig)"
   ]
  },
  {
   "cell_type": "markdown",
   "metadata": {},
   "source": [
    "## Adding a bathymetry to the grid\n",
    "\n",
    "ClimaOcean provides a nifty utility to regrid the bathymetry over the grid, the `regrid_bathymetry` function.\n",
    "By default ClimaOcean downloads the ETOPO_2022 bathymetry at 1/60ᵒ resolution (459 MB) from the NOAA servers.\n",
    "However, since the servers are quite busy, I have uploaded a lower resolution version file to dropbox.\n",
    "!!! NOTE: This will download the ETOPO_2022 bathymetry, so make sure that you have an internet connection"
   ]
  },
  {
   "cell_type": "code",
   "execution_count": null,
   "metadata": {},
   "outputs": [],
   "source": [
    "url = \"https://www.dropbox.com/scl/fi/91efwekaf5uhi2hsbxgey/downsampled_bathymetry.nc?rlkey=imnun7xb5eisl3fxbwmwws9le&st=1hbyp98p&dl=0\"\n",
    "filename = isfile(\"downsampled_bathymetry.nc\") ? \"downsampled_bathymetry.nc\" : download(url, \"downsampled_bathymetry.nc\")\n",
    "\n",
    "bottom_height = regrid_bathymetry(grid; minimum_depth=15, major_basins=1, filename, dir=\"./\")\n",
    "fig = Figure(size = (800, 400))\n",
    "ax  = Axis(fig[1, 1])\n",
    "heatmap!(ax, interior(bottom_height, :, :, 1), colormap=:deep)\n",
    "display(fig)\n",
    "\n",
    "grid = ImmersedBoundaryGrid(grid, GridFittedBottom(bottom_height); active_cells_map=true)"
   ]
  },
  {
   "cell_type": "markdown",
   "metadata": {},
   "source": [
    "# Configuring an Ocean model\n",
    "\n",
    "### Numerical details\n",
    "\n",
    "Oceananigans allows several numerical options.\n",
    "We use a WENO schemes for the advection of momentum and\n",
    "a centered scheme for tracer advection, to avoid implicit diapycnal diffusion of tracers.\n",
    "Stability in the momentum field is ensured by the WENO method. For the tracer field, since the centered\n",
    "scheme is dispersive, we need to add some explicit diffusion to avoid numerical instabilities."
   ]
  },
  {
   "cell_type": "code",
   "execution_count": null,
   "metadata": {},
   "outputs": [],
   "source": [
    "momentum_advection = WENOVectorInvariant(order=3)\n",
    "tracer_advection   = Centered()\n",
    "\n",
    "free_surface = SplitExplicitFreeSurface(grid; substeps=30)"
   ]
  },
  {
   "cell_type": "markdown",
   "metadata": {},
   "source": [
    "### Physical parameterizations\n",
    "\n",
    "We add a GM parameterization for mesoscale eddies and a CATKE vertical mixing scheme.\n",
    "All the closures require passing also the desired floating point precision of the model"
   ]
  },
  {
   "cell_type": "code",
   "execution_count": null,
   "metadata": {},
   "outputs": [],
   "source": [
    "using Oceananigans.TurbulenceClosures: IsopycnalSkewSymmetricDiffusivity,\n",
    "                                       ExplicitTimeDiscretization,\n",
    "                                       DiffusiveFormulation\n",
    "\n",
    "using Oceananigans.TurbulenceClosures.TKEBasedVerticalDiffusivities: CATKEVerticalDiffusivity\n",
    "\n",
    "eddy_closure = IsopycnalSkewSymmetricDiffusivity(κ_skew=1e3, κ_symmetric=1e3, skew_flux_formulation=DiffusiveFormulation())\n",
    "vertical_mixing = CATKEVerticalDiffusivity()\n",
    "\n",
    "closure = (eddy_closure, vertical_mixing)"
   ]
  },
  {
   "cell_type": "markdown",
   "metadata": {},
   "source": [
    "### Building the ocean simulation\n",
    "\n",
    "ClimaOcean provides a utility to build an ocean simulation with all the necessary components.\n",
    "The function `ocean_simulation` returns a `Simulation` object of a `HydrostaticFreeSurfaceModel` that has\n",
    "all the necessary components (BC, drag, etc) to run a global ocean simulation."
   ]
  },
  {
   "cell_type": "code",
   "execution_count": null,
   "metadata": {},
   "outputs": [],
   "source": [
    "ocean = ocean_simulation(grid;\n",
    "                         momentum_advection,\n",
    "                         tracer_advection,\n",
    "                         closure,\n",
    "                         free_surface)"
   ]
  },
  {
   "cell_type": "markdown",
   "metadata": {},
   "source": [
    "### Initialize our Ocean\n",
    "\n",
    "We use ECCO climatology to initialize the temperature and salinity fields.\n",
    "We can use the metadata we defined earlier to set the initial conditions.\n",
    "We use ECCO climatology to initialize the temperature and salinity fields. \n",
    "We can use the metadata we defined earlier to set the initial conditions. \n",
    "To do this we need to be able to download ECCO data. This is done automatically by `ClimaOcean` \n",
    "provided that you have credentials to access the ECCO data. To do so, follow the instructions detailed in\n",
    "**https://github.com/CliMA/ClimaOcean.jl/blob/main/src/DataWrangling/ECCO/README.md**.\n",
    "If this is not possible I have prepared already inpainted files to use as initial conditions.\n",
    "They can be donwloaded by uncommenting the following lines:"
   ]
  },
  {
   "cell_type": "code",
   "execution_count": null,
   "metadata": {},
   "outputs": [],
   "source": [
    "# download(\"https://www.dropbox.com/scl/fi/rcvf3ryegvxlm8gnga87l/SALT_1993_01_inpainted.jld2?rlkey=ctz2ty1yh6yksse1izd7l7ltd&st=skmv636j&dl=0\", \"./SALT_1993_01_inpainted.jld2\")\n",
    "# download(\"https://www.dropbox.com/scl/fi/3m9sw2lk149zgat6p8nil/SALT_1993_01.nc?rlkey=j1bz8zttg5n5lb1dhi547b2vh&st=ootshgfb&dl=0\", \"./SALT_1993_01.nc\")\n",
    "# download(\"https://www.dropbox.com/scl/fi/kmucmk4wb5cd1ckez6ts7/THETA_1993_01_inpainted.jld2?rlkey=v04dxmkgnrve5ob0boe6b52jp&st=wpdksush&dl=0\", \"./THETA_1993_01_inpainted.jld2\")\n",
    "# download(\"https://www.dropbox.com/scl/fi/6yzx1fvfk5b6ygyhi4sin/THETA_1993_01.nc?rlkey=euca05m5deb4kl8ylmg5nkasx&st=b4ooh3rd&dl=0\", \"./THETA_1993_01.nc\")"
   ]
  },
  {
   "cell_type": "code",
   "execution_count": null,
   "metadata": {},
   "outputs": [],
   "source": [
    "using ClimaOcean.ECCO\n",
    "\n",
    "temperature = Metadata(:temperature; dir=\"./\", dataset=ECCO4Monthly())\n",
    "salinity    = Metadata(:salinity;    dir=\"./\", dataset=ECCO4Monthly())\n",
    "\n",
    "set!(ocean.model, T=temperature, S=salinity) "
   ]
  },
  {
   "cell_type": "markdown",
   "metadata": {},
   "source": [
    "### Visualizing the initial conditions\n",
    "\n",
    "Let's visualize the surface of our initialized ocean model"
   ]
  },
  {
   "cell_type": "code",
   "execution_count": null,
   "metadata": {},
   "outputs": [],
   "source": [
    "fig = Figure(size = (2000, 800))\n",
    "axT = Axis(fig[1, 1])\n",
    "axS = Axis(fig[1, 2])\n",
    "\n",
    "hmT = heatmap!(axT, interior(ocean.model.tracers.T, :, :, grid.Nz), colorrange=(-1, 30), colormap=:magma)\n",
    "hmS = heatmap!(axS, interior(ocean.model.tracers.S, :, :, grid.Nz), colorrange=(28, 38), colormap=:haline)\n",
    "Colorbar(fig[0, 1], hmT, vertical=false, label=\"Surface temperature ᵒC\")\n",
    "Colorbar(fig[0, 2], hmS, vertical=false, label=\"Surface salinity psu\")\n",
    "\n",
    "display(fig)"
   ]
  },
  {
   "cell_type": "markdown",
   "metadata": {},
   "source": [
    "# Adding an atmosphere\n",
    "\n",
    "ClimaOcean is a prototype for a coupled earth system model.\n",
    "It couples an atmosphere to an ocean and computes air-sea fluxes using bulk formulae.\n",
    "At the moment, ClimaOcean provides a utility to download the JRA55 atmospheric reanalysis\n",
    "and use it as a prescribed atmosphere.\n",
    "\n",
    "!!! NOTE: This will download the JRA55 atmospheric reanalysis, so make sure that you have an internet connection (and enough disk space)\n",
    "\n",
    "We use an idealized atmosphere for this tutorial to avoid downloading the JRA55 data (~15GB)."
   ]
  },
  {
   "cell_type": "code",
   "execution_count": null,
   "metadata": {},
   "outputs": [],
   "source": [
    "atmos_grid  = LatitudeLongitudeGrid(arch, Float32; size=(320, 200), latitude=(-90, 90), longitude=(0, 360), topology=(Periodic, Bounded, Flat))\n",
    "atmos_times = range(0, 360Oceananigans.Units.days, length=10)\n",
    "atmosphere  = PrescribedAtmosphere(atmos_grid, atmos_times)"
   ]
  },
  {
   "cell_type": "markdown",
   "metadata": {},
   "source": [
    "We set up the atmosphere with an idealized temperature and wind speed that do not change in time."
   ]
  },
  {
   "cell_type": "code",
   "execution_count": null,
   "metadata": {},
   "outputs": [],
   "source": [
    "Tₐ(λ, φ) = 220 + cosd(φ)^2 * 80\n",
    "uₐ(λ, φ) = 10 * sind(2φ)^2\n",
    "qₐ(λ, φ) = cosd(φ) * 3e-2\n",
    "\n",
    "for t in eachindex(atmos_times)\n",
    "    set!(atmosphere.tracers.T[t],    Tₐ)\n",
    "    set!(atmosphere.tracers.q[t],    qₐ)\n",
    "    set!(atmosphere.velocities.u[t], uₐ)\n",
    "\n",
    "    Oceananigans.BoundaryConditions.fill_halo_regions!(atmosphere.tracers.T[t])\n",
    "    Oceananigans.BoundaryConditions.fill_halo_regions!(atmosphere.tracers.q[t])\n",
    "    Oceananigans.BoundaryConditions.fill_halo_regions!(atmosphere.velocities.u[t])\n",
    "end"
   ]
  },
  {
   "cell_type": "markdown",
   "metadata": {},
   "source": [
    "To use the JRA55 atmosphere, comment the above lines and uncomment the following line:\n"
   ]
  },
  {
   "cell_type": "code",
   "execution_count": null,
   "metadata": {},
   "outputs": [],
   "source": [
    "# atmosphere = JRA55PrescribedAtmosphere(arch; dir=\"./\")"
   ]
  },
  {
   "cell_type": "markdown",
   "metadata": {},
   "source": [
    "If we had a realistic atmosphere we would add radiative properties, however, since we do not have\n",
    "downwelling radiation, we set it to nothing. If using a `JRA55PrescribedAtmosphere`, uncomment the first line and comment the second"
   ]
  },
  {
   "cell_type": "code",
   "execution_count": null,
   "metadata": {},
   "outputs": [],
   "source": [
    "# radiation = Radiation(ocean_albedo = LatitudeDependentAlbedo())\n",
    "radiation = Radiation(ocean_albedo=1, ocean_emissivity=0) "
   ]
  },
  {
   "cell_type": "markdown",
   "metadata": {},
   "source": [
    "### Coupling the atmosphere to the ocean\n",
    "\n",
    "The `OceanSeaIceModel` is an `AbstractModel` defined in ClimaOcean that couples an ocean to an atmosphere and a sea ice component.\n",
    "For the moment, the sea-ice component is not implemented, so we will only couple the ocean to the atmosphere.\n",
    "Instead of the sea ice model, we limit the temperature of the ocean to the freezing temperature."
   ]
  },
  {
   "cell_type": "code",
   "execution_count": null,
   "metadata": {},
   "outputs": [],
   "source": [
    "earth_model = OceanSeaIceModel(ocean; atmosphere, radiation)"
   ]
  },
  {
   "cell_type": "markdown",
   "metadata": {},
   "source": [
    "### Building the simulation\n",
    "\n",
    "We build the simulation out of the `earth_model` as we would do for any other Oceananigans model.\n",
    "We start with a smallish time-step (5 minutes) and run only for 2 days to dissipate initialization shocks."
   ]
  },
  {
   "cell_type": "code",
   "execution_count": null,
   "metadata": {},
   "outputs": [],
   "source": [
    "earth = Simulation(earth_model; Δt=30minutes, stop_time=30days)"
   ]
  },
  {
   "cell_type": "markdown",
   "metadata": {},
   "source": [
    "### Adding some diagnostics\n",
    "\n",
    "We add a callback to save surface fields as well as surface fluxes, every 6 hours"
   ]
  },
  {
   "cell_type": "code",
   "execution_count": null,
   "metadata": {},
   "outputs": [],
   "source": [
    "u, v, _ = ocean.model.velocities\n",
    "T = ocean.model.tracers.T\n",
    "S = ocean.model.tracers.S\n",
    "s = sqrt(u^2 + v^2)\n",
    "\n",
    "η = ocean.model.free_surface.η\n",
    "\n",
    "earth.output_writers[:surface_tracers] = JLD2OutputWriter(ocean.model, (; T, S, s),\n",
    "                                                          schedule = TimeInterval(12hours),\n",
    "                                                          indices = (:, :, grid.Nz),\n",
    "                                                          overwrite_existing = true,\n",
    "                                                          filename = \"surface_fields.jld2\")\n",
    "\n",
    "\n",
    "earth.output_writers[:free_surface] = JLD2OutputWriter(ocean.model, (; η),\n",
    "                                                       schedule = TimeInterval(12hours),\n",
    "                                                       overwrite_existing = true,\n",
    "                                                       filename = \"free_surface.jld2\")\n",
    "\n",
    "Q  = earth.model.interfaces.net_fluxes.ocean_surface.Q\n",
    "τx = earth.model.interfaces.net_fluxes.ocean_surface.u\n",
    "τy = earth.model.interfaces.net_fluxes.ocean_surface.v\n",
    "PE = earth.model.interfaces.net_fluxes.ocean_surface.S\n",
    "\n",
    "earth.output_writers[:fluxes] = JLD2OutputWriter(ocean.model, (; Q, τx, τy, PE),\n",
    "                                                 schedule = TimeInterval(12hours),\n",
    "                                                 overwrite_existing = true,\n",
    "                                                 filename = \"surface_fluxes.jld2\")"
   ]
  },
  {
   "cell_type": "markdown",
   "metadata": {},
   "source": [
    "Also, we add a callback to print a message about how the simulation is going"
   ]
  },
  {
   "cell_type": "code",
   "execution_count": null,
   "metadata": {},
   "outputs": [],
   "source": [
    "wall_time = [time_ns()]\n",
    "\n",
    "function progress(earth)\n",
    "    clock   = earth.model.clock\n",
    "\n",
    "    maxu = maximum(abs, u)\n",
    "    maxv = maximum(abs, v)\n",
    "    maxT = maximum(T)\n",
    "    minS = minimum(S)\n",
    "\n",
    "    @info @sprintf(\"Iteration: %d, time: %s, wall_time: %s, max(|u|, |v|): %.2e %.2e max(T): %.2e, min(S): %.2e\\n\",\n",
    "                   clock.iteration, prettytime(clock.time), prettytime(1e-9 * (time_ns() - wall_time[1])), maxu, maxv, maxT, minS)\n",
    "\n",
    "    wall_time[1] = time_ns()\n",
    "end\n",
    "\n",
    "add_callback!(earth, progress, IterationInterval(10))"
   ]
  },
  {
   "cell_type": "markdown",
   "metadata": {},
   "source": [
    "### Running the simulation\n",
    "\n",
    "quite simply"
   ]
  },
  {
   "cell_type": "code",
   "execution_count": null,
   "metadata": {},
   "outputs": [],
   "source": [
    "run!(earth)"
   ]
  },
  {
   "cell_type": "markdown",
   "metadata": {},
   "source": [
    "## Visualizing the results\n",
    "\n",
    "We can visualize the results using CairoMakie. We record a video of surface variables and fluxes.\n",
    "To load the data we can use Oceananigans' `FieldTimeSeries` object."
   ]
  },
  {
   "cell_type": "code",
   "execution_count": null,
   "metadata": {},
   "outputs": [],
   "source": [
    "using JLD2\n",
    "using Oceananigans\n",
    "using Oceananigans.Grids: halo_size\n",
    "using CairoMakie\n",
    "using Statistics: mean\n",
    "\n",
    "file  = jldopen(\"free_surface.jld2\")\n",
    "iters = keys(file[\"timeseries/t\"])\n",
    "\n",
    "Hx, Hy, _ = halo_size(η.grid)\n",
    "T  = FieldTimeSeries(\"surface_fields.jld2\", \"T\")\n",
    "S  = FieldTimeSeries(\"surface_fields.jld2\", \"S\")\n",
    "s  = FieldTimeSeries(\"surface_fields.jld2\", \"s\")\n",
    "\n",
    "n  = Observable(1)\n",
    "Tn = @lift(interior(T[$n], :, :, 1))\n",
    "Sn = @lift(interior(S[$n], :, :, 1))\n",
    "sn = @lift(interior(s[$n], :, :, 1))\n",
    "ηn = @lift(file[\"timeseries/η/\" * iters[$n]][Hx+1:end-Hx, Hy+1:end-Hy, 1])\n",
    "\n",
    "fig = Figure(size = (1800, 800))\n",
    "axT = Axis(fig[1, 1], title=\"Surface temperature ᵒC\")\n",
    "axS = Axis(fig[1, 2], title=\"Surface salinity psu\")\n",
    "axs = Axis(fig[2, 1], title=\"Surface speed ms⁻¹\")\n",
    "axη = Axis(fig[2, 2], title=\"Sea surface height m\")\n",
    "\n",
    "λ, φ, z = nodes(T[1])\n",
    "\n",
    "hmT = heatmap!(axT, Tn, colormap=:magma,  colorrange=(-1, 30))\n",
    "hmS = heatmap!(axS, Sn, colormap=:haline, colorrange=(25, 40))\n",
    "hms = heatmap!(axs, sn, colormap=:deep,   colorrange=( 0, 0.8))\n",
    "hmη = heatmap!(axη, ηn, colormap=:bwr,    colorrange=(-1, 1))\n",
    "\n",
    "CairoMakie.record(fig, \"surface_fields.gif\", 1:length(T.times); framerate=5) do i\n",
    "    @info \"doing $i of $(length(T.times))\"\n",
    "    n[] = i\n",
    "end"
   ]
  },
  {
   "cell_type": "code",
   "execution_count": null,
   "metadata": {},
   "outputs": [],
   "source": [
    "display(MIME\"image/png\"(), read(open(\"surface_fields.gif\")))"
   ]
  },
  {
   "cell_type": "markdown",
   "metadata": {},
   "source": [
    "let's also visualize the surface fluxes that force the model"
   ]
  },
  {
   "cell_type": "code",
   "execution_count": null,
   "metadata": {},
   "outputs": [],
   "source": [
    "Q  = FieldTimeSeries(\"surface_fluxes.jld2\", \"Q\")\n",
    "τx = FieldTimeSeries(\"surface_fluxes.jld2\", \"τx\")\n",
    "τy = FieldTimeSeries(\"surface_fluxes.jld2\", \"τy\")\n",
    "PE = FieldTimeSeries(\"surface_fluxes.jld2\", \"PE\")\n",
    "\n",
    "Qn  = @lift(interior(Q[$n],  :, :, 1))\n",
    "τxn = @lift(interior(τx[$n], :, :, 1))\n",
    "τyn = @lift(interior(τy[$n], :, :, 1))\n",
    "PEn = @lift(interior(PE[$n], :, :, 1))\n",
    "\n",
    "fig  = Figure(size = (1800, 800))\n",
    "axQ  = Axis(fig[1, 1], title=\"Net heat flux Wm⁻²\")\n",
    "axPE = Axis(fig[1, 2], title=\"Net salt flux psu m s⁻¹\")\n",
    "axτx = Axis(fig[2, 1], title=\"Zonal wind stress Nm⁻²\")\n",
    "axτy = Axis(fig[2, 2], title=\"Meridional wind stress Nm⁻²\")\n",
    "\n",
    "hmQ  = heatmap!(axQ,  Qn,  colormap=:magma,   colorrange=(-800,  800))\n",
    "hmPE = heatmap!(axPE, PEn, colormap=:haline,  colorrange=(-1e-5, 5e-5))\n",
    "hmτx = heatmap!(axτx, τxn, colormap=:balance, colorrange=(-5e-4, 5e-4))\n",
    "hmτy = heatmap!(axτy, τyn, colormap=:balance, colorrange=(-5e-4, 5e-4))\n",
    "\n",
    "CairoMakie.record(fig, \"surface_fluxes.mp4\", 1:length(Q.times); framerate=5) do i\n",
    "    @info \"doing $i of $(length(Q.times))\"\n",
    "    n[] = i\n",
    "end"
   ]
  },
  {
   "cell_type": "markdown",
   "metadata": {},
   "source": [
    "Let's visualize the internal structure of temperature and salinity"
   ]
  },
  {
   "cell_type": "code",
   "execution_count": null,
   "metadata": {},
   "outputs": [],
   "source": [
    "x, y, z = nodes(ocean.model.tracers.T)\n",
    "\n",
    "fig = Figure(size = (1200, 400))\n",
    "axT = Axis(fig[1, 1], title=\"Internal temperature structure ᵒC\")\n",
    "axS = Axis(fig[1, 2], title=\"Internal salinity structure psu\")\n",
    "\n",
    "contourf!(axT, 1:128, z, interior(mean(ocean.model.tracers.T, dims=1), 1, :, :), colormap=:magma)\n",
    "contourf!(axS, 1:128, z, interior(mean(ocean.model.tracers.S, dims=1), 1, :, :), colormap=:haline)\n",
    "display(fig)"
   ]
  },
  {
   "cell_type": "markdown",
   "metadata": {},
   "source": [
    "# Running a high-resolution simulation\n",
    "\n",
    "What are the steps to modify the above script to run an eddying (quarter degree) simulation?"
   ]
  }
 ],
 "metadata": {
  "kernelspec": {
   "display_name": "MyJulia O0 1.10.8",
   "language": "julia",
   "name": "myjulia-o0-1.10"
  },
  "language_info": {
   "file_extension": ".jl",
   "mimetype": "application/julia",
   "name": "julia",
   "version": "1.10.8"
  }
 },
 "nbformat": 4,
 "nbformat_minor": 4
}
